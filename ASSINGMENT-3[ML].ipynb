{
 "cells": [
  {
   "cell_type": "markdown",
   "metadata": {},
   "source": [
    "!!! Assignment-3: Linear Models\n",
    ".........> House Rental Prediction\n",
    "1. Let's create a ML model to predict rent of house.\n",
    "2. Here is the data - Link\n",
    "3. Make sure you do data wrangling & get useful insights/visualizations\n",
    "4. Create models using Linear Regressions or variations of it\n",
    "5. Think harder about data preprocessing"
   ]
  },
  {
   "cell_type": "markdown",
   "metadata": {},
   "source": [
    "Importing Necessory modules"
   ]
  },
  {
   "cell_type": "code",
   "execution_count": 651,
   "metadata": {},
   "outputs": [],
   "source": [
    "import pandas as pd\n",
    "import numpy as np\n",
    "import matplotlib.pyplot as plt\n",
    "import seaborn as sns\n",
    "import sklearn as sk\n",
    "import scipy as sp"
   ]
  },
  {
   "cell_type": "code",
   "execution_count": 652,
   "metadata": {},
   "outputs": [
    {
     "data": {
      "text/html": [
       "<div>\n",
       "<style scoped>\n",
       "    .dataframe tbody tr th:only-of-type {\n",
       "        vertical-align: middle;\n",
       "    }\n",
       "\n",
       "    .dataframe tbody tr th {\n",
       "        vertical-align: top;\n",
       "    }\n",
       "\n",
       "    .dataframe thead th {\n",
       "        text-align: right;\n",
       "    }\n",
       "</style>\n",
       "<table border=\"1\" class=\"dataframe\">\n",
       "  <thead>\n",
       "    <tr style=\"text-align: right;\">\n",
       "      <th></th>\n",
       "      <th>Unnamed: 0</th>\n",
       "      <th>Sqft</th>\n",
       "      <th>Floor</th>\n",
       "      <th>TotalFloor</th>\n",
       "      <th>Bedroom</th>\n",
       "      <th>Living.Room</th>\n",
       "      <th>Bathroom</th>\n",
       "      <th>Price</th>\n",
       "    </tr>\n",
       "  </thead>\n",
       "  <tbody>\n",
       "    <tr>\n",
       "      <th>0</th>\n",
       "      <td>1</td>\n",
       "      <td>1177.698</td>\n",
       "      <td>2</td>\n",
       "      <td>7</td>\n",
       "      <td>2</td>\n",
       "      <td>2</td>\n",
       "      <td>2</td>\n",
       "      <td>62000</td>\n",
       "    </tr>\n",
       "    <tr>\n",
       "      <th>1</th>\n",
       "      <td>2</td>\n",
       "      <td>2134.800</td>\n",
       "      <td>5</td>\n",
       "      <td>7</td>\n",
       "      <td>4</td>\n",
       "      <td>2</td>\n",
       "      <td>2</td>\n",
       "      <td>78000</td>\n",
       "    </tr>\n",
       "    <tr>\n",
       "      <th>2</th>\n",
       "      <td>3</td>\n",
       "      <td>1138.560</td>\n",
       "      <td>5</td>\n",
       "      <td>7</td>\n",
       "      <td>2</td>\n",
       "      <td>2</td>\n",
       "      <td>1</td>\n",
       "      <td>58000</td>\n",
       "    </tr>\n",
       "    <tr>\n",
       "      <th>3</th>\n",
       "      <td>4</td>\n",
       "      <td>1458.780</td>\n",
       "      <td>2</td>\n",
       "      <td>7</td>\n",
       "      <td>3</td>\n",
       "      <td>2</td>\n",
       "      <td>2</td>\n",
       "      <td>45000</td>\n",
       "    </tr>\n",
       "    <tr>\n",
       "      <th>4</th>\n",
       "      <td>5</td>\n",
       "      <td>967.776</td>\n",
       "      <td>11</td>\n",
       "      <td>14</td>\n",
       "      <td>3</td>\n",
       "      <td>2</td>\n",
       "      <td>2</td>\n",
       "      <td>45000</td>\n",
       "    </tr>\n",
       "  </tbody>\n",
       "</table>\n",
       "</div>"
      ],
      "text/plain": [
       "   Unnamed: 0      Sqft  Floor  TotalFloor  Bedroom  Living.Room  Bathroom  \\\n",
       "0           1  1177.698      2           7        2            2         2   \n",
       "1           2  2134.800      5           7        4            2         2   \n",
       "2           3  1138.560      5           7        2            2         1   \n",
       "3           4  1458.780      2           7        3            2         2   \n",
       "4           5   967.776     11          14        3            2         2   \n",
       "\n",
       "   Price  \n",
       "0  62000  \n",
       "1  78000  \n",
       "2  58000  \n",
       "3  45000  \n",
       "4  45000  "
      ]
     },
     "execution_count": 652,
     "metadata": {},
     "output_type": "execute_result"
    }
   ],
   "source": [
    "df = pd.read_csv(\"C:\\\\Users\\\\sneha\\\\Downloads\\\\house_rental_data.csv\")\n",
    "df.head()"
   ]
  },
  {
   "cell_type": "code",
   "execution_count": 653,
   "metadata": {},
   "outputs": [],
   "source": [
    "df.drop('Unnamed: 0', axis=1, inplace= True)"
   ]
  },
  {
   "cell_type": "code",
   "execution_count": 654,
   "metadata": {},
   "outputs": [
    {
     "data": {
      "text/html": [
       "<div>\n",
       "<style scoped>\n",
       "    .dataframe tbody tr th:only-of-type {\n",
       "        vertical-align: middle;\n",
       "    }\n",
       "\n",
       "    .dataframe tbody tr th {\n",
       "        vertical-align: top;\n",
       "    }\n",
       "\n",
       "    .dataframe thead th {\n",
       "        text-align: right;\n",
       "    }\n",
       "</style>\n",
       "<table border=\"1\" class=\"dataframe\">\n",
       "  <thead>\n",
       "    <tr style=\"text-align: right;\">\n",
       "      <th></th>\n",
       "      <th>Sqft</th>\n",
       "      <th>Floor</th>\n",
       "      <th>TotalFloor</th>\n",
       "      <th>Bedroom</th>\n",
       "      <th>Living.Room</th>\n",
       "      <th>Bathroom</th>\n",
       "      <th>Price</th>\n",
       "    </tr>\n",
       "  </thead>\n",
       "  <tbody>\n",
       "    <tr>\n",
       "      <th>0</th>\n",
       "      <td>1177.698</td>\n",
       "      <td>2</td>\n",
       "      <td>7</td>\n",
       "      <td>2</td>\n",
       "      <td>2</td>\n",
       "      <td>2</td>\n",
       "      <td>62000</td>\n",
       "    </tr>\n",
       "    <tr>\n",
       "      <th>1</th>\n",
       "      <td>2134.800</td>\n",
       "      <td>5</td>\n",
       "      <td>7</td>\n",
       "      <td>4</td>\n",
       "      <td>2</td>\n",
       "      <td>2</td>\n",
       "      <td>78000</td>\n",
       "    </tr>\n",
       "    <tr>\n",
       "      <th>2</th>\n",
       "      <td>1138.560</td>\n",
       "      <td>5</td>\n",
       "      <td>7</td>\n",
       "      <td>2</td>\n",
       "      <td>2</td>\n",
       "      <td>1</td>\n",
       "      <td>58000</td>\n",
       "    </tr>\n",
       "    <tr>\n",
       "      <th>3</th>\n",
       "      <td>1458.780</td>\n",
       "      <td>2</td>\n",
       "      <td>7</td>\n",
       "      <td>3</td>\n",
       "      <td>2</td>\n",
       "      <td>2</td>\n",
       "      <td>45000</td>\n",
       "    </tr>\n",
       "    <tr>\n",
       "      <th>4</th>\n",
       "      <td>967.776</td>\n",
       "      <td>11</td>\n",
       "      <td>14</td>\n",
       "      <td>3</td>\n",
       "      <td>2</td>\n",
       "      <td>2</td>\n",
       "      <td>45000</td>\n",
       "    </tr>\n",
       "  </tbody>\n",
       "</table>\n",
       "</div>"
      ],
      "text/plain": [
       "       Sqft  Floor  TotalFloor  Bedroom  Living.Room  Bathroom  Price\n",
       "0  1177.698      2           7        2            2         2  62000\n",
       "1  2134.800      5           7        4            2         2  78000\n",
       "2  1138.560      5           7        2            2         1  58000\n",
       "3  1458.780      2           7        3            2         2  45000\n",
       "4   967.776     11          14        3            2         2  45000"
      ]
     },
     "execution_count": 654,
     "metadata": {},
     "output_type": "execute_result"
    }
   ],
   "source": [
    "df.head()"
   ]
  },
  {
   "cell_type": "code",
   "execution_count": 655,
   "metadata": {},
   "outputs": [
    {
     "data": {
      "text/plain": [
       "(645, 7)"
      ]
     },
     "execution_count": 655,
     "metadata": {},
     "output_type": "execute_result"
    }
   ],
   "source": [
    "df.shape"
   ]
  },
  {
   "cell_type": "code",
   "execution_count": 656,
   "metadata": {},
   "outputs": [
    {
     "name": "stdout",
     "output_type": "stream",
     "text": [
      "<class 'pandas.core.frame.DataFrame'>\n",
      "RangeIndex: 645 entries, 0 to 644\n",
      "Data columns (total 7 columns):\n",
      " #   Column       Non-Null Count  Dtype  \n",
      "---  ------       --------------  -----  \n",
      " 0   Sqft         645 non-null    float64\n",
      " 1   Floor        645 non-null    int64  \n",
      " 2   TotalFloor   645 non-null    int64  \n",
      " 3   Bedroom      645 non-null    int64  \n",
      " 4   Living.Room  645 non-null    int64  \n",
      " 5   Bathroom     645 non-null    int64  \n",
      " 6   Price        645 non-null    int64  \n",
      "dtypes: float64(1), int64(6)\n",
      "memory usage: 35.4 KB\n"
     ]
    }
   ],
   "source": [
    "df.info()"
   ]
  },
  {
   "cell_type": "code",
   "execution_count": 657,
   "metadata": {},
   "outputs": [
    {
     "data": {
      "text/html": [
       "<div>\n",
       "<style scoped>\n",
       "    .dataframe tbody tr th:only-of-type {\n",
       "        vertical-align: middle;\n",
       "    }\n",
       "\n",
       "    .dataframe tbody tr th {\n",
       "        vertical-align: top;\n",
       "    }\n",
       "\n",
       "    .dataframe thead th {\n",
       "        text-align: right;\n",
       "    }\n",
       "</style>\n",
       "<table border=\"1\" class=\"dataframe\">\n",
       "  <thead>\n",
       "    <tr style=\"text-align: right;\">\n",
       "      <th></th>\n",
       "      <th>Sqft</th>\n",
       "      <th>Floor</th>\n",
       "      <th>TotalFloor</th>\n",
       "      <th>Bedroom</th>\n",
       "      <th>Living.Room</th>\n",
       "      <th>Bathroom</th>\n",
       "      <th>Price</th>\n",
       "    </tr>\n",
       "  </thead>\n",
       "  <tbody>\n",
       "    <tr>\n",
       "      <th>count</th>\n",
       "      <td>645.000000</td>\n",
       "      <td>645.000000</td>\n",
       "      <td>645.000000</td>\n",
       "      <td>645.000000</td>\n",
       "      <td>645.000000</td>\n",
       "      <td>645.000000</td>\n",
       "      <td>645.000000</td>\n",
       "    </tr>\n",
       "    <tr>\n",
       "      <th>mean</th>\n",
       "      <td>1527.656260</td>\n",
       "      <td>5.939535</td>\n",
       "      <td>10.855814</td>\n",
       "      <td>2.837209</td>\n",
       "      <td>1.813953</td>\n",
       "      <td>1.810853</td>\n",
       "      <td>61986.823256</td>\n",
       "    </tr>\n",
       "    <tr>\n",
       "      <th>std</th>\n",
       "      <td>767.386531</td>\n",
       "      <td>3.884721</td>\n",
       "      <td>4.996208</td>\n",
       "      <td>1.010740</td>\n",
       "      <td>0.462364</td>\n",
       "      <td>0.683574</td>\n",
       "      <td>35635.091007</td>\n",
       "    </tr>\n",
       "    <tr>\n",
       "      <th>min</th>\n",
       "      <td>359.358000</td>\n",
       "      <td>1.000000</td>\n",
       "      <td>1.000000</td>\n",
       "      <td>1.000000</td>\n",
       "      <td>0.000000</td>\n",
       "      <td>0.000000</td>\n",
       "      <td>6100.000000</td>\n",
       "    </tr>\n",
       "    <tr>\n",
       "      <th>25%</th>\n",
       "      <td>925.080000</td>\n",
       "      <td>3.000000</td>\n",
       "      <td>7.000000</td>\n",
       "      <td>2.000000</td>\n",
       "      <td>2.000000</td>\n",
       "      <td>1.000000</td>\n",
       "      <td>39000.000000</td>\n",
       "    </tr>\n",
       "    <tr>\n",
       "      <th>50%</th>\n",
       "      <td>1423.200000</td>\n",
       "      <td>5.000000</td>\n",
       "      <td>12.000000</td>\n",
       "      <td>3.000000</td>\n",
       "      <td>2.000000</td>\n",
       "      <td>2.000000</td>\n",
       "      <td>50000.000000</td>\n",
       "    </tr>\n",
       "    <tr>\n",
       "      <th>75%</th>\n",
       "      <td>1892.856000</td>\n",
       "      <td>8.000000</td>\n",
       "      <td>14.000000</td>\n",
       "      <td>4.000000</td>\n",
       "      <td>2.000000</td>\n",
       "      <td>2.000000</td>\n",
       "      <td>75000.000000</td>\n",
       "    </tr>\n",
       "    <tr>\n",
       "      <th>max</th>\n",
       "      <td>5856.468000</td>\n",
       "      <td>22.000000</td>\n",
       "      <td>38.000000</td>\n",
       "      <td>7.000000</td>\n",
       "      <td>4.000000</td>\n",
       "      <td>5.000000</td>\n",
       "      <td>250000.000000</td>\n",
       "    </tr>\n",
       "  </tbody>\n",
       "</table>\n",
       "</div>"
      ],
      "text/plain": [
       "              Sqft       Floor  TotalFloor     Bedroom  Living.Room  \\\n",
       "count   645.000000  645.000000  645.000000  645.000000   645.000000   \n",
       "mean   1527.656260    5.939535   10.855814    2.837209     1.813953   \n",
       "std     767.386531    3.884721    4.996208    1.010740     0.462364   \n",
       "min     359.358000    1.000000    1.000000    1.000000     0.000000   \n",
       "25%     925.080000    3.000000    7.000000    2.000000     2.000000   \n",
       "50%    1423.200000    5.000000   12.000000    3.000000     2.000000   \n",
       "75%    1892.856000    8.000000   14.000000    4.000000     2.000000   \n",
       "max    5856.468000   22.000000   38.000000    7.000000     4.000000   \n",
       "\n",
       "         Bathroom          Price  \n",
       "count  645.000000     645.000000  \n",
       "mean     1.810853   61986.823256  \n",
       "std      0.683574   35635.091007  \n",
       "min      0.000000    6100.000000  \n",
       "25%      1.000000   39000.000000  \n",
       "50%      2.000000   50000.000000  \n",
       "75%      2.000000   75000.000000  \n",
       "max      5.000000  250000.000000  "
      ]
     },
     "execution_count": 657,
     "metadata": {},
     "output_type": "execute_result"
    }
   ],
   "source": [
    "df.describe()"
   ]
  },
  {
   "cell_type": "code",
   "execution_count": 658,
   "metadata": {},
   "outputs": [
    {
     "data": {
      "text/plain": [
       "<seaborn.axisgrid.PairGrid at 0x2145af3ee00>"
      ]
     },
     "execution_count": 658,
     "metadata": {},
     "output_type": "execute_result"
    },
    {
     "data": {
      "image/png": "[encoded data removed]",
      "text/plain": [
       "<Figure size 1750x1750 with 56 Axes>"
      ]
     },
     "metadata": {},
     "output_type": "display_data"
    }
   ],
   "source": [
    "sns.pairplot(df)"
   ]
  },
  {
   "cell_type": "code",
   "execution_count": 659,
   "metadata": {},
   "outputs": [
    {
     "data": {
      "text/plain": [
       "<bound method DataFrame.corr of          Sqft  Floor  TotalFloor  Bedroom  Living.Room  Bathroom  Price\n",
       "0    1177.698      2           7        2            2         2  62000\n",
       "1    2134.800      5           7        4            2         2  78000\n",
       "2    1138.560      5           7        2            2         1  58000\n",
       "3    1458.780      2           7        3            2         2  45000\n",
       "4     967.776     11          14        3            2         2  45000\n",
       "..        ...    ...         ...      ...          ...       ...    ...\n",
       "640  1359.156      7          15        3            2         2  45000\n",
       "641   377.148      4          10        1            1         1  24800\n",
       "642   740.064     13          14        1            1         1  45000\n",
       "643  1707.840      3          14        3            2         2  65000\n",
       "644  1376.946      6           7        3            2         1  36000\n",
       "\n",
       "[645 rows x 7 columns]>"
      ]
     },
     "execution_count": 659,
     "metadata": {},
     "output_type": "execute_result"
    }
   ],
   "source": [
    "df.corr"
   ]
  },
  {
   "cell_type": "code",
   "execution_count": 660,
   "metadata": {},
   "outputs": [
    {
     "data": {
      "image/png": "[encoded data removed]",
      "text/plain": [
       "<Figure size 640x480 with 2 Axes>"
      ]
     },
     "metadata": {},
     "output_type": "display_data"
    }
   ],
   "source": [
    "sns.heatmap(df.corr(), cmap= 'YlGnBu')\n",
    "plt.show()"
   ]
  },
  {
   "cell_type": "code",
   "execution_count": 661,
   "metadata": {},
   "outputs": [
    {
     "data": {
      "text/plain": [
       "Text(0, 0.5, 'Price')"
      ]
     },
     "execution_count": 661,
     "metadata": {},
     "output_type": "execute_result"
    },
    {
     "data": {
      "image/png": "[encoded data removed]",
      "text/plain": [
       "<Figure size 640x480 with 1 Axes>"
      ]
     },
     "metadata": {},
     "output_type": "display_data"
    }
   ],
   "source": [
    "plt.bar(df['Floor'], df['Price'])\n",
    "plt.xlabel('Floor')\n",
    "plt.ylabel('Price')"
   ]
  },
  {
   "cell_type": "code",
   "execution_count": 662,
   "metadata": {},
   "outputs": [
    {
     "data": {
      "text/plain": [
       "Text(0, 0.5, 'Price')"
      ]
     },
     "execution_count": 662,
     "metadata": {},
     "output_type": "execute_result"
    },
    {
     "data": {
      "image/png": "[encoded data removed]",
      "text/plain": [
       "<Figure size 640x480 with 1 Axes>"
      ]
     },
     "metadata": {},
     "output_type": "display_data"
    }
   ],
   "source": [
    "plt.bar(df['Sqft'], df['Price'])\n",
    "plt.xlabel('Square_Feet')\n",
    "plt.ylabel('Price')"
   ]
  },
  {
   "cell_type": "code",
   "execution_count": 663,
   "metadata": {},
   "outputs": [
    {
     "data": {
      "image/png": "[encoded data removed]",
      "text/plain": [
       "<Figure size 1200x800 with 1 Axes>"
      ]
     },
     "metadata": {},
     "output_type": "display_data"
    }
   ],
   "source": [
    "plt.figure(figsize=(12, 8))\n",
    "plt.scatter(df['Sqft'], df['Price'])\n",
    "plt.xlabel('Square_Feet')\n",
    "plt.ylabel('Price')\n",
    "plt.title('Price vs Square Feet')\n",
    "plt.show()"
   ]
  },
  {
   "cell_type": "code",
   "execution_count": 664,
   "metadata": {},
   "outputs": [
    {
     "data": {
      "image/png": "[encoded data removed]",
      "text/plain": [
       "<Figure size 1200x800 with 1 Axes>"
      ]
     },
     "metadata": {},
     "output_type": "display_data"
    }
   ],
   "source": [
    "plt.figure(figsize=(12, 8))\n",
    "plt.scatter(df['Floor'], df['Price'])\n",
    "plt.xlabel('Floor')\n",
    "plt.ylabel('Price')\n",
    "plt.title('Price vs Floor')\n",
    "plt.show()"
   ]
  },
  {
   "cell_type": "markdown",
   "metadata": {},
   "source": [
    "Model Selection"
   ]
  },
  {
   "cell_type": "code",
   "execution_count": 665,
   "metadata": {},
   "outputs": [],
   "source": [
    "from sklearn.model_selection import train_test_split\n",
    "from sklearn.neighbors import KNeighborsRegressor\n",
    "from sklearn.metrics import mean_squared_error"
   ]
  },
  {
   "cell_type": "code",
   "execution_count": 666,
   "metadata": {},
   "outputs": [],
   "source": [
    "X = df.iloc[:, :-1].values\n",
    "y = df.iloc[:, -1].values"
   ]
  },
  {
   "cell_type": "code",
   "execution_count": 667,
   "metadata": {},
   "outputs": [],
   "source": [
    "X_train, X_test, y_train, y_test = train_test_split(X, y, test_size=0.2, random_state=42)"
   ]
  },
  {
   "cell_type": "code",
   "execution_count": 668,
   "metadata": {},
   "outputs": [
    {
     "data": {
      "image/png": "[encoded data removed]",
      "text/plain": [
       "<Figure size 1200x800 with 1 Axes>"
      ]
     },
     "metadata": {},
     "output_type": "display_data"
    }
   ],
   "source": [
    "# Finding a better value of k\n",
    "rmse_values = []\n",
    "for k in range(1, 21):\n",
    "    knn = KNeighborsRegressor(n_neighbors=k)\n",
    "    knn.fit(X_train, y_train)\n",
    "    y_pred = knn.predict(X_test)\n",
    "    rmse_values.append(np.sqrt(mean_squared_error(y_test, y_pred)))\n",
    "\n",
    "plt.figure(figsize=(12, 8))\n",
    "plt.plot(range(1, 21), rmse_values, marker='o')\n",
    "plt.xlabel('Number of Neighbors')\n",
    "plt.ylabel('RMSE')\n",
    "plt.title('RMSE vs Number of Neighbors')\n",
    "plt.show()"
   ]
  },
  {
   "cell_type": "markdown",
   "metadata": {},
   "source": [
    "Employee Exit Prediction\n",
    "ML Model for predicting Employee Exit.\n",
    "\n",
    "Data - Link\n",
    "Target Column - 'left' (0/1) represents exit or not\n",
    "Data is heterogeneous in nature, so would need preprocessing before you feed them to ML models\n",
    "Build a model to predict left column\n",
    "Don't forget to spilt data in train & test subsets\n",
    "Data Wrangling & insights graphs are always an important part of data science\n"
   ]
  },
  {
   "cell_type": "code",
   "execution_count": 669,
   "metadata": {},
   "outputs": [
    {
     "data": {
      "text/html": [
       "<div>\n",
       "<style scoped>\n",
       "    .dataframe tbody tr th:only-of-type {\n",
       "        vertical-align: middle;\n",
       "    }\n",
       "\n",
       "    .dataframe tbody tr th {\n",
       "        vertical-align: top;\n",
       "    }\n",
       "\n",
       "    .dataframe thead th {\n",
       "        text-align: right;\n",
       "    }\n",
       "</style>\n",
       "<table border=\"1\" class=\"dataframe\">\n",
       "  <thead>\n",
       "    <tr style=\"text-align: right;\">\n",
       "      <th></th>\n",
       "      <th>satisfaction_level</th>\n",
       "      <th>last_evaluation</th>\n",
       "      <th>number_project</th>\n",
       "      <th>average_montly_hours</th>\n",
       "      <th>time_spend_company</th>\n",
       "      <th>Work_accident</th>\n",
       "      <th>left</th>\n",
       "      <th>promotion_last_5years</th>\n",
       "      <th>sales</th>\n",
       "      <th>salary</th>\n",
       "    </tr>\n",
       "  </thead>\n",
       "  <tbody>\n",
       "    <tr>\n",
       "      <th>0</th>\n",
       "      <td>0.38</td>\n",
       "      <td>0.53</td>\n",
       "      <td>2</td>\n",
       "      <td>157</td>\n",
       "      <td>3</td>\n",
       "      <td>0</td>\n",
       "      <td>1</td>\n",
       "      <td>0</td>\n",
       "      <td>sales</td>\n",
       "      <td>low</td>\n",
       "    </tr>\n",
       "    <tr>\n",
       "      <th>1</th>\n",
       "      <td>0.80</td>\n",
       "      <td>0.86</td>\n",
       "      <td>5</td>\n",
       "      <td>262</td>\n",
       "      <td>6</td>\n",
       "      <td>0</td>\n",
       "      <td>1</td>\n",
       "      <td>0</td>\n",
       "      <td>sales</td>\n",
       "      <td>medium</td>\n",
       "    </tr>\n",
       "    <tr>\n",
       "      <th>2</th>\n",
       "      <td>0.11</td>\n",
       "      <td>0.88</td>\n",
       "      <td>7</td>\n",
       "      <td>272</td>\n",
       "      <td>4</td>\n",
       "      <td>0</td>\n",
       "      <td>1</td>\n",
       "      <td>0</td>\n",
       "      <td>sales</td>\n",
       "      <td>medium</td>\n",
       "    </tr>\n",
       "    <tr>\n",
       "      <th>3</th>\n",
       "      <td>0.72</td>\n",
       "      <td>0.87</td>\n",
       "      <td>5</td>\n",
       "      <td>223</td>\n",
       "      <td>5</td>\n",
       "      <td>0</td>\n",
       "      <td>1</td>\n",
       "      <td>0</td>\n",
       "      <td>sales</td>\n",
       "      <td>low</td>\n",
       "    </tr>\n",
       "    <tr>\n",
       "      <th>4</th>\n",
       "      <td>0.37</td>\n",
       "      <td>0.52</td>\n",
       "      <td>2</td>\n",
       "      <td>159</td>\n",
       "      <td>3</td>\n",
       "      <td>0</td>\n",
       "      <td>1</td>\n",
       "      <td>0</td>\n",
       "      <td>sales</td>\n",
       "      <td>low</td>\n",
       "    </tr>\n",
       "  </tbody>\n",
       "</table>\n",
       "</div>"
      ],
      "text/plain": [
       "   satisfaction_level  last_evaluation  number_project  average_montly_hours  \\\n",
       "0                0.38             0.53               2                   157   \n",
       "1                0.80             0.86               5                   262   \n",
       "2                0.11             0.88               7                   272   \n",
       "3                0.72             0.87               5                   223   \n",
       "4                0.37             0.52               2                   159   \n",
       "\n",
       "   time_spend_company  Work_accident  left  promotion_last_5years  sales  \\\n",
       "0                   3              0     1                      0  sales   \n",
       "1                   6              0     1                      0  sales   \n",
       "2                   4              0     1                      0  sales   \n",
       "3                   5              0     1                      0  sales   \n",
       "4                   3              0     1                      0  sales   \n",
       "\n",
       "   salary  \n",
       "0     low  \n",
       "1  medium  \n",
       "2  medium  \n",
       "3     low  \n",
       "4     low  "
      ]
     },
     "execution_count": 669,
     "metadata": {},
     "output_type": "execute_result"
    }
   ],
   "source": [
    "dfx = pd.read_csv(\"C:\\\\Users\\\\sneha\\\\Downloads\\\\HR_comma_s.csv\")\n",
    "dfx.head()"
   ]
  },
  {
   "cell_type": "code",
   "execution_count": 670,
   "metadata": {},
   "outputs": [
    {
     "data": {
      "text/plain": [
       "(14999, 10)"
      ]
     },
     "execution_count": 670,
     "metadata": {},
     "output_type": "execute_result"
    }
   ],
   "source": [
    "dfx.shape"
   ]
  },
  {
   "cell_type": "code",
   "execution_count": 671,
   "metadata": {},
   "outputs": [
    {
     "data": {
      "text/plain": [
       "satisfaction_level       0\n",
       "last_evaluation          0\n",
       "number_project           0\n",
       "average_montly_hours     0\n",
       "time_spend_company       0\n",
       "Work_accident            0\n",
       "left                     0\n",
       "promotion_last_5years    0\n",
       "sales                    0\n",
       "salary                   0\n",
       "dtype: int64"
      ]
     },
     "execution_count": 671,
     "metadata": {},
     "output_type": "execute_result"
    }
   ],
   "source": [
    "dfx.isnull().sum()"
   ]
  },
  {
   "cell_type": "code",
   "execution_count": 672,
   "metadata": {},
   "outputs": [
    {
     "data": {
      "text/plain": [
       "Sqft           0\n",
       "Floor          0\n",
       "TotalFloor     0\n",
       "Bedroom        0\n",
       "Living.Room    0\n",
       "Bathroom       0\n",
       "Price          0\n",
       "dtype: int64"
      ]
     },
     "execution_count": 672,
     "metadata": {},
     "output_type": "execute_result"
    }
   ],
   "source": [
    "df.isna().sum()"
   ]
  },
  {
   "cell_type": "code",
   "execution_count": 673,
   "metadata": {},
   "outputs": [],
   "source": [
    "from sklearn.preprocessing import LabelEncoder, StandardScaler\n",
    "from sklearn.model_selection import train_test_split\n",
    "from sklearn.ensemble import RandomForestClassifier\n",
    "from sklearn.metrics import accuracy_score"
   ]
  },
  {
   "cell_type": "code",
   "execution_count": 674,
   "metadata": {},
   "outputs": [],
   "source": [
    "le = LabelEncoder()\n",
    "dfx['sales'] = le.fit_transform(dfx['sales'])\n",
    "dfx['salary'] = le.fit_transform(dfx['salary'])"
   ]
  },
  {
   "cell_type": "code",
   "execution_count": 675,
   "metadata": {},
   "outputs": [],
   "source": [
    "scale = StandardScaler()\n",
    "dfx[['satisfaction_level', 'last_evaluation', 'average_montly_hours', 'time_spend_company']] = scale.fit_transform(dfx[['satisfaction_level', 'last_evaluation', 'average_montly_hours', 'time_spend_company']])"
   ]
  },
  {
   "cell_type": "code",
   "execution_count": 676,
   "metadata": {},
   "outputs": [],
   "source": [
    "X_train, X_test, y_train, y_test = train_test_split(dfx.drop('left', axis=1), dfx['left'], test_size=0.2, random_state=42)"
   ]
  },
  {
   "cell_type": "code",
   "execution_count": 677,
   "metadata": {},
   "outputs": [
    {
     "data": {
      "text/html": [
       "<style>#sk-container-id-9 {color: black;background-color: white;}#sk-container-id-9 pre{padding: 0;}#sk-container-id-9 div.sk-toggleable {background-color: white;}#sk-container-id-9 label.sk-toggleable__label {cursor: pointer;display: block;width: 100%;margin-bottom: 0;padding: 0.3em;box-sizing: border-box;text-align: center;}#sk-container-id-9 label.sk-toggleable__label-arrow:before {content: \"▸\";float: left;margin-right: 0.25em;color: #696969;}#sk-container-id-9 label.sk-toggleable__label-arrow:hover:before {color: black;}#sk-container-id-9 div.sk-estimator:hover label.sk-toggleable__label-arrow:before {color: black;}#sk-container-id-9 div.sk-toggleable__content {max-height: 0;max-width: 0;overflow: hidden;text-align: left;background-color: #f0f8ff;}#sk-container-id-9 div.sk-toggleable__content pre {margin: 0.2em;color: black;border-radius: 0.25em;background-color: #f0f8ff;}#sk-container-id-9 input.sk-toggleable__control:checked~div.sk-toggleable__content {max-height: 200px;max-width: 100%;overflow: auto;}#sk-container-id-9 input.sk-toggleable__control:checked~label.sk-toggleable__label-arrow:before {content: \"▾\";}#sk-container-id-9 div.sk-estimator input.sk-toggleable__control:checked~label.sk-toggleable__label {background-color: #d4ebff;}#sk-container-id-9 div.sk-label input.sk-toggleable__control:checked~label.sk-toggleable__label {background-color: #d4ebff;}#sk-container-id-9 input.sk-hidden--visually {border: 0;clip: rect(1px 1px 1px 1px);clip: rect(1px, 1px, 1px, 1px);height: 1px;margin: -1px;overflow: hidden;padding: 0;position: absolute;width: 1px;}#sk-container-id-9 div.sk-estimator {font-family: monospace;background-color: #f0f8ff;border: 1px dotted black;border-radius: 0.25em;box-sizing: border-box;margin-bottom: 0.5em;}#sk-container-id-9 div.sk-estimator:hover {background-color: #d4ebff;}#sk-container-id-9 div.sk-parallel-item::after {content: \"\";width: 100%;border-bottom: 1px solid gray;flex-grow: 1;}#sk-container-id-9 div.sk-label:hover label.sk-toggleable__label {background-color: #d4ebff;}#sk-container-id-9 div.sk-serial::before {content: \"\";position: absolute;border-left: 1px solid gray;box-sizing: border-box;top: 0;bottom: 0;left: 50%;z-index: 0;}#sk-container-id-9 div.sk-serial {display: flex;flex-direction: column;align-items: center;background-color: white;padding-right: 0.2em;padding-left: 0.2em;position: relative;}#sk-container-id-9 div.sk-item {position: relative;z-index: 1;}#sk-container-id-9 div.sk-parallel {display: flex;align-items: stretch;justify-content: center;background-color: white;position: relative;}#sk-container-id-9 div.sk-item::before, #sk-container-id-9 div.sk-parallel-item::before {content: \"\";position: absolute;border-left: 1px solid gray;box-sizing: border-box;top: 0;bottom: 0;left: 50%;z-index: -1;}#sk-container-id-9 div.sk-parallel-item {display: flex;flex-direction: column;z-index: 1;position: relative;background-color: white;}#sk-container-id-9 div.sk-parallel-item:first-child::after {align-self: flex-end;width: 50%;}#sk-container-id-9 div.sk-parallel-item:last-child::after {align-self: flex-start;width: 50%;}#sk-container-id-9 div.sk-parallel-item:only-child::after {width: 0;}#sk-container-id-9 div.sk-dashed-wrapped {border: 1px dashed gray;margin: 0 0.4em 0.5em 0.4em;box-sizing: border-box;padding-bottom: 0.4em;background-color: white;}#sk-container-id-9 div.sk-label label {font-family: monospace;font-weight: bold;display: inline-block;line-height: 1.2em;}#sk-container-id-9 div.sk-label-container {text-align: center;}#sk-container-id-9 div.sk-container {/* jupyter's `normalize.less` sets `[hidden] { display: none; }` but bootstrap.min.css set `[hidden] { display: none !important; }` so we also need the `!important` here to be able to override the default hidden behavior on the sphinx rendered scikit-learn.org. See: https://github.com/scikit-learn/scikit-learn/issues/21755 */display: inline-block !important;position: relative;}#sk-container-id-9 div.sk-text-repr-fallback {display: none;}</style><div id=\"sk-container-id-9\" class=\"sk-top-container\"><div class=\"sk-text-repr-fallback\"><pre>RandomForestClassifier()</pre><b>In a Jupyter environment, please rerun this cell to show the HTML representation or trust the notebook. <br />On GitHub, the HTML representation is unable to render, please try loading this page with nbviewer.org.</b></div><div class=\"sk-container\" hidden><div class=\"sk-item\"><div class=\"sk-estimator sk-toggleable\"><input class=\"sk-toggleable__control sk-hidden--visually\" id=\"sk-estimator-id-9\" type=\"checkbox\" checked><label for=\"sk-estimator-id-9\" class=\"sk-toggleable__label sk-toggleable__label-arrow\">RandomForestClassifier</label><div class=\"sk-toggleable__content\"><pre>RandomForestClassifier()</pre></div></div></div></div></div>"
      ],
      "text/plain": [
       "RandomForestClassifier()"
      ]
     },
     "execution_count": 677,
     "metadata": {},
     "output_type": "execute_result"
    }
   ],
   "source": [
    "rfc = RandomForestClassifier(n_estimators=100)\n",
    "rfc.fit(X_train, y_train)"
   ]
  },
  {
   "cell_type": "code",
   "execution_count": 678,
   "metadata": {},
   "outputs": [],
   "source": [
    "y_pred = rfc.predict(X_test)"
   ]
  },
  {
   "cell_type": "code",
   "execution_count": 679,
   "metadata": {},
   "outputs": [
    {
     "name": "stdout",
     "output_type": "stream",
     "text": [
      "Accuracy :\n",
      "--------------------\n"
     ]
    },
    {
     "data": {
      "text/plain": [
       "0.9886666666666667"
      ]
     },
     "execution_count": 679,
     "metadata": {},
     "output_type": "execute_result"
    }
   ],
   "source": [
    "accuracy = accuracy_score(y_test, y_pred)\n",
    "print('Accuracy :\\n','-'*20, sep=\"\")\n",
    "accuracy"
   ]
  },
  {
   "cell_type": "markdown",
   "metadata": {},
   "source": [
    "dfy = pd."
   ]
  },
  {
   "cell_type": "code",
   "execution_count": 680,
   "metadata": {},
   "outputs": [
    {
     "data": {
      "text/html": [
       "<div>\n",
       "<style scoped>\n",
       "    .dataframe tbody tr th:only-of-type {\n",
       "        vertical-align: middle;\n",
       "    }\n",
       "\n",
       "    .dataframe tbody tr th {\n",
       "        vertical-align: top;\n",
       "    }\n",
       "\n",
       "    .dataframe thead th {\n",
       "        text-align: right;\n",
       "    }\n",
       "</style>\n",
       "<table border=\"1\" class=\"dataframe\">\n",
       "  <thead>\n",
       "    <tr style=\"text-align: right;\">\n",
       "      <th></th>\n",
       "      <th>mobile_name</th>\n",
       "      <th>mobile_price</th>\n",
       "      <th>mobile_color</th>\n",
       "      <th>dual_sim</th>\n",
       "      <th>disp_size</th>\n",
       "      <th>resolution</th>\n",
       "      <th>os</th>\n",
       "      <th>num_cores</th>\n",
       "      <th>mp_speed</th>\n",
       "      <th>int_memory</th>\n",
       "      <th>ram</th>\n",
       "      <th>p_cam</th>\n",
       "      <th>f_cam</th>\n",
       "      <th>network</th>\n",
       "      <th>bluetooth</th>\n",
       "      <th>battery_power</th>\n",
       "      <th>mob_width</th>\n",
       "      <th>mob_height</th>\n",
       "      <th>mob_depth</th>\n",
       "      <th>mob_weight</th>\n",
       "    </tr>\n",
       "  </thead>\n",
       "  <tbody>\n",
       "    <tr>\n",
       "      <th>0</th>\n",
       "      <td>Realme Narzo 10A (So White, 32 GB)</td>\n",
       "      <td>₹8,999</td>\n",
       "      <td>So White</td>\n",
       "      <td>Dual Sim</td>\n",
       "      <td>16.56 cm (6.52 inch)</td>\n",
       "      <td>1600 x 720 Pixels</td>\n",
       "      <td>Android 10</td>\n",
       "      <td>Octa Core</td>\n",
       "      <td>2 GHz</td>\n",
       "      <td>32 GB</td>\n",
       "      <td>3 GB</td>\n",
       "      <td>12MP + 2MP + 2MP</td>\n",
       "      <td>5MP Front Camera</td>\n",
       "      <td>4G VOLTE, 4G, 3G, 2G</td>\n",
       "      <td>Yes</td>\n",
       "      <td>5000 mAh</td>\n",
       "      <td>75 mm</td>\n",
       "      <td>164.4 mm</td>\n",
       "      <td>8.95 mm</td>\n",
       "      <td>195 g</td>\n",
       "    </tr>\n",
       "    <tr>\n",
       "      <th>1</th>\n",
       "      <td>Realme Narzo 10A (So Blue, 32 GB)</td>\n",
       "      <td>₹8,999</td>\n",
       "      <td>So Blue</td>\n",
       "      <td>Dual Sim</td>\n",
       "      <td>16.56 cm (6.52 inch)</td>\n",
       "      <td>1600 x 720 Pixels</td>\n",
       "      <td>Android 10</td>\n",
       "      <td>Octa Core</td>\n",
       "      <td>2 GHz</td>\n",
       "      <td>32 GB</td>\n",
       "      <td>3 GB</td>\n",
       "      <td>12MP + 2MP + 2MP</td>\n",
       "      <td>5MP Front Camera</td>\n",
       "      <td>4G VOLTE, 4G, 3G, 2G</td>\n",
       "      <td>Yes</td>\n",
       "      <td>5000 mAh</td>\n",
       "      <td>75 mm</td>\n",
       "      <td>164.4 mm</td>\n",
       "      <td>8.95 mm</td>\n",
       "      <td>195 g</td>\n",
       "    </tr>\n",
       "    <tr>\n",
       "      <th>2</th>\n",
       "      <td>Realme Narzo 10A (So Blue, 64 GB)</td>\n",
       "      <td>₹9,999</td>\n",
       "      <td>So Blue</td>\n",
       "      <td>Dual Sim</td>\n",
       "      <td>16.56 cm (6.52 inch)</td>\n",
       "      <td>1600 x 720 Pixels</td>\n",
       "      <td>Android 10</td>\n",
       "      <td>Octa Core</td>\n",
       "      <td>2 GHz</td>\n",
       "      <td>64 GB</td>\n",
       "      <td>4 GB</td>\n",
       "      <td>12MP + 2MP + 2MP</td>\n",
       "      <td>5MP Front Camera</td>\n",
       "      <td>4G VOLTE, 4G, 3G, 2G</td>\n",
       "      <td>Yes</td>\n",
       "      <td>5000 mAh</td>\n",
       "      <td>75 mm</td>\n",
       "      <td>164.4 mm</td>\n",
       "      <td>8.95 mm</td>\n",
       "      <td>195 g</td>\n",
       "    </tr>\n",
       "    <tr>\n",
       "      <th>3</th>\n",
       "      <td>Realme Narzo 10A (So White, 64 GB)</td>\n",
       "      <td>₹9,999</td>\n",
       "      <td>So White</td>\n",
       "      <td>Dual Sim</td>\n",
       "      <td>16.56 cm (6.52 inch)</td>\n",
       "      <td>1600 x 720 Pixels</td>\n",
       "      <td>Android 10</td>\n",
       "      <td>Octa Core</td>\n",
       "      <td>2 GHz</td>\n",
       "      <td>64 GB</td>\n",
       "      <td>4 GB</td>\n",
       "      <td>12MP + 2MP + 2MP</td>\n",
       "      <td>5MP Front Camera</td>\n",
       "      <td>4G VOLTE, 4G, 3G, 2G</td>\n",
       "      <td>Yes</td>\n",
       "      <td>5000 mAh</td>\n",
       "      <td>75 mm</td>\n",
       "      <td>164.4 mm</td>\n",
       "      <td>8.95 mm</td>\n",
       "      <td>195 g</td>\n",
       "    </tr>\n",
       "    <tr>\n",
       "      <th>4</th>\n",
       "      <td>Realme Narzo 10 (That Green, 128 GB)</td>\n",
       "      <td>₹11,999</td>\n",
       "      <td>That Green</td>\n",
       "      <td>Dual Sim</td>\n",
       "      <td>16.51 cm (6.5 inch)</td>\n",
       "      <td>1600 x 720 Pixels</td>\n",
       "      <td>Android 10</td>\n",
       "      <td>Octa Core</td>\n",
       "      <td>2 GHz</td>\n",
       "      <td>128 GB</td>\n",
       "      <td>4 GB</td>\n",
       "      <td>48MP + 8MP + 2MP + 2MP</td>\n",
       "      <td>16MP Front Camera</td>\n",
       "      <td>4G VOLTE, 4G, 3G, 2G</td>\n",
       "      <td>Yes</td>\n",
       "      <td>5000 mAh</td>\n",
       "      <td>75.4 mm</td>\n",
       "      <td>164.4 mm</td>\n",
       "      <td>9 mm</td>\n",
       "      <td>199 g</td>\n",
       "    </tr>\n",
       "  </tbody>\n",
       "</table>\n",
       "</div>"
      ],
      "text/plain": [
       "                            mobile_name mobile_price mobile_color  dual_sim  \\\n",
       "0    Realme Narzo 10A (So White, 32 GB)       ₹8,999     So White  Dual Sim   \n",
       "1     Realme Narzo 10A (So Blue, 32 GB)       ₹8,999      So Blue  Dual Sim   \n",
       "2     Realme Narzo 10A (So Blue, 64 GB)       ₹9,999      So Blue  Dual Sim   \n",
       "3    Realme Narzo 10A (So White, 64 GB)       ₹9,999     So White  Dual Sim   \n",
       "4  Realme Narzo 10 (That Green, 128 GB)      ₹11,999   That Green  Dual Sim   \n",
       "\n",
       "              disp_size         resolution          os  num_cores mp_speed  \\\n",
       "0  16.56 cm (6.52 inch)  1600 x 720 Pixels  Android 10  Octa Core    2 GHz   \n",
       "1  16.56 cm (6.52 inch)  1600 x 720 Pixels  Android 10  Octa Core    2 GHz   \n",
       "2  16.56 cm (6.52 inch)  1600 x 720 Pixels  Android 10  Octa Core    2 GHz   \n",
       "3  16.56 cm (6.52 inch)  1600 x 720 Pixels  Android 10  Octa Core    2 GHz   \n",
       "4   16.51 cm (6.5 inch)  1600 x 720 Pixels  Android 10  Octa Core    2 GHz   \n",
       "\n",
       "  int_memory   ram                   p_cam              f_cam  \\\n",
       "0      32 GB  3 GB        12MP + 2MP + 2MP   5MP Front Camera   \n",
       "1      32 GB  3 GB        12MP + 2MP + 2MP   5MP Front Camera   \n",
       "2      64 GB  4 GB        12MP + 2MP + 2MP   5MP Front Camera   \n",
       "3      64 GB  4 GB        12MP + 2MP + 2MP   5MP Front Camera   \n",
       "4     128 GB  4 GB  48MP + 8MP + 2MP + 2MP  16MP Front Camera   \n",
       "\n",
       "                network bluetooth battery_power mob_width mob_height  \\\n",
       "0  4G VOLTE, 4G, 3G, 2G       Yes      5000 mAh     75 mm   164.4 mm   \n",
       "1  4G VOLTE, 4G, 3G, 2G       Yes      5000 mAh     75 mm   164.4 mm   \n",
       "2  4G VOLTE, 4G, 3G, 2G       Yes      5000 mAh     75 mm   164.4 mm   \n",
       "3  4G VOLTE, 4G, 3G, 2G       Yes      5000 mAh     75 mm   164.4 mm   \n",
       "4  4G VOLTE, 4G, 3G, 2G       Yes      5000 mAh   75.4 mm   164.4 mm   \n",
       "\n",
       "  mob_depth mob_weight  \n",
       "0   8.95 mm      195 g  \n",
       "1   8.95 mm      195 g  \n",
       "2   8.95 mm      195 g  \n",
       "3   8.95 mm      195 g  \n",
       "4      9 mm      199 g  "
      ]
     },
     "execution_count": 680,
     "metadata": {},
     "output_type": "execute_result"
    }
   ],
   "source": [
    "dfy = pd.read_csv(\"C:\\\\Users\\\\sneha\\\\Downloads\\\\mobile_price_data.csv\")\n",
    "dfy.head()"
   ]
  },
  {
   "cell_type": "code",
   "execution_count": 681,
   "metadata": {},
   "outputs": [
    {
     "name": "stdout",
     "output_type": "stream",
     "text": [
      "<class 'pandas.core.frame.DataFrame'>\n",
      "RangeIndex: 459 entries, 0 to 458\n",
      "Data columns (total 20 columns):\n",
      " #   Column         Non-Null Count  Dtype \n",
      "---  ------         --------------  ----- \n",
      " 0   mobile_name    459 non-null    object\n",
      " 1   mobile_price   459 non-null    object\n",
      " 2   mobile_color   459 non-null    object\n",
      " 3   dual_sim       459 non-null    object\n",
      " 4   disp_size      459 non-null    object\n",
      " 5   resolution     459 non-null    object\n",
      " 6   os             459 non-null    object\n",
      " 7   num_cores      459 non-null    object\n",
      " 8   mp_speed       459 non-null    object\n",
      " 9   int_memory     459 non-null    object\n",
      " 10  ram            459 non-null    object\n",
      " 11  p_cam          459 non-null    object\n",
      " 12  f_cam          459 non-null    object\n",
      " 13  network        459 non-null    object\n",
      " 14  bluetooth      459 non-null    object\n",
      " 15  battery_power  459 non-null    object\n",
      " 16  mob_width      459 non-null    object\n",
      " 17  mob_height     459 non-null    object\n",
      " 18  mob_depth      459 non-null    object\n",
      " 19  mob_weight     459 non-null    object\n",
      "dtypes: object(20)\n",
      "memory usage: 71.8+ KB\n"
     ]
    }
   ],
   "source": [
    "dfy.info()"
   ]
  },
  {
   "cell_type": "code",
   "execution_count": 682,
   "metadata": {},
   "outputs": [
    {
     "data": {
      "text/plain": [
       "array(['Realme Narzo 10A (So White, 32 GB)',\n",
       "       'Realme Narzo 10A (So Blue, 32 GB)',\n",
       "       'Realme Narzo 10A (So Blue, 64 GB)',\n",
       "       'Realme Narzo 10A (So White, 64 GB)',\n",
       "       'Realme Narzo 10 (That Green, 128 GB)',\n",
       "       'Realme Narzo 10 (That White, 128 GB)',\n",
       "       'Realme 5 Pro (Crystal Green, 64 GB)',\n",
       "       'Realme 5 Pro (Crystal Green, 128 GB)',\n",
       "       'Realme 5 Pro (Sparkling Blue, 128 GB)',\n",
       "       'Realme 5 Pro (Sparkling Blue, 64 GB)',\n",
       "       'Realme X2 Pro (Lunar White, 256 GB)',\n",
       "       'Realme X2 Pro (Neptune Blue, 256 GB)',\n",
       "       'Realme X2 Pro (Neptune Blue, 128 GB)',\n",
       "       'Realme X2 Pro (Lunar White, 128 GB)',\n",
       "       'Realme 2 Pro (Black Sea, 128 GB)',\n",
       "       'Realme XT (Pearl Blue, 64 GB)', 'Realme XT (Pearl White, 64 GB)',\n",
       "       'Realme X50 Pro (Rust Red, 128 GB)',\n",
       "       'Realme X50 Pro (Moss Green, 128 GB)',\n",
       "       'Realme X50 Pro (Moss Green, 256 GB)',\n",
       "       'Realme C3 (Frozen Blue, 32 GB)', 'Realme 6 (Comet White, 128 GB)',\n",
       "       'Realme 6 Pro (Lightning Orange, 128 GB)',\n",
       "       'Realme 6 Pro (Lightning Blue, 128 GB)',\n",
       "       'Realme C2 (Diamond Black, 32 GB)',\n",
       "       'Realme C2 (Diamond Blue, 32 GB)',\n",
       "       'Realme C2 (Diamond Ruby, 32 GB)', 'Realme 6 (Comet Blue, 128 GB)',\n",
       "       'Realme C2 (Diamond Sapphire, 32 GB)',\n",
       "       'Realme 5s (Crystal Red, 128 GB)',\n",
       "       'Realme 5s (Crystal Blue, 64 GB)',\n",
       "       'Realme 5s (Crystal Purple, 128 GB)',\n",
       "       'Realme 5s (Crystal Red, 64 GB)',\n",
       "       'Realme 5s (Crystal Blue, 128 GB)',\n",
       "       'Realme 5s (Crystal Purple, 64 GB)',\n",
       "       'Realme X2 Pro (Neptune Blue, 64 GB)',\n",
       "       'Realme X2 Pro (Lunar White, 64 GB)',\n",
       "       'Realme X2 Pro (Red Brick, 256 GB)',\n",
       "       'Realme X2 Pro (Concrete, 256 GB)',\n",
       "       'Realme X2 (Pearl White, 128 GB)',\n",
       "       'Realme X2 (Pearl Green, 128 GB)', 'Realme X2 (Pearl Blue, 64 GB)',\n",
       "       'Realme X2 (Pearl Green, 64 GB)', 'Realme X2 (Pearl Blue, 128 GB)',\n",
       "       'Realme C2 (Diamond Blue, 16 GB)',\n",
       "       'Realme Narzo 10 (That Blue, 128 GB)',\n",
       "       'Realme X3 (Glacier Blue, 128 GB)',\n",
       "       'Realme X3 (Arctic White, 128 GB)',\n",
       "       'Realme X3 SuperZoom (Glacier Blue, 128 GB)',\n",
       "       'Realme X3 SuperZoom (Glacier Blue, 256 GB)',\n",
       "       'Realme X3 SuperZoom (Arctic White, 256 GB)',\n",
       "       'Realme X3 SuperZoom (Arctic White, 128 GB)',\n",
       "       'Realme 3 (Dynamic Black, 32 GB)', 'Realme 3 (Diamond Red, 64 GB)',\n",
       "       'Realme 3 (Radiant Blue, 64 GB)',\n",
       "       'Realme 3 (Dynamic Black, 64 GB)', 'Realme 3 (Diamond Red, 32 GB)',\n",
       "       'Realme 3 (Black, 64 GB)', 'Redmi 8 (Sapphire Blue, 64 GB)',\n",
       "       'Redmi 8 (Onyx Black, 64 GB)', 'Redmi K20 Pro (Flame Red, 128 GB)',\n",
       "       'Redmi Note 9 Pro (Aurora Blue, 64 GB)',\n",
       "       'Redmi K20 Pro (Carbon Black, 128 GB)',\n",
       "       'Mi A3 (More Than White, 128 GB)',\n",
       "       'Redmi K20 Pro (Glacier Blue, 128 GB)',\n",
       "       'Redmi Note 7 Pro (Space Black, 128 GB)',\n",
       "       'Mi A3 (Not just Blue, 128 GB)', 'Mi Mix 2 (Black, 128 GB)',\n",
       "       'Redmi K20 Pro (Pearl White, 128 GB)',\n",
       "       'Mi A3 (Kind of Grey, 128 GB)',\n",
       "       'Redmi K20 Pro (Carbon Black, 256 GB)',\n",
       "       'Redmi Note 7 Pro (Nebula Red, 128 GB)',\n",
       "       'Redmi K20 (Carbon Black, 64 GB)', 'Redmi Y2 (Gold, 64 GB)',\n",
       "       'Redmi K20 Pro (Pearl White, 256 GB)',\n",
       "       'Redmi K20 (Glacier Blue, 128 GB)',\n",
       "       'Redmi Note 6 Pro (Rose Gold, 64 GB)', 'Mi A2 (Red, 64 GB)',\n",
       "       'Mi 10 (Twilight Grey, 256 GB)', 'Mi 10 (Coral Green, 128 GB)',\n",
       "       'Redmi K20 (Flame Red, 128 GB)', 'Mi A2 (Red, 128 GB)',\n",
       "       'Mi A2 (Gold, 128 GB)', 'Redmi K20 (Carbon Black, 128 GB)',\n",
       "       'Mi A2 (Lake Blue, 128 GB)', 'Redmi Note 5 Pro (Red, 64 GB)',\n",
       "       'Redmi K20 (Pearl White, 128 GB)', 'MI3 (Metallic Grey, 16 GB)',\n",
       "       'Redmi 8 (Emerald Green, 64 GB)', 'Redmi 8 (Ruby Red, 64 GB)',\n",
       "       'Mi A3 (Kind of Grey, 64 GB)',\n",
       "       'Redmi Note 9 Pro (Interstellar Black, 128 GB)',\n",
       "       'Redmi Note 9 Pro (Aurora Blue, 128 GB)',\n",
       "       'Redmi 8A Dual (Sea Blue, 32 GB)',\n",
       "       'Redmi 8A Dual (Midnight Grey, 32 GB)',\n",
       "       'Redmi Note 8 (Moonlight White, 64 GB)',\n",
       "       'Redmi Note 8 (Neptune Blue, 128 GB)',\n",
       "       'Redmi Note 8 (Neptune Blue, 32 GB)',\n",
       "       'Mi A3 (Not just Blue, 64 GB)', 'Mi A3 (More Than White, 64 GB)',\n",
       "       'Redmi Note 8 (Neptune Blue, 64 GB)',\n",
       "       'Redmi Note 8 (Space Black, 64 GB)',\n",
       "       'Redmi 8A Dual (Sky White, 32 GB)',\n",
       "       'Redmi Note 7 Pro (Space Black, 64 GB)',\n",
       "       'Redmi K20 Pro (Flame Red, 256 GB)',\n",
       "       'Redmi Note 9 Pro (Glacier White, 64 GB)',\n",
       "       'Redmi Note 9 Pro (Interstellar Black, 64 GB)',\n",
       "       'Redmi Note 6 Pro (Black, 64 GB)', 'Redmi Note 6 Pro (Red, 64 GB)',\n",
       "       'Redmi Note 4 (Black, 64 GB)', 'Redmi K20 (Glacier Blue, 64 GB)',\n",
       "       'Redmi Note 5 Pro (Gold, 64 GB)',\n",
       "       'Redmi Note 7 Pro (Astro Moonlight White, 128 GB)',\n",
       "       'Redmi Note 9 Pro Max (Interstellar Black, 128 GB)',\n",
       "       'Redmi Note 9 Pro Max (Glacier White, 128 GB)',\n",
       "       'Redmi 8A (Sunset Red, 32 GB)', 'Mi 10 (Coral Green, 256 GB)',\n",
       "       'Redmi Note 5 Pro (Black, 64 GB)',\n",
       "       'Redmi Note 5 Pro (Rose Gold, 64 GB)',\n",
       "       'Mi A2 (Blue/Lake Blue, 64 GB)', 'Redmi Go (Blue, 16 GB)',\n",
       "       'Redmi Note 7S (Sapphire Blue, 32 GB)',\n",
       "       'Redmi Y2 (Rose Gold, 64 GB)', 'Redmi 7A (Matte Black, 32 GB)',\n",
       "       'Redmi Note 7S (Onyx Black, 64 GB)', 'Redmi Y2 (Blue, 32 GB)',\n",
       "       'Redmi Y2 (Black, 64 GB)', 'Redmi Note 7 (Onyx Black, 32 GB)',\n",
       "       'Redmi 7A (Matte Black, 16 GB)', 'Redmi 6 (Rose Gold, 32 GB)',\n",
       "       'Redmi Note 7 (Ruby Red, 32 GB)',\n",
       "       'Redmi Note 7S (Ruby Red, 64 GB)', 'Redmi 7A (Matte Gold, 16 GB)',\n",
       "       'Redmi Note 5 Pro (Blue, 64 GB)', 'Redmi Y3 (Elegant Blue, 32 GB)',\n",
       "       'Redmi Y3 (Prime Black, 32 GB)',\n",
       "       'Redmi Note 7 (Sapphire Blue, 32 GB)',\n",
       "       'Redmi K20 (Flame Red, 64 GB)',\n",
       "       'Redmi Note 7S (Astro Moonlight White, 32 GB)',\n",
       "       'Redmi Note 4 (Gold, 64 GB)', 'Redmi 8A Dual (Sky White, 64 GB)',\n",
       "       'Redmi 8A Dual (Sea Blue, 64 GB)',\n",
       "       'Redmi Note 7 Pro (Neptune Blue, 128 GB)',\n",
       "       'Redmi 8A Dual (Midnight Grey, 64 GB)',\n",
       "       'Redmi Note 9 Pro (Glacier White, 128 GB)',\n",
       "       'Redmi Note 7 (Sapphire Blue, 64 GB)', 'Mi A2 (Rose Gold, 64 GB)',\n",
       "       'Redmi 7A (Matte Gold, 32 GB)', 'Redmi Y2 (Rose Gold, 32 GB)',\n",
       "       'Redmi Y1 (Grey, 64 GB)', 'Redmi Y2 (Dark Grey, 32 GB)',\n",
       "       'Vivo Y12 (Burgundy Red, 64 GB)',\n",
       "       'Vivo U10 (Thunder Black, 32 GB)',\n",
       "       'Vivo Y11 (Mineral Blue, 32 GB)', 'Vivo Z1x (Fusion Blue, 64 GB)',\n",
       "       'Vivo Z1x (Phantom Purple, 64 GB)',\n",
       "       'Vivo Z1x (Fusion Blue, 128 GB)',\n",
       "       'Vivo Z1x (Phantom Purple, 128 GB)',\n",
       "       'Vivo Y15 (Burgundy Red, 64 GB)', 'Vivo Y11 (Agate Red, 32 GB)',\n",
       "       'Vivo S1 Pro (Mystic Black, 128 GB)',\n",
       "       'Vivo S1 Pro (Jazzy Blue, 128 GB)',\n",
       "       'Vivo S1 Pro (Dreamy White, 128 GB)',\n",
       "       'Vivo Y91i (Fusion Black, 32 GB)', 'Vivo Y91i (Ocean Blue, 32 GB)',\n",
       "       'Vivo Y50 (Pearl White, 128 GB)', 'Vivo Y50 (Iris Blue, 128 GB)',\n",
       "       'Vivo Z1Pro (Sonic Black, 128 GB)',\n",
       "       'Vivo Z1Pro (Sonic Black, 64 GB)',\n",
       "       'Vivo Z1Pro (Sonic Blue, 128 GB)',\n",
       "       'Vivo Y19 (Magnetic Black, 128 GB)',\n",
       "       'Vivo V19 (Mystic Silver, 256 GB)',\n",
       "       'Vivo V19 (Mystic Silver, 128 GB)',\n",
       "       'Vivo V19 (Piano Black, 128 GB)', 'Vivo V19 (Piano Black, 256 GB)',\n",
       "       'Vivo V17 (Glacier ice white, 128 GB)',\n",
       "       'Vivo V17 (Midnight Ocean Black, 128 GB)',\n",
       "       'Vivo U10 (Electric Blue, 64 GB)', 'Vivo S1 (Skyline Blue, 64 GB)',\n",
       "       'Vivo S1 (Skyline Blue, 128 GB)',\n",
       "       'Vivo S1 (Diamond Black, 128 GB)',\n",
       "       'Vivo Y91i (Fusion Black, 16 GB)',\n",
       "       'Vivo V15 Pro (Topaz Blue, 128 GB)',\n",
       "       'Vivo Y17 (Mystic Purple, 128 GB)',\n",
       "       'Vivo V15 Pro (Ruby Red, 128 GB)',\n",
       "       'Vivo V17Pro (Midnight Ocean Black, 128 GB)',\n",
       "       'Vivo V17Pro (Glacier Ice White, 128 GB)',\n",
       "       'Vivo U10 (Thunder Black, 64 GB)',\n",
       "       'Vivo V11 Pro (Starry Night Black, 64 GB)',\n",
       "       'Vivo NEX (Black, 128 GB)', 'Vivo Y81 (Black, 32 GB)',\n",
       "       'Vivo V9 Youth (Black, 32 GB)', 'Vivo V15 (Frozen Black, 64 GB)',\n",
       "       'Vivo Y93 (Starry Black, 32 GB)', 'Vivo Y93 (Starry Black, 64 GB)',\n",
       "       'Vivo Y91 (Ocean Blue, 32 GB)', 'Vivo V7 (Matte Black, 32 GB)',\n",
       "       'Vivo V7 (Energetic Blue, 32 GB)', 'Vivo Y83 (Gold, 32 GB)',\n",
       "       'Vivo V9 (Gold, 64 GB)', 'Vivo Y71i (Matte Black, 16 GB)',\n",
       "       'Vivo Y93 (Nebula Purple, 32 GB)',\n",
       "       'Vivo U10 (Electric Blue, 32 GB)',\n",
       "       'Vivo Z1Pro (Sonic Blue, 64 GB)', 'Vivo V9 Pro (Black, 64 GB)',\n",
       "       'Vivo V9 Pro (Nebula Purple, 64 GB)', 'Vivo Y81 (Gold, 32 GB)',\n",
       "       'Vivo V9 Youth (Gold, 32 GB)', 'Vivo Y91 (Starry Black, 32 GB)',\n",
       "       'Vivo Y71 (Gold, 16 GB)', 'Vivo Y71 (Matte Black, 32 GB)',\n",
       "       'Vivo V7+ (Energetic Blue, 64 GB)',\n",
       "       'Vivo Y55S (Matte Black, 16 GB)', 'Vivo Y55S (Grey, 16 GB)',\n",
       "       'Vivo Y81i (Gold, 16 GB)', 'Vivo Y71 (Matte Black, 16 GB)',\n",
       "       'Vivo Y71 (Gold, 32 GB)', 'Vivo Y91i (Black, 32 GB)',\n",
       "       'Vivo Y69 (Gold, 32 GB)', 'Samsung Galaxy M30S (Blue, 128 GB)',\n",
       "       'Samsung Galaxy A21s (Blue, 64 GB)',\n",
       "       'Samsung Galaxy A21s (Black, 64 GB)',\n",
       "       'Samsung Galaxy A21s (White, 64 GB)',\n",
       "       'Samsung Galaxy M21 (Midnight Blue, 64 GB)',\n",
       "       'Samsung Galaxy M21 (Raven Black, 64 GB)',\n",
       "       'Samsung Galaxy J2 Core (Black, 16 GB)',\n",
       "       'Samsung Galaxy M31 (Ocean Blue, 128 GB)',\n",
       "       'Samsung Galaxy S10 Lite (Prism Blue, 512 GB)',\n",
       "       'Samsung Galaxy S10 Lite (Prism Black, 512 GB)',\n",
       "       'Samsung Galaxy J2-2017 (Metallic gold, 8 GB)',\n",
       "       'Samsung Galaxy J7 Pro (Black, 64 GB)',\n",
       "       'Samsung Galaxy J7 Nxt (Black, 16 GB)',\n",
       "       'Samsung Galaxy J7 Nxt (Gold, 16 GB)',\n",
       "       'Infinix Hot 9 Pro (Violet, 64 GB)',\n",
       "       'Infinix Hot 9 Pro (Ocean Wave, 64 GB)',\n",
       "       'Infinix Hot 9 (Violet, 64 GB)',\n",
       "       'Infinix Hot 9 (Ocean Wave, 64 GB)',\n",
       "       'Infinix Note 5 Stylus (Charcoal Blue, 64 GB)',\n",
       "       'Infinix S5 Pro (Forest Green, 64 GB)',\n",
       "       'Infinix S5 Pro (Violet, 64 GB)',\n",
       "       'Infinix Note 5 Stylus (Bordeaux Red, 64 GB)',\n",
       "       'Infinix Hot S3X (Tradew Gray, 32 GB)',\n",
       "       'Infinix Hot S3X (Milan Black, 32 GB)',\n",
       "       'Infinix Note 5 (Ice Blue, 64 GB)',\n",
       "       'Infinix Note 5 (Berlin Gray, 64 GB)',\n",
       "       'Infinix Hot 7 (Midnight Black, 64 GB)',\n",
       "       'Infinix Hot 7 (Mocha Brown, 64 GB)',\n",
       "       'Infinix Hot 7 (Aqua Blue, 64 GB)',\n",
       "       'Infinix Note 5 (Berlin Gray, 32 GB)',\n",
       "       'Infinix Hot S3 (Topaz Blue, 64 GB)',\n",
       "       'Infinix Hot S3 (Sandstone Black, 64 GB)',\n",
       "       'Infinix Hot S3 (Blush Gold, 64 GB)',\n",
       "       'Infinix S5 Lite (Violet, 64 GB)',\n",
       "       'Infinix S5 Lite (Quetzal Cyan, 64 GB)',\n",
       "       'Infinix S5 Lite (Midnight Black, 64 GB)',\n",
       "       'Infinix Note 5 (Milan Black, 32 GB)',\n",
       "       'Infinix Zero 5 Pro (Bronze Gold Black, 128 GB)',\n",
       "       'Infinix S4 (Nebula Blue, 32 GB)',\n",
       "       'Infinix S4 (Twilight Purple, 32 GB)',\n",
       "       'Infinix S4 (Space Gray, 32 GB)',\n",
       "       'Infinix S5 (Quetzal Cyan, 64 GB)', 'Infinix S5 (Violet, 64 GB)',\n",
       "       'Infinix Hot S3 (Blush Gold, 32 GB)',\n",
       "       'Infinix Hot S3 (Sandstone Black, 32 GB)',\n",
       "       'Infinix Hot S3 (Topaz Blue, 32 GB)',\n",
       "       'Infinix Hot S3 (Bordeaux Red, 32 GB)',\n",
       "       'Infinix Note 5 (Milan Black, 64 GB)',\n",
       "       'Infinix Zero 5 (Sandstone Black, 64 GB)',\n",
       "       'Infinix Zero 5 (Bordeaux Red, 64 GB)',\n",
       "       'POCO F1 (Steel Blue, 128 GB)', 'POCO F1 (Steel Blue, 256 GB)',\n",
       "       'POCO F1 (Graphite Black, 256 GB)',\n",
       "       'POCO F1 (Armoured Edition, 256 GB)', 'POCO F1 (Rosso Red, 64 GB)',\n",
       "       'POCO X2 (Matrix Purple, 256 GB)',\n",
       "       'POCO X2 (Matrix Purple, 64 GB)', 'POCO X2 (Atlantis Blue, 64 GB)',\n",
       "       'POCO X2 (Phoenix Red, 128 GB)', 'POCO X2 (Atlantis Blue, 128 GB)',\n",
       "       'POCO X2 (Atlantis Blue, 256 GB)', 'POCO X2 (Phoenix Red, 256 GB)',\n",
       "       'POCO X2 (Phoenix Red, 64 GB)',\n",
       "       'POCO X2 Special Edition (Matrix Purple, 128 GB)',\n",
       "       'POCO F1 (Rosso Red, 128 GB)', 'POCO F1 (Graphite Black, 128 GB)',\n",
       "       'POCO F1 (Rosso Red, 256 GB)',\n",
       "       'POCO F1 (Armoured Edition, 128 GB)',\n",
       "       'POCO X2 Special Edition (Atlantis Blue, 128 GB)',\n",
       "       'POCO X2 Special Edition (Phoenix Red, 128 GB)',\n",
       "       'POCO F1 (Steel Blue, 64 GB)', 'POCO F1 (Graphite Black, 64 GB)',\n",
       "       'POCO M2 Pro (Green and Greener, 64 GB)',\n",
       "       'POCO M2 Pro (Green and Greener, 128 GB)',\n",
       "       'POCO M2 Pro (Out of the Blue, 128 GB)',\n",
       "       'POCO M2 Pro (Two Shades of Black, 128 GB)',\n",
       "       'POCO M2 Pro (Two Shades of Black, 64 GB)',\n",
       "       'POCO M2 Pro (Out of the Blue, 64 GB)',\n",
       "       'OPPO A31 (Fantasy White, 64 GB)',\n",
       "       'OPPO A31 (Fantasy White, 128 GB)',\n",
       "       'OPPO A31 (Mystery Black, 128 GB)',\n",
       "       'OPPO A31 (Mystery Black, 64 GB)',\n",
       "       'OPPO A9 2020 (Marine Green, 128 GB)', 'OPPO A12 (Black, 32 GB)',\n",
       "       'OPPO A12 (Blue, 32 GB)', 'OPPO A5s (Blue, 32 GB)',\n",
       "       'OPPO F15 (Unicorn White, 128 GB)',\n",
       "       'OPPO F15 (Blazing Blue, 128 GB)',\n",
       "       'OPPO A52 (Twilight Black, 128 GB)',\n",
       "       'OPPO A52 (Stream White, 128 GB)', 'OPPO A11K (Deep Blue, 32 GB)',\n",
       "       'OPPO A11K (Flowing Silver, 32 GB)', 'OPPO A5s (Green, 64 GB)',\n",
       "       'OPPO A9 2020 (Space Purple, 128 GB)',\n",
       "       'OPPO F15 (Lightening Black, 128 GB)', 'OPPO A5s (Gold, 64 GB)',\n",
       "       'OPPO Reno3 Pro (Sky White, 128 GB)',\n",
       "       'OPPO Reno3 Pro (Auroral Blue, 128 GB)',\n",
       "       'OPPO Reno3 Pro (Midnight Black, 128 GB)',\n",
       "       'OPPO A5s (Black, 32 GB)', 'OPPO F11 Pro (Thunder Black, 64 GB)',\n",
       "       'OPPO Reno 10x Zoom (Ocean Green, 256 GB)',\n",
       "       'OPPO Reno2 (Ocean Blue, 256 GB)',\n",
       "       'OPPO Find X (Glacier Blue, 256 GB)',\n",
       "       'OPPO Find X (Bordeaux Red, 256 GB)',\n",
       "       'OPPO Reno2 Z (Luminous Black, 256 GB)',\n",
       "       'OPPO A83 (2018 Edition) (Champagne, 64 GB)',\n",
       "       'OPPO A9 2020 (Vanilla Mint, 128 GB)', 'OPPO A5s (Red, 32 GB)',\n",
       "       'OPPO K1 (Piano Black, 64 GB)', 'OPPO F9 Pro (Sunrise Red, 64 GB)',\n",
       "       'OPPO K1 (Astral Blue, 64 GB)', 'OPPO F11 (Marble Green, 128 GB)',\n",
       "       'OPPO A1K (Red, 32 GB)', 'OPPO A7 (Glaring Gold, 64 GB)',\n",
       "       'OPPO F9 Pro (Twilight Blue, 64 GB)',\n",
       "       'OPPO F9 Pro (Starry Purple, 64 GB)',\n",
       "       'OPPO A7 (Glaze Blue, 64 GB)', 'OPPO A3s (Red, 64 GB)',\n",
       "       'OPPO A3s (Red, 16 GB)', 'OPPO A3s (Purple, 16 GB)',\n",
       "       'OPPO A12 (Black, 64 GB)', 'OPPO A12 (Blue, 64 GB)',\n",
       "       'OPPO F11 Pro (Waterfall Grey, 128 GB)',\n",
       "       'OPPO F11 Pro (Thunder Black, 128 GB)',\n",
       "       'OPPO R17 Pro (Radiant Mist, 128 GB)', 'OPPO A83 (Black, 32 GB)',\n",
       "       'OPPO A83 (Red, 16 GB)', 'OPPO F7 (Red, 64 GB)',\n",
       "       'OPPO F11 (Fluorite Purple, 128 GB)',\n",
       "       'OPPO F11 (Jewelry White, 128 GB)', 'OPPO F1S (Rose Gold, 64 GB)',\n",
       "       'OPPO F1S (Grey, 64 GB)', 'OPPO F1S (Gold, 64 GB)',\n",
       "       'OPPO F1S (Grey, 32 GB)', 'OPPO A71k (New Edition) (Blue, 16 GB)',\n",
       "       'OPPO A3s (Purple, 32 GB)', 'OPPO F3 (Rose Gold, 64 GB)',\n",
       "       'OPPO A5 (Diamond Red, 32 GB)',\n",
       "       'OPPO A83 (2018 Edition) (Red, 64 GB)',\n",
       "       'OPPO F9 (Stellar Purple, 64 GB)', 'OPPO A3s (Purple, 64 GB)',\n",
       "       'OPPO Reno 10x Zoom (Jet Black, 256 GB)',\n",
       "       'OPPO Reno 10x Zoom (Jet Black, 128 GB)'], dtype=object)"
      ]
     },
     "execution_count": 682,
     "metadata": {},
     "output_type": "execute_result"
    }
   ],
   "source": [
    "dfy['mobile_name'].unique()"
   ]
  },
  {
   "cell_type": "code",
   "execution_count": 683,
   "metadata": {},
   "outputs": [],
   "source": [
    "status = dict(zip(dfy.columns,list([0]*len(dfy.columns))))"
   ]
  },
  {
   "cell_type": "code",
   "execution_count": 684,
   "metadata": {},
   "outputs": [
    {
     "name": "stdout",
     "output_type": "stream",
     "text": [
      "mobile_name 0\n",
      "mobile_price 0\n",
      "mobile_color 0\n",
      "dual_sim 0\n",
      "disp_size 0\n",
      "resolution 0\n",
      "os 0\n",
      "num_cores 0\n",
      "mp_speed 0\n",
      "int_memory 0\n",
      "ram 0\n",
      "p_cam 0\n",
      "f_cam 0\n",
      "network 0\n",
      "bluetooth 0\n",
      "battery_power 0\n",
      "mob_width 0\n",
      "mob_height 0\n",
      "mob_depth 0\n",
      "mob_weight 0\n",
      "None\n"
     ]
    }
   ],
   "source": [
    "def print_processed_status(dfy):\n",
    "    for col in dfy.columns:\n",
    "        print(col, status[col])\n",
    "print(print_processed_status(dfy))"
   ]
  },
  {
   "cell_type": "code",
   "execution_count": 685,
   "metadata": {},
   "outputs": [],
   "source": [
    "def numericize(dfy,col):\n",
    "    return pd.to_numeric(dfy[col].str.replace('[a-zA-Z]','',regex=True))"
   ]
  },
  {
   "cell_type": "code",
   "execution_count": 686,
   "metadata": {},
   "outputs": [],
   "source": [
    "dfy['mp_speed'] = numericize(dfy,'mp_speed')\n",
    "dfy['mp_speed'].unique()\n",
    "status['mp_speed'] = 1"
   ]
  },
  {
   "cell_type": "code",
   "execution_count": 687,
   "metadata": {},
   "outputs": [],
   "source": [
    "dfy['int_memory'] = numericize(dfy,'int_memory')\n",
    "dfy['int_memory'].unique()\n",
    "status['int_memory'] = 1\n",
    "dfy['ram'] = numericize(dfy,'ram')\n",
    "dfy['ram'].unique()\n",
    "status['ram'] = 1\n",
    "dfy['battery_power'] = numericize(dfy,'battery_power')\n",
    "dfy['battery_power'].unique()\n",
    "status['battery_power'] = 1\n",
    "dfy['mob_width'] = numericize(dfy,'mob_width')\n",
    "dfy['mob_width'].unique()\n",
    "status['mob_width'] = 1\n",
    "dfy['mob_height'] = numericize(dfy,'mob_height')\n",
    "dfy['mob_height'].unique()\n",
    "status['mob_height'] = 1\n",
    "dfy['mob_depth'] = numericize(dfy,'mob_depth')\n",
    "dfy['mob_depth'].unique()\n",
    "status['mob_depth'] = 1\n",
    "dfy['mob_weight'] = numericize(dfy,'mob_weight')\n",
    "dfy['mob_weight'].unique()\n",
    "status['mob_weight'] = 1"
   ]
  },
  {
   "cell_type": "code",
   "execution_count": 688,
   "metadata": {},
   "outputs": [
    {
     "name": "stderr",
     "output_type": "stream",
     "text": [
      "C:\\Users\\tharu\\AppData\\Local\\Temp\\ipykernel_1156\\2913312638.py:1: FutureWarning: The default value of numeric_only in DataFrame.corr is deprecated. In a future version, it will default to False. Select only valid columns or specify the value of numeric_only to silence this warning.\n",
      "  dfy.corr()\n"
     ]
    },
    {
     "data": {
      "text/html": [
       "<div>\n",
       "<style scoped>\n",
       "    .dataframe tbody tr th:only-of-type {\n",
       "        vertical-align: middle;\n",
       "    }\n",
       "\n",
       "    .dataframe tbody tr th {\n",
       "        vertical-align: top;\n",
       "    }\n",
       "\n",
       "    .dataframe thead th {\n",
       "        text-align: right;\n",
       "    }\n",
       "</style>\n",
       "<table border=\"1\" class=\"dataframe\">\n",
       "  <thead>\n",
       "    <tr style=\"text-align: right;\">\n",
       "      <th></th>\n",
       "      <th>mp_speed</th>\n",
       "      <th>int_memory</th>\n",
       "      <th>ram</th>\n",
       "      <th>battery_power</th>\n",
       "      <th>mob_width</th>\n",
       "      <th>mob_height</th>\n",
       "      <th>mob_depth</th>\n",
       "      <th>mob_weight</th>\n",
       "    </tr>\n",
       "  </thead>\n",
       "  <tbody>\n",
       "    <tr>\n",
       "      <th>mp_speed</th>\n",
       "      <td>1.000000</td>\n",
       "      <td>0.570284</td>\n",
       "      <td>0.590077</td>\n",
       "      <td>0.174023</td>\n",
       "      <td>0.002323</td>\n",
       "      <td>0.188511</td>\n",
       "      <td>-0.043051</td>\n",
       "      <td>0.522246</td>\n",
       "    </tr>\n",
       "    <tr>\n",
       "      <th>int_memory</th>\n",
       "      <td>0.570284</td>\n",
       "      <td>1.000000</td>\n",
       "      <td>0.786609</td>\n",
       "      <td>0.173863</td>\n",
       "      <td>0.045086</td>\n",
       "      <td>0.154055</td>\n",
       "      <td>-0.069713</td>\n",
       "      <td>0.487976</td>\n",
       "    </tr>\n",
       "    <tr>\n",
       "      <th>ram</th>\n",
       "      <td>0.590077</td>\n",
       "      <td>0.786609</td>\n",
       "      <td>1.000000</td>\n",
       "      <td>0.111863</td>\n",
       "      <td>0.049081</td>\n",
       "      <td>0.201531</td>\n",
       "      <td>-0.113400</td>\n",
       "      <td>0.514125</td>\n",
       "    </tr>\n",
       "    <tr>\n",
       "      <th>battery_power</th>\n",
       "      <td>0.174023</td>\n",
       "      <td>0.173863</td>\n",
       "      <td>0.111863</td>\n",
       "      <td>1.000000</td>\n",
       "      <td>-0.099922</td>\n",
       "      <td>0.265806</td>\n",
       "      <td>0.174888</td>\n",
       "      <td>0.697084</td>\n",
       "    </tr>\n",
       "    <tr>\n",
       "      <th>mob_width</th>\n",
       "      <td>0.002323</td>\n",
       "      <td>0.045086</td>\n",
       "      <td>0.049081</td>\n",
       "      <td>-0.099922</td>\n",
       "      <td>1.000000</td>\n",
       "      <td>-0.569370</td>\n",
       "      <td>-0.624579</td>\n",
       "      <td>-0.031203</td>\n",
       "    </tr>\n",
       "    <tr>\n",
       "      <th>mob_height</th>\n",
       "      <td>0.188511</td>\n",
       "      <td>0.154055</td>\n",
       "      <td>0.201531</td>\n",
       "      <td>0.265806</td>\n",
       "      <td>-0.569370</td>\n",
       "      <td>1.000000</td>\n",
       "      <td>-0.147650</td>\n",
       "      <td>0.336167</td>\n",
       "    </tr>\n",
       "    <tr>\n",
       "      <th>mob_depth</th>\n",
       "      <td>-0.043051</td>\n",
       "      <td>-0.069713</td>\n",
       "      <td>-0.113400</td>\n",
       "      <td>0.174888</td>\n",
       "      <td>-0.624579</td>\n",
       "      <td>-0.147650</td>\n",
       "      <td>1.000000</td>\n",
       "      <td>0.082579</td>\n",
       "    </tr>\n",
       "    <tr>\n",
       "      <th>mob_weight</th>\n",
       "      <td>0.522246</td>\n",
       "      <td>0.487976</td>\n",
       "      <td>0.514125</td>\n",
       "      <td>0.697084</td>\n",
       "      <td>-0.031203</td>\n",
       "      <td>0.336167</td>\n",
       "      <td>0.082579</td>\n",
       "      <td>1.000000</td>\n",
       "    </tr>\n",
       "  </tbody>\n",
       "</table>\n",
       "</div>"
      ],
      "text/plain": [
       "               mp_speed  int_memory       ram  battery_power  mob_width  \\\n",
       "mp_speed       1.000000    0.570284  0.590077       0.174023   0.002323   \n",
       "int_memory     0.570284    1.000000  0.786609       0.173863   0.045086   \n",
       "ram            0.590077    0.786609  1.000000       0.111863   0.049081   \n",
       "battery_power  0.174023    0.173863  0.111863       1.000000  -0.099922   \n",
       "mob_width      0.002323    0.045086  0.049081      -0.099922   1.000000   \n",
       "mob_height     0.188511    0.154055  0.201531       0.265806  -0.569370   \n",
       "mob_depth     -0.043051   -0.069713 -0.113400       0.174888  -0.624579   \n",
       "mob_weight     0.522246    0.487976  0.514125       0.697084  -0.031203   \n",
       "\n",
       "               mob_height  mob_depth  mob_weight  \n",
       "mp_speed         0.188511  -0.043051    0.522246  \n",
       "int_memory       0.154055  -0.069713    0.487976  \n",
       "ram              0.201531  -0.113400    0.514125  \n",
       "battery_power    0.265806   0.174888    0.697084  \n",
       "mob_width       -0.569370  -0.624579   -0.031203  \n",
       "mob_height       1.000000  -0.147650    0.336167  \n",
       "mob_depth       -0.147650   1.000000    0.082579  \n",
       "mob_weight       0.336167   0.082579    1.000000  "
      ]
     },
     "execution_count": 688,
     "metadata": {},
     "output_type": "execute_result"
    }
   ],
   "source": [
    "dfy.corr()"
   ]
  },
  {
   "cell_type": "code",
   "execution_count": 689,
   "metadata": {},
   "outputs": [
    {
     "name": "stderr",
     "output_type": "stream",
     "text": [
      "C:\\Users\\tharu\\AppData\\Local\\Temp\\ipykernel_1156\\1366785460.py:1: FutureWarning: The default value of numeric_only in DataFrame.corr is deprecated. In a future version, it will default to False. Select only valid columns or specify the value of numeric_only to silence this warning.\n",
      "  sns.heatmap(dfy.corr())\n"
     ]
    },
    {
     "data": {
      "text/plain": [
       "<AxesSubplot: >"
      ]
     },
     "execution_count": 689,
     "metadata": {},
     "output_type": "execute_result"
    },
    {
     "data": {
      "image/png": "[encoded data removed]",
      "text/plain": [
       "<Figure size 640x480 with 2 Axes>"
      ]
     },
     "metadata": {},
     "output_type": "display_data"
    }
   ],
   "source": [
    "sns.heatmap(dfy.corr())"
   ]
  },
  {
   "cell_type": "code",
   "execution_count": 690,
   "metadata": {},
   "outputs": [],
   "source": [
    "def edit_numericize(dfy,col,strs_to_remove):\n",
    "    processed = dfy[col]\n",
    "    for string in strs_to_remove:\n",
    "        processed = processed.str.replace(string,'',regex=False)\n",
    "    return pd.to_numeric(processed)\n",
    "\n",
    "\n",
    "dfy['mobile_price'] = edit_numericize(dfy,'mobile_price',['₹',','])\n",
    "dfy['mobile_price'].unique()\n",
    "status['mobile_price'] = 1\n"
   ]
  },
  {
   "cell_type": "code",
   "execution_count": 691,
   "metadata": {},
   "outputs": [
    {
     "name": "stderr",
     "output_type": "stream",
     "text": [
      "C:\\Users\\tharu\\AppData\\Local\\Temp\\ipykernel_1156\\2643461948.py:1: SettingWithCopyWarning: \n",
      "A value is trying to be set on a copy of a slice from a DataFrame\n",
      "\n",
      "See the caveats in the documentation: https://pandas.pydata.org/pandas-docs/stable/user_guide/indexing.html#returning-a-view-versus-a-copy\n",
      "  dfy.bluetooth[dfy.bluetooth == 'Yes'] = 1\n"
     ]
    }
   ],
   "source": [
    "dfy.bluetooth[dfy.bluetooth == 'Yes'] = 1"
   ]
  },
  {
   "cell_type": "code",
   "execution_count": 692,
   "metadata": {},
   "outputs": [
    {
     "data": {
      "text/plain": [
       "array(['Octa Core', 'Quad Core', 'Single Core'], dtype=object)"
      ]
     },
     "execution_count": 692,
     "metadata": {},
     "output_type": "execute_result"
    }
   ],
   "source": [
    "dfy['num_cores'].unique()"
   ]
  },
  {
   "cell_type": "code",
   "execution_count": 693,
   "metadata": {},
   "outputs": [
    {
     "data": {
      "text/plain": [
       "array(['Dual Sim', 'Single Sim'], dtype=object)"
      ]
     },
     "execution_count": 693,
     "metadata": {},
     "output_type": "execute_result"
    }
   ],
   "source": [
    "dfy['dual_sim'].unique()"
   ]
  },
  {
   "cell_type": "code",
   "execution_count": 694,
   "metadata": {},
   "outputs": [
    {
     "name": "stderr",
     "output_type": "stream",
     "text": [
      "C:\\Users\\tharu\\AppData\\Local\\Temp\\ipykernel_1156\\2470769797.py:2: SettingWithCopyWarning: \n",
      "A value is trying to be set on a copy of a slice from a DataFrame\n",
      "\n",
      "See the caveats in the documentation: https://pandas.pydata.org/pandas-docs/stable/user_guide/indexing.html#returning-a-view-versus-a-copy\n",
      "  dfy.dual_sim[dfy.dual_sim == 'Dual Sim'] = 2\n",
      "C:\\Users\\tharu\\AppData\\Local\\Temp\\ipykernel_1156\\2470769797.py:3: SettingWithCopyWarning: \n",
      "A value is trying to be set on a copy of a slice from a DataFrame\n",
      "\n",
      "See the caveats in the documentation: https://pandas.pydata.org/pandas-docs/stable/user_guide/indexing.html#returning-a-view-versus-a-copy\n",
      "  dfy.dual_sim[dfy.dual_sim == 'Single Sim'] = 1\n"
     ]
    }
   ],
   "source": [
    "def encoder(dfy):\n",
    "    dfy.dual_sim[dfy.dual_sim == 'Dual Sim'] = 2\n",
    "    dfy.dual_sim[dfy.dual_sim == 'Single Sim'] = 1\n",
    "encoder(dfy)\n"
   ]
  },
  {
   "cell_type": "code",
   "execution_count": 695,
   "metadata": {},
   "outputs": [
    {
     "data": {
      "text/plain": [
       "array([2, 1], dtype=object)"
      ]
     },
     "execution_count": 695,
     "metadata": {},
     "output_type": "execute_result"
    }
   ],
   "source": [
    "dfy['dual_sim'].unique()"
   ]
  },
  {
   "cell_type": "code",
   "execution_count": 696,
   "metadata": {},
   "outputs": [
    {
     "data": {
      "text/plain": [
       "array(['Octa Core', 'Quad Core', 'Single Core'], dtype=object)"
      ]
     },
     "execution_count": 696,
     "metadata": {},
     "output_type": "execute_result"
    }
   ],
   "source": [
    "dfy.num_cores.unique()"
   ]
  },
  {
   "cell_type": "code",
   "execution_count": 697,
   "metadata": {},
   "outputs": [
    {
     "name": "stderr",
     "output_type": "stream",
     "text": [
      "C:\\Users\\tharu\\AppData\\Local\\Temp\\ipykernel_1156\\3153206679.py:2: SettingWithCopyWarning: \n",
      "A value is trying to be set on a copy of a slice from a DataFrame\n",
      "\n",
      "See the caveats in the documentation: https://pandas.pydata.org/pandas-docs/stable/user_guide/indexing.html#returning-a-view-versus-a-copy\n",
      "  dfy.num_cores[dfy.num_cores == 'Octa Core'] = 8\n",
      "C:\\Users\\tharu\\AppData\\Local\\Temp\\ipykernel_1156\\3153206679.py:3: SettingWithCopyWarning: \n",
      "A value is trying to be set on a copy of a slice from a DataFrame\n",
      "\n",
      "See the caveats in the documentation: https://pandas.pydata.org/pandas-docs/stable/user_guide/indexing.html#returning-a-view-versus-a-copy\n",
      "  dfy.num_cores[dfy.num_cores == 'Quad Core'] = 4\n",
      "C:\\Users\\tharu\\AppData\\Local\\Temp\\ipykernel_1156\\3153206679.py:4: SettingWithCopyWarning: \n",
      "A value is trying to be set on a copy of a slice from a DataFrame\n",
      "\n",
      "See the caveats in the documentation: https://pandas.pydata.org/pandas-docs/stable/user_guide/indexing.html#returning-a-view-versus-a-copy\n",
      "  dfy.num_cores[dfy.num_cores == 'Single Core'] = 1\n"
     ]
    }
   ],
   "source": [
    "def encoder(dfy):\n",
    "    dfy.num_cores[dfy.num_cores == 'Octa Core'] = 8\n",
    "    dfy.num_cores[dfy.num_cores == 'Quad Core'] = 4\n",
    "    dfy.num_cores[dfy.num_cores == 'Single Core'] = 1\n",
    "encoder(dfy)"
   ]
  },
  {
   "cell_type": "code",
   "execution_count": 698,
   "metadata": {},
   "outputs": [
    {
     "data": {
      "text/plain": [
       "8    444\n",
       "4     14\n",
       "1      1\n",
       "Name: num_cores, dtype: int64"
      ]
     },
     "execution_count": 698,
     "metadata": {},
     "output_type": "execute_result"
    }
   ],
   "source": [
    "dfy['num_cores'].value_counts()"
   ]
  },
  {
   "cell_type": "code",
   "execution_count": 699,
   "metadata": {},
   "outputs": [
    {
     "data": {
      "text/plain": [
       "array(['Android 10', 'Android Pie 9.0', 'Android Pie 9',\n",
       "       'Android Oreo 8.1', 'Android Pie 10', 'Android Nougat 7.1.1',\n",
       "       'Android Oreo 8.0', 'Android Nougat 7.1.2', 'Android KitKat 4.4.2',\n",
       "       'Android Marshmallow 6.0.1', 'Android Nougat 7.1',\n",
       "       'Android Marshmallow 6', 'Android Nougat 7',\n",
       "       'Android Lollipop 5.4.1', 'Android Oreo 8.1.0', 'Android Oreo 8',\n",
       "       'Android Lollipop 5.1', 'Android Lollipop 5.1.1'], dtype=object)"
      ]
     },
     "execution_count": 699,
     "metadata": {},
     "output_type": "execute_result"
    }
   ],
   "source": [
    "dfy.os.unique()"
   ]
  },
  {
   "cell_type": "code",
   "execution_count": 700,
   "metadata": {},
   "outputs": [],
   "source": [
    "dfy.os = dfy.os.map( {\n",
    "        'Android 10' : 10.0, 'Android Pie 9.0' : 9.0, 'Android Pie 9' : 9.0,\n",
    "       'Android Oreo 8.1' : 8.1, 'Android Pie 10' : 10.0, 'Android Nougat 7.1.1' : 7.1,\n",
    "       'Android Oreo 8.0' : 8.0, 'Android Nougat 7.1.2' : 7.1, 'Android KitKat 4.4.2' : 4.4,\n",
    "       'Android Marshmallow 6.0.1' : 6.0, 'Android Nougat 7.1' : 7.1,\n",
    "       'Android Marshmallow 6' : 6.0, 'Android Nougat 7' : 7.0,\n",
    "       'Android Lollipop 5.4.1' : 5.4, 'Android Oreo 8.1.0' : 8.1, 'Android Oreo 8' : 8.0,\n",
    "       'Android Lollipop 5.1' : 5.1, 'Android Lollipop 5.1.1' : 5.1\n",
    "    } )"
   ]
  },
  {
   "cell_type": "code",
   "execution_count": 701,
   "metadata": {},
   "outputs": [
    {
     "data": {
      "text/plain": [
       "array([10. ,  9. ,  8.1,  7.1,  8. ,  4.4,  6. ,  7. ,  5.4,  5.1])"
      ]
     },
     "execution_count": 701,
     "metadata": {},
     "output_type": "execute_result"
    }
   ],
   "source": [
    "dfy.os.unique()"
   ]
  },
  {
   "cell_type": "code",
   "execution_count": 702,
   "metadata": {},
   "outputs": [
    {
     "data": {
      "text/plain": [
       "array(['16.56 cm (6.52 inch)', '16.51 cm (6.5 inch)',\n",
       "       '16.0 cm (6.3 inch)', '16.26 cm (6.4 inch)',\n",
       "       '16.36 cm (6.44 inch)', '16.76 cm (6.6 inch)',\n",
       "       '15.49 cm (6.1 inch)', '16.69 cm (6.57 inch)',\n",
       "       '15.8 cm (6.22 inch)', '16.23 cm (6.39 inch)',\n",
       "       '16.94 cm (6.67 inch)', '15.44 cm (6.08 inch)',\n",
       "       '15.21 cm (5.99 inch)', '15.9 cm (6.26 inch)', '12.7 cm (5 inch)',\n",
       "       '15.46 cm (6.088 inch)', '13.97 cm (5.5 inch)',\n",
       "       '13.84 cm (5.45 inch)', '16.13 cm (6.35 inch)',\n",
       "       '16.21 cm (6.38 inch)', '16.59 cm (6.53 inch)',\n",
       "       '16.28 cm (6.41 inch)', '16.74 cm (6.59 inch)',\n",
       "       '14.48 cm (5.7 inch)', '15.24 cm (6 inch)', '13.21 cm (5.2 inch)',\n",
       "       '17.02 cm (6.7 inch)', '11.94 cm (4.7 inch)',\n",
       "       '15.06 cm (5.93 inch)', '15.75 cm (6.2 inch)',\n",
       "       '15.72 cm (6.19 inch)', '14.35 cm (5.65 inch)',\n",
       "       '15.19 cm (5.98 inch)', '15.77 cm (6.21 inch)',\n",
       "       '15.7 cm (6.18 inch)', '15.82 cm (6.23 inch)'], dtype=object)"
      ]
     },
     "execution_count": 702,
     "metadata": {},
     "output_type": "execute_result"
    }
   ],
   "source": [
    "dfy.disp_size.unique()\n",
    "\n"
   ]
  },
  {
   "cell_type": "code",
   "execution_count": 703,
   "metadata": {},
   "outputs": [],
   "source": [
    "dfy[['disp_size', 'xc','vb', 'bn']] = dfy['disp_size'].str.split(' ', expand=True)"
   ]
  },
  {
   "cell_type": "code",
   "execution_count": 704,
   "metadata": {},
   "outputs": [],
   "source": [
    "dfy.drop('xc', axis = 1, inplace=True)"
   ]
  },
  {
   "cell_type": "code",
   "execution_count": 705,
   "metadata": {},
   "outputs": [],
   "source": [
    "dfy.drop('bn', axis = 1, inplace=True)"
   ]
  },
  {
   "cell_type": "code",
   "execution_count": 706,
   "metadata": {},
   "outputs": [],
   "source": [
    "dfy.drop('vb', axis = 1, inplace=True)"
   ]
  },
  {
   "cell_type": "code",
   "execution_count": 707,
   "metadata": {},
   "outputs": [],
   "source": [
    "dfy[['resolution_Hight', 'resolution_width', \"axs\"]] = dfy['resolution'].str.split('x', expand=True)"
   ]
  },
  {
   "cell_type": "code",
   "execution_count": 708,
   "metadata": {},
   "outputs": [],
   "source": [
    "dfy.drop('axs', axis=1, inplace=True)"
   ]
  },
  {
   "cell_type": "code",
   "execution_count": 709,
   "metadata": {},
   "outputs": [],
   "source": [
    "dfy[[\"azx\", 'resolution_width', 'z']] = dfy['resolution_width'].str.split(' ', expand=True)"
   ]
  },
  {
   "cell_type": "code",
   "execution_count": 710,
   "metadata": {},
   "outputs": [],
   "source": [
    "dfy.drop('azx', axis=1, inplace=True)"
   ]
  },
  {
   "cell_type": "code",
   "execution_count": 711,
   "metadata": {},
   "outputs": [],
   "source": [
    "dfy.drop('z', axis=1, inplace=True)"
   ]
  },
  {
   "cell_type": "code",
   "execution_count": 712,
   "metadata": {},
   "outputs": [],
   "source": [
    "dfy.drop('resolution', axis=1, inplace=True)"
   ]
  },
  {
   "cell_type": "code",
   "execution_count": 713,
   "metadata": {},
   "outputs": [
    {
     "name": "stdout",
     "output_type": "stream",
     "text": [
      "<class 'pandas.core.frame.DataFrame'>\n",
      "RangeIndex: 459 entries, 0 to 458\n",
      "Data columns (total 21 columns):\n",
      " #   Column            Non-Null Count  Dtype  \n",
      "---  ------            --------------  -----  \n",
      " 0   mobile_name       459 non-null    object \n",
      " 1   mobile_price      459 non-null    int64  \n",
      " 2   mobile_color      459 non-null    object \n",
      " 3   dual_sim          459 non-null    object \n",
      " 4   disp_size         459 non-null    object \n",
      " 5   os                459 non-null    float64\n",
      " 6   num_cores         459 non-null    object \n",
      " 7   mp_speed          459 non-null    float64\n",
      " 8   int_memory        459 non-null    int64  \n",
      " 9   ram               459 non-null    int64  \n",
      " 10  p_cam             459 non-null    object \n",
      " 11  f_cam             459 non-null    object \n",
      " 12  network           459 non-null    object \n",
      " 13  bluetooth         459 non-null    object \n",
      " 14  battery_power     459 non-null    int64  \n",
      " 15  mob_width         459 non-null    float64\n",
      " 16  mob_height        459 non-null    float64\n",
      " 17  mob_depth         459 non-null    float64\n",
      " 18  mob_weight        459 non-null    float64\n",
      " 19  resolution_Hight  459 non-null    object \n",
      " 20  resolution_width  445 non-null    object \n",
      "dtypes: float64(6), int64(4), object(11)\n",
      "memory usage: 75.4+ KB\n"
     ]
    }
   ],
   "source": [
    "dfy.info()"
   ]
  },
  {
   "cell_type": "code",
   "execution_count": 714,
   "metadata": {},
   "outputs": [
    {
     "data": {
      "text/plain": [
       "array(['4G VOLTE, 4G, 3G, 2G', '3G, 4G VOLTE, 2G', '3G, 4G VOLTE, 4G, 2G',\n",
       "       '3G, 4G, 2G', '4G, 2G, 3G', '5G, 4G VOLTE, 4G, 3G, 2G',\n",
       "       '4G VOLTE, 3G, 2G', '4G VOLTE, 3G', '4G VOLTE, 4G, 2G, 3G',\n",
       "       '4G VOLTE, 5G', '3G, 4G VOLTE, 4G', '3G', '4G VOLTE',\n",
       "       '3G, 4G VOLTE', '2G', '4G, 3G, 2G', '3G, 4G', '4G VOLTE, 4G'],\n",
       "      dtype=object)"
      ]
     },
     "execution_count": 714,
     "metadata": {},
     "output_type": "execute_result"
    }
   ],
   "source": [
    "dfy.network.unique()"
   ]
  },
  {
   "cell_type": "code",
   "execution_count": 715,
   "metadata": {},
   "outputs": [
    {
     "data": {
      "text/plain": [
       "array([4, 3, 5, 2, 1], dtype=int64)"
      ]
     },
     "execution_count": 715,
     "metadata": {},
     "output_type": "execute_result"
    }
   ],
   "source": [
    "dfy['network_count'] = [len(x.split(',')) for x in dfy['network']]\n",
    "dfy['network_count'].unique()"
   ]
  },
  {
   "cell_type": "code",
   "execution_count": 716,
   "metadata": {},
   "outputs": [],
   "source": [
    "dfy.drop('network', axis=1, inplace=True)"
   ]
  },
  {
   "cell_type": "code",
   "execution_count": 717,
   "metadata": {},
   "outputs": [
    {
     "data": {
      "text/plain": [
       "array(['White', 'Blue', 'Green', 'Sea', 'Red', 'Orange', 'Black', 'Ruby',\n",
       "       'Sapphire', 'Purple', 'Brick', 'Concrete', 'Grey', 'Gold',\n",
       "       'Silver', 'white', 'gold', 'Violet', 'Wave', 'Gray', 'Brown',\n",
       "       'Cyan', 'Edition', 'Greener', 'Champagne', 'Mint', 'Mist'],\n",
       "      dtype=object)"
      ]
     },
     "execution_count": 717,
     "metadata": {},
     "output_type": "execute_result"
    }
   ],
   "source": [
    "def replace_regex(dfy,col,chars_to_remove):\n",
    "    processed = dfy[col]\n",
    "    for char in chars_to_remove:\n",
    "        processed = processed.str.replace(char,'',regex=True)\n",
    "    return processed\n",
    "\n",
    "dfy['mobile_color_basic'] = replace_regex(dfy,'mobile_color',['.* '])\n",
    "dfy['mobile_color_basic'].unique()"
   ]
  },
  {
   "cell_type": "code",
   "execution_count": 718,
   "metadata": {},
   "outputs": [],
   "source": [
    "dfy.drop('mobile_color', axis=1, inplace=True)"
   ]
  },
  {
   "cell_type": "code",
   "execution_count": 719,
   "metadata": {},
   "outputs": [
    {
     "data": {
      "text/html": [
       "<div>\n",
       "<style scoped>\n",
       "    .dataframe tbody tr th:only-of-type {\n",
       "        vertical-align: middle;\n",
       "    }\n",
       "\n",
       "    .dataframe tbody tr th {\n",
       "        vertical-align: top;\n",
       "    }\n",
       "\n",
       "    .dataframe thead th {\n",
       "        text-align: right;\n",
       "    }\n",
       "</style>\n",
       "<table border=\"1\" class=\"dataframe\">\n",
       "  <thead>\n",
       "    <tr style=\"text-align: right;\">\n",
       "      <th></th>\n",
       "      <th>mobile_name</th>\n",
       "      <th>mobile_price</th>\n",
       "      <th>dual_sim</th>\n",
       "      <th>disp_size</th>\n",
       "      <th>os</th>\n",
       "      <th>num_cores</th>\n",
       "      <th>mp_speed</th>\n",
       "      <th>int_memory</th>\n",
       "      <th>ram</th>\n",
       "      <th>p_cam</th>\n",
       "      <th>...</th>\n",
       "      <th>battery_power</th>\n",
       "      <th>mob_width</th>\n",
       "      <th>mob_height</th>\n",
       "      <th>mob_depth</th>\n",
       "      <th>mob_weight</th>\n",
       "      <th>resolution_Hight</th>\n",
       "      <th>resolution_width</th>\n",
       "      <th>network_count</th>\n",
       "      <th>mobile_color_basic</th>\n",
       "      <th>mobile_brand</th>\n",
       "    </tr>\n",
       "  </thead>\n",
       "  <tbody>\n",
       "    <tr>\n",
       "      <th>0</th>\n",
       "      <td>Realme Narzo 10A (So White, 32 GB)</td>\n",
       "      <td>8999</td>\n",
       "      <td>2</td>\n",
       "      <td>16.56</td>\n",
       "      <td>10.0</td>\n",
       "      <td>8</td>\n",
       "      <td>2.0</td>\n",
       "      <td>32</td>\n",
       "      <td>3</td>\n",
       "      <td>12MP + 2MP + 2MP</td>\n",
       "      <td>...</td>\n",
       "      <td>5000</td>\n",
       "      <td>75.0</td>\n",
       "      <td>164.4</td>\n",
       "      <td>8.95</td>\n",
       "      <td>195.0</td>\n",
       "      <td>1600</td>\n",
       "      <td>720</td>\n",
       "      <td>4</td>\n",
       "      <td>White</td>\n",
       "      <td>Realme</td>\n",
       "    </tr>\n",
       "    <tr>\n",
       "      <th>1</th>\n",
       "      <td>Realme Narzo 10A (So Blue, 32 GB)</td>\n",
       "      <td>8999</td>\n",
       "      <td>2</td>\n",
       "      <td>16.56</td>\n",
       "      <td>10.0</td>\n",
       "      <td>8</td>\n",
       "      <td>2.0</td>\n",
       "      <td>32</td>\n",
       "      <td>3</td>\n",
       "      <td>12MP + 2MP + 2MP</td>\n",
       "      <td>...</td>\n",
       "      <td>5000</td>\n",
       "      <td>75.0</td>\n",
       "      <td>164.4</td>\n",
       "      <td>8.95</td>\n",
       "      <td>195.0</td>\n",
       "      <td>1600</td>\n",
       "      <td>720</td>\n",
       "      <td>4</td>\n",
       "      <td>Blue</td>\n",
       "      <td>Realme</td>\n",
       "    </tr>\n",
       "    <tr>\n",
       "      <th>2</th>\n",
       "      <td>Realme Narzo 10A (So Blue, 64 GB)</td>\n",
       "      <td>9999</td>\n",
       "      <td>2</td>\n",
       "      <td>16.56</td>\n",
       "      <td>10.0</td>\n",
       "      <td>8</td>\n",
       "      <td>2.0</td>\n",
       "      <td>64</td>\n",
       "      <td>4</td>\n",
       "      <td>12MP + 2MP + 2MP</td>\n",
       "      <td>...</td>\n",
       "      <td>5000</td>\n",
       "      <td>75.0</td>\n",
       "      <td>164.4</td>\n",
       "      <td>8.95</td>\n",
       "      <td>195.0</td>\n",
       "      <td>1600</td>\n",
       "      <td>720</td>\n",
       "      <td>4</td>\n",
       "      <td>Blue</td>\n",
       "      <td>Realme</td>\n",
       "    </tr>\n",
       "    <tr>\n",
       "      <th>3</th>\n",
       "      <td>Realme Narzo 10A (So White, 64 GB)</td>\n",
       "      <td>9999</td>\n",
       "      <td>2</td>\n",
       "      <td>16.56</td>\n",
       "      <td>10.0</td>\n",
       "      <td>8</td>\n",
       "      <td>2.0</td>\n",
       "      <td>64</td>\n",
       "      <td>4</td>\n",
       "      <td>12MP + 2MP + 2MP</td>\n",
       "      <td>...</td>\n",
       "      <td>5000</td>\n",
       "      <td>75.0</td>\n",
       "      <td>164.4</td>\n",
       "      <td>8.95</td>\n",
       "      <td>195.0</td>\n",
       "      <td>1600</td>\n",
       "      <td>720</td>\n",
       "      <td>4</td>\n",
       "      <td>White</td>\n",
       "      <td>Realme</td>\n",
       "    </tr>\n",
       "    <tr>\n",
       "      <th>4</th>\n",
       "      <td>Realme Narzo 10 (That Green, 128 GB)</td>\n",
       "      <td>11999</td>\n",
       "      <td>2</td>\n",
       "      <td>16.51</td>\n",
       "      <td>10.0</td>\n",
       "      <td>8</td>\n",
       "      <td>2.0</td>\n",
       "      <td>128</td>\n",
       "      <td>4</td>\n",
       "      <td>48MP + 8MP + 2MP + 2MP</td>\n",
       "      <td>...</td>\n",
       "      <td>5000</td>\n",
       "      <td>75.4</td>\n",
       "      <td>164.4</td>\n",
       "      <td>9.00</td>\n",
       "      <td>199.0</td>\n",
       "      <td>1600</td>\n",
       "      <td>720</td>\n",
       "      <td>4</td>\n",
       "      <td>Green</td>\n",
       "      <td>Realme</td>\n",
       "    </tr>\n",
       "  </tbody>\n",
       "</table>\n",
       "<p>5 rows × 22 columns</p>\n",
       "</div>"
      ],
      "text/plain": [
       "                            mobile_name  mobile_price dual_sim disp_size  \\\n",
       "0    Realme Narzo 10A (So White, 32 GB)          8999        2     16.56   \n",
       "1     Realme Narzo 10A (So Blue, 32 GB)          8999        2     16.56   \n",
       "2     Realme Narzo 10A (So Blue, 64 GB)          9999        2     16.56   \n",
       "3    Realme Narzo 10A (So White, 64 GB)          9999        2     16.56   \n",
       "4  Realme Narzo 10 (That Green, 128 GB)         11999        2     16.51   \n",
       "\n",
       "     os num_cores  mp_speed  int_memory  ram                   p_cam  ...  \\\n",
       "0  10.0         8       2.0          32    3        12MP + 2MP + 2MP  ...   \n",
       "1  10.0         8       2.0          32    3        12MP + 2MP + 2MP  ...   \n",
       "2  10.0         8       2.0          64    4        12MP + 2MP + 2MP  ...   \n",
       "3  10.0         8       2.0          64    4        12MP + 2MP + 2MP  ...   \n",
       "4  10.0         8       2.0         128    4  48MP + 8MP + 2MP + 2MP  ...   \n",
       "\n",
       "  battery_power mob_width  mob_height  mob_depth  mob_weight  \\\n",
       "0          5000      75.0       164.4       8.95       195.0   \n",
       "1          5000      75.0       164.4       8.95       195.0   \n",
       "2          5000      75.0       164.4       8.95       195.0   \n",
       "3          5000      75.0       164.4       8.95       195.0   \n",
       "4          5000      75.4       164.4       9.00       199.0   \n",
       "\n",
       "   resolution_Hight  resolution_width network_count mobile_color_basic  \\\n",
       "0             1600                720             4              White   \n",
       "1             1600                720             4               Blue   \n",
       "2             1600                720             4               Blue   \n",
       "3             1600                720             4              White   \n",
       "4             1600                720             4              Green   \n",
       "\n",
       "   mobile_brand  \n",
       "0        Realme  \n",
       "1        Realme  \n",
       "2        Realme  \n",
       "3        Realme  \n",
       "4        Realme  \n",
       "\n",
       "[5 rows x 22 columns]"
      ]
     },
     "execution_count": 719,
     "metadata": {},
     "output_type": "execute_result"
    }
   ],
   "source": [
    "dfy['mobile_brand'] = replace_regex(dfy, 'mobile_name', [' .*'])\n",
    "dfy['mobile_brand'].unique()\n",
    "dfy.head()"
   ]
  },
  {
   "cell_type": "code",
   "execution_count": 720,
   "metadata": {},
   "outputs": [],
   "source": [
    "dfy.drop('mobile_name', axis=1, inplace=True)"
   ]
  },
  {
   "cell_type": "code",
   "execution_count": 721,
   "metadata": {},
   "outputs": [],
   "source": [
    "def replace_regex_numericize(dfy,col,chars_to_remove):\n",
    "    processed = dfy[col]\n",
    "    for char in chars_to_remove:\n",
    "        processed = processed.str.replace(char,'',regex=True)\n",
    "    return pd.to_numeric(processed)\n",
    "dfy['f_camera'] = replace_regex_numericize(dfy,'f_cam',['MP.*'])\n"
   ]
  },
  {
   "cell_type": "code",
   "execution_count": 723,
   "metadata": {},
   "outputs": [],
   "source": [
    "dfy.drop('f_cam', axis=1, inplace=True)"
   ]
  },
  {
   "cell_type": "code",
   "execution_count": 726,
   "metadata": {},
   "outputs": [
    {
     "data": {
      "text/plain": [
       "0          12MP + 2MP + 2MP\n",
       "1          12MP + 2MP + 2MP\n",
       "2          12MP + 2MP + 2MP\n",
       "3          12MP + 2MP + 2MP\n",
       "4    48MP + 8MP + 2MP + 2MP\n",
       "Name: p_cam, dtype: object"
      ]
     },
     "execution_count": 726,
     "metadata": {},
     "output_type": "execute_result"
    }
   ],
   "source": [
    "dfy.p_cam.head()"
   ]
  },
  {
   "cell_type": "code",
   "execution_count": 730,
   "metadata": {},
   "outputs": [
    {
     "data": {
      "text/plain": [
       "array([12, 48, 64, 16, 13, 20, 10,  8,  5], dtype=int64)"
      ]
     },
     "execution_count": 730,
     "metadata": {},
     "output_type": "execute_result"
    }
   ],
   "source": [
    "dfy['p_cam_max'] = [x[0:2].replace('M','') for x in dfy['p_cam']]\n",
    "dfy['p_cam_max'] = numericize(dfy,'p_cam_max')\n",
    "dfy['p_cam_max'].unique()"
   ]
  },
  {
   "cell_type": "code",
   "execution_count": 732,
   "metadata": {},
   "outputs": [],
   "source": [
    "dfy.drop('p_cam', axis=1,inplace=True)"
   ]
  },
  {
   "cell_type": "code",
   "execution_count": 733,
   "metadata": {},
   "outputs": [
    {
     "data": {
      "text/html": [
       "<div>\n",
       "<style scoped>\n",
       "    .dataframe tbody tr th:only-of-type {\n",
       "        vertical-align: middle;\n",
       "    }\n",
       "\n",
       "    .dataframe tbody tr th {\n",
       "        vertical-align: top;\n",
       "    }\n",
       "\n",
       "    .dataframe thead th {\n",
       "        text-align: right;\n",
       "    }\n",
       "</style>\n",
       "<table border=\"1\" class=\"dataframe\">\n",
       "  <thead>\n",
       "    <tr style=\"text-align: right;\">\n",
       "      <th></th>\n",
       "      <th>mobile_price</th>\n",
       "      <th>dual_sim</th>\n",
       "      <th>disp_size</th>\n",
       "      <th>os</th>\n",
       "      <th>num_cores</th>\n",
       "      <th>mp_speed</th>\n",
       "      <th>int_memory</th>\n",
       "      <th>ram</th>\n",
       "      <th>bluetooth</th>\n",
       "      <th>battery_power</th>\n",
       "      <th>...</th>\n",
       "      <th>mob_height</th>\n",
       "      <th>mob_depth</th>\n",
       "      <th>mob_weight</th>\n",
       "      <th>resolution_Hight</th>\n",
       "      <th>resolution_width</th>\n",
       "      <th>network_count</th>\n",
       "      <th>mobile_color_basic</th>\n",
       "      <th>mobile_brand</th>\n",
       "      <th>f_camera</th>\n",
       "      <th>p_cam_max</th>\n",
       "    </tr>\n",
       "  </thead>\n",
       "  <tbody>\n",
       "    <tr>\n",
       "      <th>0</th>\n",
       "      <td>8999</td>\n",
       "      <td>2</td>\n",
       "      <td>16.56</td>\n",
       "      <td>10.0</td>\n",
       "      <td>8</td>\n",
       "      <td>2.0</td>\n",
       "      <td>32</td>\n",
       "      <td>3</td>\n",
       "      <td>1</td>\n",
       "      <td>5000</td>\n",
       "      <td>...</td>\n",
       "      <td>164.4</td>\n",
       "      <td>8.95</td>\n",
       "      <td>195.0</td>\n",
       "      <td>1600</td>\n",
       "      <td>720</td>\n",
       "      <td>4</td>\n",
       "      <td>White</td>\n",
       "      <td>Realme</td>\n",
       "      <td>5</td>\n",
       "      <td>12</td>\n",
       "    </tr>\n",
       "    <tr>\n",
       "      <th>1</th>\n",
       "      <td>8999</td>\n",
       "      <td>2</td>\n",
       "      <td>16.56</td>\n",
       "      <td>10.0</td>\n",
       "      <td>8</td>\n",
       "      <td>2.0</td>\n",
       "      <td>32</td>\n",
       "      <td>3</td>\n",
       "      <td>1</td>\n",
       "      <td>5000</td>\n",
       "      <td>...</td>\n",
       "      <td>164.4</td>\n",
       "      <td>8.95</td>\n",
       "      <td>195.0</td>\n",
       "      <td>1600</td>\n",
       "      <td>720</td>\n",
       "      <td>4</td>\n",
       "      <td>Blue</td>\n",
       "      <td>Realme</td>\n",
       "      <td>5</td>\n",
       "      <td>12</td>\n",
       "    </tr>\n",
       "    <tr>\n",
       "      <th>2</th>\n",
       "      <td>9999</td>\n",
       "      <td>2</td>\n",
       "      <td>16.56</td>\n",
       "      <td>10.0</td>\n",
       "      <td>8</td>\n",
       "      <td>2.0</td>\n",
       "      <td>64</td>\n",
       "      <td>4</td>\n",
       "      <td>1</td>\n",
       "      <td>5000</td>\n",
       "      <td>...</td>\n",
       "      <td>164.4</td>\n",
       "      <td>8.95</td>\n",
       "      <td>195.0</td>\n",
       "      <td>1600</td>\n",
       "      <td>720</td>\n",
       "      <td>4</td>\n",
       "      <td>Blue</td>\n",
       "      <td>Realme</td>\n",
       "      <td>5</td>\n",
       "      <td>12</td>\n",
       "    </tr>\n",
       "    <tr>\n",
       "      <th>3</th>\n",
       "      <td>9999</td>\n",
       "      <td>2</td>\n",
       "      <td>16.56</td>\n",
       "      <td>10.0</td>\n",
       "      <td>8</td>\n",
       "      <td>2.0</td>\n",
       "      <td>64</td>\n",
       "      <td>4</td>\n",
       "      <td>1</td>\n",
       "      <td>5000</td>\n",
       "      <td>...</td>\n",
       "      <td>164.4</td>\n",
       "      <td>8.95</td>\n",
       "      <td>195.0</td>\n",
       "      <td>1600</td>\n",
       "      <td>720</td>\n",
       "      <td>4</td>\n",
       "      <td>White</td>\n",
       "      <td>Realme</td>\n",
       "      <td>5</td>\n",
       "      <td>12</td>\n",
       "    </tr>\n",
       "    <tr>\n",
       "      <th>4</th>\n",
       "      <td>11999</td>\n",
       "      <td>2</td>\n",
       "      <td>16.51</td>\n",
       "      <td>10.0</td>\n",
       "      <td>8</td>\n",
       "      <td>2.0</td>\n",
       "      <td>128</td>\n",
       "      <td>4</td>\n",
       "      <td>1</td>\n",
       "      <td>5000</td>\n",
       "      <td>...</td>\n",
       "      <td>164.4</td>\n",
       "      <td>9.00</td>\n",
       "      <td>199.0</td>\n",
       "      <td>1600</td>\n",
       "      <td>720</td>\n",
       "      <td>4</td>\n",
       "      <td>Green</td>\n",
       "      <td>Realme</td>\n",
       "      <td>16</td>\n",
       "      <td>48</td>\n",
       "    </tr>\n",
       "  </tbody>\n",
       "</table>\n",
       "<p>5 rows × 21 columns</p>\n",
       "</div>"
      ],
      "text/plain": [
       "   mobile_price dual_sim disp_size    os num_cores  mp_speed  int_memory  ram  \\\n",
       "0          8999        2     16.56  10.0         8       2.0          32    3   \n",
       "1          8999        2     16.56  10.0         8       2.0          32    3   \n",
       "2          9999        2     16.56  10.0         8       2.0          64    4   \n",
       "3          9999        2     16.56  10.0         8       2.0          64    4   \n",
       "4         11999        2     16.51  10.0         8       2.0         128    4   \n",
       "\n",
       "  bluetooth  battery_power  ...  mob_height  mob_depth  mob_weight  \\\n",
       "0         1           5000  ...       164.4       8.95       195.0   \n",
       "1         1           5000  ...       164.4       8.95       195.0   \n",
       "2         1           5000  ...       164.4       8.95       195.0   \n",
       "3         1           5000  ...       164.4       8.95       195.0   \n",
       "4         1           5000  ...       164.4       9.00       199.0   \n",
       "\n",
       "   resolution_Hight resolution_width network_count  mobile_color_basic  \\\n",
       "0             1600               720             4               White   \n",
       "1             1600               720             4                Blue   \n",
       "2             1600               720             4                Blue   \n",
       "3             1600               720             4               White   \n",
       "4             1600               720             4               Green   \n",
       "\n",
       "  mobile_brand f_camera  p_cam_max  \n",
       "0       Realme        5         12  \n",
       "1       Realme        5         12  \n",
       "2       Realme        5         12  \n",
       "3       Realme        5         12  \n",
       "4       Realme       16         48  \n",
       "\n",
       "[5 rows x 21 columns]"
      ]
     },
     "execution_count": 733,
     "metadata": {},
     "output_type": "execute_result"
    }
   ],
   "source": [
    "dfy.head()"
   ]
  },
  {
   "cell_type": "code",
   "execution_count": 736,
   "metadata": {},
   "outputs": [],
   "source": [
    "dfy.to_csv('Mob_data.csv', index=False)"
   ]
  },
  {
   "cell_type": "code",
   "execution_count": 741,
   "metadata": {},
   "outputs": [
    {
     "data": {
      "text/plain": [
       "Text(0, 0.5, 'Price')"
      ]
     },
     "execution_count": 741,
     "metadata": {},
     "output_type": "execute_result"
    },
    {
     "data": {
      "image/png": "[encoded data removed]",
      "text/plain": [
       "<Figure size 640x480 with 1 Axes>"
      ]
     },
     "metadata": {},
     "output_type": "display_data"
    }
   ],
   "source": [
    "plt.bar(dfy['mobile_brand'], dfy['mobile_price'])\n",
    "plt.xlabel('Brand')\n",
    "plt.ylabel('Price')"
   ]
  },
  {
   "cell_type": "code",
   "execution_count": 744,
   "metadata": {},
   "outputs": [
    {
     "name": "stderr",
     "output_type": "stream",
     "text": [
      "C:\\Users\\tharu\\AppData\\Local\\Temp\\ipykernel_1156\\1366785460.py:1: FutureWarning: The default value of numeric_only in DataFrame.corr is deprecated. In a future version, it will default to False. Select only valid columns or specify the value of numeric_only to silence this warning.\n",
      "  sns.heatmap(dfy.corr())\n"
     ]
    },
    {
     "data": {
      "text/plain": [
       "<AxesSubplot: >"
      ]
     },
     "execution_count": 744,
     "metadata": {},
     "output_type": "execute_result"
    },
    {
     "data": {
      "image/png": "[encoded data removed]",
      "text/plain": [
       "<Figure size 640x480 with 2 Axes>"
      ]
     },
     "metadata": {},
     "output_type": "display_data"
    }
   ],
   "source": [
    "sns.heatmap(dfy.corr())"
   ]
  },
  {
   "cell_type": "code",
   "execution_count": 745,
   "metadata": {},
   "outputs": [],
   "source": [
    "from sklearn.model_selection import train_test_split\n",
    "from sklearn.preprocessing import StandardScaler\n",
    "from sklearn.impute import SimpleImputer\n",
    "from sklearn.compose import ColumnTransformer\n",
    "from sklearn.pipeline import Pipeline\n",
    "from sklearn.linear_model import LinearRegression\n",
    "from sklearn.preprocessing import OneHotEncoder\n",
    "from sklearn.tree import DecisionTreeRegressor\n",
    "from sklearn.ensemble import RandomForestRegressor, GradientBoostingRegressor\n",
    "from sklearn.metrics import mean_squared_error, mean_absolute_error, r2_score"
   ]
  },
  {
   "cell_type": "code",
   "execution_count": 746,
   "metadata": {},
   "outputs": [
    {
     "data": {
      "text/plain": [
       "Index(['mobile_price', 'dual_sim', 'disp_size', 'os', 'num_cores', 'mp_speed',\n",
       "       'int_memory', 'ram', 'bluetooth', 'battery_power', 'mob_width',\n",
       "       'mob_height', 'mob_depth', 'mob_weight', 'resolution_Hight',\n",
       "       'resolution_width', 'network_count', 'mobile_color_basic',\n",
       "       'mobile_brand', 'f_camera', 'p_cam_max'],\n",
       "      dtype='object')"
      ]
     },
     "execution_count": 746,
     "metadata": {},
     "output_type": "execute_result"
    }
   ],
   "source": [
    "dfy.columns"
   ]
  },
  {
   "cell_type": "code",
   "execution_count": 780,
   "metadata": {},
   "outputs": [],
   "source": [
    "x_dfy = dfy[['disp_size','os','num_cores','int_memory','ram','battery_power','mob_width',\n",
    "       'mob_height', 'mob_depth','mob_weight','network_count','f_camera', 'p_cam_max']]\n",
    "y_dfy = dfy['mobile_price']"
   ]
  },
  {
   "cell_type": "code",
   "execution_count": 781,
   "metadata": {},
   "outputs": [],
   "source": [
    "dfy['num_cores']= dfy['num_cores'].astype(int)"
   ]
  },
  {
   "cell_type": "markdown",
   "metadata": {},
   "source": [
    "training"
   ]
  },
  {
   "cell_type": "code",
   "execution_count": 782,
   "metadata": {},
   "outputs": [],
   "source": [
    "X_train, X_test, y_train, y_test = train_test_split(x_dfy, y_dfy, test_size= 0.3)"
   ]
  },
  {
   "cell_type": "code",
   "execution_count": 783,
   "metadata": {},
   "outputs": [
    {
     "data": {
      "text/html": [
       "<div>\n",
       "<style scoped>\n",
       "    .dataframe tbody tr th:only-of-type {\n",
       "        vertical-align: middle;\n",
       "    }\n",
       "\n",
       "    .dataframe tbody tr th {\n",
       "        vertical-align: top;\n",
       "    }\n",
       "\n",
       "    .dataframe thead th {\n",
       "        text-align: right;\n",
       "    }\n",
       "</style>\n",
       "<table border=\"1\" class=\"dataframe\">\n",
       "  <thead>\n",
       "    <tr style=\"text-align: right;\">\n",
       "      <th></th>\n",
       "      <th>disp_size</th>\n",
       "      <th>os</th>\n",
       "      <th>num_cores</th>\n",
       "      <th>int_memory</th>\n",
       "      <th>ram</th>\n",
       "      <th>battery_power</th>\n",
       "      <th>mob_width</th>\n",
       "      <th>mob_height</th>\n",
       "      <th>mob_depth</th>\n",
       "      <th>mob_weight</th>\n",
       "      <th>network_count</th>\n",
       "      <th>f_camera</th>\n",
       "      <th>p_cam_max</th>\n",
       "    </tr>\n",
       "  </thead>\n",
       "  <tbody>\n",
       "    <tr>\n",
       "      <th>4</th>\n",
       "      <td>16.51</td>\n",
       "      <td>10.0</td>\n",
       "      <td>8</td>\n",
       "      <td>128</td>\n",
       "      <td>4</td>\n",
       "      <td>5000</td>\n",
       "      <td>75.40</td>\n",
       "      <td>164.40</td>\n",
       "      <td>9.00</td>\n",
       "      <td>199.0</td>\n",
       "      <td>4</td>\n",
       "      <td>16</td>\n",
       "      <td>48</td>\n",
       "    </tr>\n",
       "    <tr>\n",
       "      <th>148</th>\n",
       "      <td>15.21</td>\n",
       "      <td>8.1</td>\n",
       "      <td>8</td>\n",
       "      <td>64</td>\n",
       "      <td>4</td>\n",
       "      <td>3010</td>\n",
       "      <td>75.40</td>\n",
       "      <td>158.70</td>\n",
       "      <td>7.30</td>\n",
       "      <td>168.0</td>\n",
       "      <td>4</td>\n",
       "      <td>20</td>\n",
       "      <td>20</td>\n",
       "    </tr>\n",
       "    <tr>\n",
       "      <th>432</th>\n",
       "      <td>13.97</td>\n",
       "      <td>5.1</td>\n",
       "      <td>8</td>\n",
       "      <td>64</td>\n",
       "      <td>4</td>\n",
       "      <td>3075</td>\n",
       "      <td>76.00</td>\n",
       "      <td>154.50</td>\n",
       "      <td>7.38</td>\n",
       "      <td>160.0</td>\n",
       "      <td>3</td>\n",
       "      <td>16</td>\n",
       "      <td>13</td>\n",
       "    </tr>\n",
       "    <tr>\n",
       "      <th>198</th>\n",
       "      <td>16.21</td>\n",
       "      <td>9.0</td>\n",
       "      <td>8</td>\n",
       "      <td>128</td>\n",
       "      <td>8</td>\n",
       "      <td>4500</td>\n",
       "      <td>75.23</td>\n",
       "      <td>159.53</td>\n",
       "      <td>8.13</td>\n",
       "      <td>189.6</td>\n",
       "      <td>3</td>\n",
       "      <td>32</td>\n",
       "      <td>48</td>\n",
       "    </tr>\n",
       "    <tr>\n",
       "      <th>280</th>\n",
       "      <td>16.13</td>\n",
       "      <td>9.0</td>\n",
       "      <td>8</td>\n",
       "      <td>64</td>\n",
       "      <td>4</td>\n",
       "      <td>5000</td>\n",
       "      <td>76.77</td>\n",
       "      <td>159.43</td>\n",
       "      <td>8.92</td>\n",
       "      <td>190.5</td>\n",
       "      <td>4</td>\n",
       "      <td>8</td>\n",
       "      <td>13</td>\n",
       "    </tr>\n",
       "  </tbody>\n",
       "</table>\n",
       "</div>"
      ],
      "text/plain": [
       "    disp_size    os  num_cores  int_memory  ram  battery_power  mob_width  \\\n",
       "4       16.51  10.0          8         128    4           5000      75.40   \n",
       "148     15.21   8.1          8          64    4           3010      75.40   \n",
       "432     13.97   5.1          8          64    4           3075      76.00   \n",
       "198     16.21   9.0          8         128    8           4500      75.23   \n",
       "280     16.13   9.0          8          64    4           5000      76.77   \n",
       "\n",
       "     mob_height  mob_depth  mob_weight  network_count  f_camera  p_cam_max  \n",
       "4        164.40       9.00       199.0              4        16         48  \n",
       "148      158.70       7.30       168.0              4        20         20  \n",
       "432      154.50       7.38       160.0              3        16         13  \n",
       "198      159.53       8.13       189.6              3        32         48  \n",
       "280      159.43       8.92       190.5              4         8         13  "
      ]
     },
     "execution_count": 783,
     "metadata": {},
     "output_type": "execute_result"
    }
   ],
   "source": [
    "X_train.head()"
   ]
  },
  {
   "cell_type": "code",
   "execution_count": 784,
   "metadata": {},
   "outputs": [
    {
     "data": {
      "text/plain": [
       "4      11999\n",
       "148    13999\n",
       "432    18990\n",
       "198    18990\n",
       "280    12990\n",
       "Name: mobile_price, dtype: int64"
      ]
     },
     "execution_count": 784,
     "metadata": {},
     "output_type": "execute_result"
    }
   ],
   "source": [
    "y_train.head()"
   ]
  },
  {
   "cell_type": "code",
   "execution_count": 785,
   "metadata": {},
   "outputs": [],
   "source": [
    "std_scaler=StandardScaler().fit(X_train) \n",
    "X_train_scaled=std_scaler.transform(X_train)"
   ]
  },
  {
   "cell_type": "code",
   "execution_count": 786,
   "metadata": {},
   "outputs": [
    {
     "name": "stdout",
     "output_type": "stream",
     "text": [
      "                            OLS Regression Results                            \n",
      "==============================================================================\n",
      "Dep. Variable:           mobile_price   R-squared:                       0.664\n",
      "Model:                            OLS   Adj. R-squared:                  0.650\n",
      "Method:                 Least Squares   F-statistic:                     46.66\n",
      "Date:                Sat, 01 Apr 2023   Prob (F-statistic):           8.88e-65\n",
      "Time:                        19:17:33   Log-Likelihood:                -3158.5\n",
      "No. Observations:                 321   AIC:                             6345.\n",
      "Df Residuals:                     307   BIC:                             6398.\n",
      "Df Model:                          13                                         \n",
      "Covariance Type:            nonrobust                                         \n",
      "==============================================================================\n",
      "                 coef    std err          t      P>|t|      [0.025      0.975]\n",
      "------------------------------------------------------------------------------\n",
      "const       1.617e+04    259.130     62.417      0.000    1.57e+04    1.67e+04\n",
      "x1          2255.3725    555.319      4.061      0.000    1162.660    3348.085\n",
      "x2         -1136.2980    507.980     -2.237      0.026   -2135.860    -136.735\n",
      "x3          -243.0408    284.207     -0.855      0.393    -802.281     316.199\n",
      "x4          2210.1195    466.006      4.743      0.000    1293.150    3127.089\n",
      "x5          3409.2097    520.682      6.548      0.000    2384.652    4433.768\n",
      "x6         -1786.4750    470.301     -3.799      0.000   -2711.896    -861.054\n",
      "x7         -2048.9961   1019.868     -2.009      0.045   -4055.813     -42.179\n",
      "x8         -1936.2020    685.109     -2.826      0.005   -3284.305    -588.099\n",
      "x9         -1908.9211    904.496     -2.110      0.036   -3688.717    -129.125\n",
      "x10         1436.4363    591.380      2.429      0.016     272.765    2600.108\n",
      "x11         -313.2569    313.954     -0.998      0.319    -931.031     304.518\n",
      "x12          493.3425    315.685      1.563      0.119    -127.838    1114.523\n",
      "x13         -624.8163    406.849     -1.536      0.126   -1425.381     175.748\n",
      "==============================================================================\n",
      "Omnibus:                      175.945   Durbin-Watson:                   2.149\n",
      "Prob(Omnibus):                  0.000   Jarque-Bera (JB):             1574.749\n",
      "Skew:                           2.098   Prob(JB):                         0.00\n",
      "Kurtosis:                      13.006   Cond. No.                         12.5\n",
      "==============================================================================\n",
      "\n",
      "Notes:\n",
      "[1] Standard Errors assume that the covariance matrix of the errors is correctly specified.\n"
     ]
    }
   ],
   "source": [
    "X_test_scaled=std_scaler.transform(X_test)\n",
    "import statsmodels.api as sm\n",
    "X_train_const_scaled = sm.add_constant(X_train_scaled) \n",
    "model = sm.OLS(y_train, X_train_const_scaled).fit()\n",
    "predictions_train = model.predict(X_train_const_scaled)\n",
    "X_test_const_scaled = sm.add_constant(X_test_scaled)\n",
    "predictions_test = model.predict(X_test_const_scaled) \n",
    "print_model = model.summary()\n",
    "print(print_model)"
   ]
  },
  {
   "cell_type": "code",
   "execution_count": 787,
   "metadata": {},
   "outputs": [
    {
     "data": {
      "text/plain": [
       "array([ 7064.67137787, 17831.23142096, 10395.41131324, 10246.08213743,\n",
       "        8794.28727378, 15227.28272016, 11778.59644406,  7509.85278433,\n",
       "       25991.44660113,  3814.16010218, 22288.13947524, 23992.17865106,\n",
       "       20786.54059147, 10720.8232119 , 18898.48938576,  8942.31843119,\n",
       "       19525.99780931, 13587.78264394, 12122.07941395,  5524.58544518,\n",
       "       11243.91282138, 23992.17865106,  8773.52990169, 16470.19814923,\n",
       "       19286.56164935, 15227.28272016, 10843.42332774, 28214.70582928,\n",
       "       12999.71682134, 10395.41131324, 17072.57757828, 14154.63302529,\n",
       "       13545.23628055,  8276.83964911, 13587.78264394, 12178.79323807,\n",
       "        3532.90328581, 13748.45967865,  8918.3541281 ,  3814.16010218,\n",
       "       36439.20932241, 18084.62787146, 22919.58923681, 36439.20932241,\n",
       "       14154.63302529, 22235.87622791, 32681.55120269, 10154.9256113 ,\n",
       "       11778.59644406, 13545.23628055, 28214.70582928, 14665.61936946,\n",
       "        8942.31843119, 17027.80260315, 11272.7074156 ,  9236.39645143,\n",
       "       13392.43727411, 11941.15692818, 11808.93966791,  9994.04842221,\n",
       "       12571.53540874, 12999.71682134, 19013.74411533, 20833.35131577,\n",
       "       19525.99780931,  9741.93618879, 20681.27160468,  8989.95679011,\n",
       "       18756.8361967 , 21121.4070954 , 38383.79430883, 12999.71682134,\n",
       "       24012.83107891, 15337.60503375, 27170.2135573 ,  7936.35933945,\n",
       "       30696.00565536, 13004.36501052, 12065.51026215, 13667.88539952,\n",
       "       13748.45967865, 23828.62124565, 14402.96846399, 10701.54569108,\n",
       "       12486.98691042, 11738.2772326 , 11720.59208931, 13857.30056317,\n",
       "       13769.79688504, 13004.36501052, 10423.45735801, 13396.69275674,\n",
       "       15227.28272016, 35647.19608507, 16457.45234473, 22538.35926692,\n",
       "       11741.3494614 , 18064.87578041, 23409.12068633, 12160.02230489,\n",
       "       14778.7221927 ,  3532.90328581, 21967.03485033, 13004.36501052,\n",
       "       12571.53540874, 12746.39518624, 22919.58923681, 15786.1755497 ,\n",
       "       14866.14770368, 30696.00565536, 27170.2135573 , 16097.42933695,\n",
       "       18192.87132646, 11964.11050831, 13229.02370243, 24058.16746644,\n",
       "       38383.79430883, 36439.20932241,  9236.39645143, 12190.2711382 ,\n",
       "       13992.89722563, 23586.06557599, 18392.31427474, 19420.53423325,\n",
       "       19773.29297229,  4250.37531476, 35647.19608507, 19887.02160087,\n",
       "       13392.43727411, 18468.14347095, 19357.26677129, 21798.30381232,\n",
       "       21708.20634824, 11691.57376646, 21434.70370283, 18664.49576682,\n",
       "       21967.03485033, 14268.42506842])"
      ]
     },
     "execution_count": 787,
     "metadata": {},
     "output_type": "execute_result"
    }
   ],
   "source": [
    "predictions_test"
   ]
  },
  {
   "cell_type": "code",
   "execution_count": 788,
   "metadata": {},
   "outputs": [
    {
     "data": {
      "text/plain": [
       "0.6497110248959955"
      ]
     },
     "execution_count": 788,
     "metadata": {},
     "output_type": "execute_result"
    }
   ],
   "source": [
    "model.rsquared_adj"
   ]
  },
  {
   "cell_type": "code",
   "execution_count": 789,
   "metadata": {},
   "outputs": [],
   "source": [
    "model = LinearRegression()\n",
    "model.fit(X_train, y_train)\n",
    "y_pred = model.predict(X_test)"
   ]
  },
  {
   "cell_type": "code",
   "execution_count": 790,
   "metadata": {},
   "outputs": [
    {
     "data": {
      "text/plain": [
       "array([ 3.06863930e+03, -1.25808181e+03, -3.89768803e+02,  3.81412038e+01,\n",
       "        1.72654367e+03, -2.97943407e+00, -1.62672588e+02, -2.03640812e+02,\n",
       "       -1.43045463e+02,  8.08436750e+01, -4.47660945e+02,  5.87098811e+01,\n",
       "       -3.14710611e+01])"
      ]
     },
     "execution_count": 790,
     "metadata": {},
     "output_type": "execute_result"
    }
   ],
   "source": [
    "model.coef_"
   ]
  },
  {
   "cell_type": "code",
   "execution_count": 791,
   "metadata": {},
   "outputs": [
    {
     "data": {
      "text/plain": [
       "14774.448798232661"
      ]
     },
     "execution_count": 791,
     "metadata": {},
     "output_type": "execute_result"
    }
   ],
   "source": [
    "model.intercept_"
   ]
  },
  {
   "cell_type": "code",
   "execution_count": 792,
   "metadata": {},
   "outputs": [
    {
     "name": "stderr",
     "output_type": "stream",
     "text": [
      "C:\\Users\\tharu\\AppData\\Roaming\\Python\\Python310\\site-packages\\sklearn\\base.py:439: UserWarning: X does not have valid feature names, but LinearRegression was fitted with feature names\n",
      "  warnings.warn(\n"
     ]
    },
    {
     "data": {
      "text/plain": [
       "0.26879581307103384"
      ]
     },
     "execution_count": 792,
     "metadata": {},
     "output_type": "execute_result"
    }
   ],
   "source": [
    "model.score(X_test_scaled,y_test)"
   ]
  },
  {
   "cell_type": "code",
   "execution_count": 793,
   "metadata": {},
   "outputs": [
    {
     "name": "stderr",
     "output_type": "stream",
     "text": [
      "C:\\Users\\tharu\\AppData\\Roaming\\Python\\Python310\\site-packages\\sklearn\\base.py:439: UserWarning: X does not have valid feature names, but LinearRegression was fitted with feature names\n",
      "  warnings.warn(\n"
     ]
    },
    {
     "data": {
      "text/html": [
       "<div>\n",
       "<style scoped>\n",
       "    .dataframe tbody tr th:only-of-type {\n",
       "        vertical-align: middle;\n",
       "    }\n",
       "\n",
       "    .dataframe tbody tr th {\n",
       "        vertical-align: top;\n",
       "    }\n",
       "\n",
       "    .dataframe thead th {\n",
       "        text-align: right;\n",
       "    }\n",
       "</style>\n",
       "<table border=\"1\" class=\"dataframe\">\n",
       "  <thead>\n",
       "    <tr style=\"text-align: right;\">\n",
       "      <th></th>\n",
       "      <th>y_test</th>\n",
       "      <th>y_pred</th>\n",
       "    </tr>\n",
       "  </thead>\n",
       "  <tbody>\n",
       "    <tr>\n",
       "      <th>140</th>\n",
       "      <td>6999</td>\n",
       "      <td>11503.131396</td>\n",
       "    </tr>\n",
       "    <tr>\n",
       "      <th>384</th>\n",
       "      <td>16990</td>\n",
       "      <td>15955.629799</td>\n",
       "    </tr>\n",
       "    <tr>\n",
       "      <th>322</th>\n",
       "      <td>11999</td>\n",
       "      <td>8644.534045</td>\n",
       "    </tr>\n",
       "    <tr>\n",
       "      <th>314</th>\n",
       "      <td>10999</td>\n",
       "      <td>13317.261490</td>\n",
       "    </tr>\n",
       "    <tr>\n",
       "      <th>321</th>\n",
       "      <td>7599</td>\n",
       "      <td>11139.218970</td>\n",
       "    </tr>\n",
       "    <tr>\n",
       "      <th>...</th>\n",
       "      <td>...</td>\n",
       "      <td>...</td>\n",
       "    </tr>\n",
       "    <tr>\n",
       "      <th>304</th>\n",
       "      <td>11995</td>\n",
       "      <td>7876.131774</td>\n",
       "    </tr>\n",
       "    <tr>\n",
       "      <th>402</th>\n",
       "      <td>15990</td>\n",
       "      <td>19224.950975</td>\n",
       "    </tr>\n",
       "    <tr>\n",
       "      <th>163</th>\n",
       "      <td>13999</td>\n",
       "      <td>15232.150396</td>\n",
       "    </tr>\n",
       "    <tr>\n",
       "      <th>89</th>\n",
       "      <td>24999</td>\n",
       "      <td>16920.619505</td>\n",
       "    </tr>\n",
       "    <tr>\n",
       "      <th>15</th>\n",
       "      <td>16999</td>\n",
       "      <td>15114.011500</td>\n",
       "    </tr>\n",
       "  </tbody>\n",
       "</table>\n",
       "<p>138 rows × 2 columns</p>\n",
       "</div>"
      ],
      "text/plain": [
       "     y_test        y_pred\n",
       "140    6999  11503.131396\n",
       "384   16990  15955.629799\n",
       "322   11999   8644.534045\n",
       "314   10999  13317.261490\n",
       "321    7599  11139.218970\n",
       "..      ...           ...\n",
       "304   11995   7876.131774\n",
       "402   15990  19224.950975\n",
       "163   13999  15232.150396\n",
       "89    24999  16920.619505\n",
       "15    16999  15114.011500\n",
       "\n",
       "[138 rows x 2 columns]"
      ]
     },
     "execution_count": 793,
     "metadata": {},
     "output_type": "execute_result"
    }
   ],
   "source": [
    "y_pred=model.predict(X_test_scaled)\n",
    "result=pd.DataFrame({\"y_test\":y_test,\"y_pred\":y_pred})\n",
    "result"
   ]
  },
  {
   "cell_type": "markdown",
   "metadata": {},
   "source": [
    "Predict the price of an Airbnb listing\n",
    "\n",
    "\n",
    "\n",
    "\n",
    "\n",
    "Context\n",
    "Airbnb, Inc. is an American vacation rental online marketplace company based in San Francisco, California, United States. Airbnb offers arrangements for lodging, primarily homestays, or tourism experiences. The company does not own any of the real estate listings, nor does it host events; it acts as a broker, receiving commissions from each booking. Reference\n",
    "\n",
    "Since 2008, guests and hosts have used Airbnb to travel in a more unique, personalized way.\n",
    "\n",
    "\n",
    "\n",
    "\n",
    "\n",
    "Objective\n",
    "Imagine you are Data Scientist who would help find the price for lodging or homestays based on different attributes mentioned in their \n",
    "\n",
    "listings. Oh wait, what are listings? Listings can include written descriptions, photographs with captions, and a user profile where potential guests can get to know a bit about the hosts.And you are given the listings of one of the most popular cities in central Europe: Amsterdam.\n",
    "\n",
    "Now your job is to build a machine learning model that will automatically predict the price for lodging or homestays.\n",
    "\n",
    "\n",
    "\n",
    "Link to Dataset: https://www.kaggle.com/c/dphi-amsterdam-airbnb-data/data"
   ]
  },
  {
   "cell_type": "code",
   "execution_count": 830,
   "metadata": {},
   "outputs": [
    {
     "data": {
      "text/html": [
       "<div>\n",
       "<style scoped>\n",
       "    .dataframe tbody tr th:only-of-type {\n",
       "        vertical-align: middle;\n",
       "    }\n",
       "\n",
       "    .dataframe tbody tr th {\n",
       "        vertical-align: top;\n",
       "    }\n",
       "\n",
       "    .dataframe thead th {\n",
       "        text-align: right;\n",
       "    }\n",
       "</style>\n",
       "<table border=\"1\" class=\"dataframe\">\n",
       "  <thead>\n",
       "    <tr style=\"text-align: right;\">\n",
       "      <th></th>\n",
       "      <th>id</th>\n",
       "      <th>name</th>\n",
       "      <th>host_id</th>\n",
       "      <th>host_name</th>\n",
       "      <th>neighbourhood_group</th>\n",
       "      <th>neighbourhood</th>\n",
       "      <th>latitude</th>\n",
       "      <th>longitude</th>\n",
       "      <th>room_type</th>\n",
       "      <th>minimum_nights</th>\n",
       "      <th>number_of_reviews</th>\n",
       "      <th>last_review</th>\n",
       "      <th>reviews_per_month</th>\n",
       "      <th>calculated_host_listings_count</th>\n",
       "      <th>availability_365</th>\n",
       "      <th>price</th>\n",
       "    </tr>\n",
       "  </thead>\n",
       "  <tbody>\n",
       "    <tr>\n",
       "      <th>0</th>\n",
       "      <td>11602914</td>\n",
       "      <td>Luxury home 100m2+garden in center!</td>\n",
       "      <td>3123809</td>\n",
       "      <td>Marjolein</td>\n",
       "      <td>NaN</td>\n",
       "      <td>De Pijp - Rivierenbuurt</td>\n",
       "      <td>52.35368</td>\n",
       "      <td>4.90177</td>\n",
       "      <td>Entire home/apt</td>\n",
       "      <td>3</td>\n",
       "      <td>13</td>\n",
       "      <td>15-02-2020</td>\n",
       "      <td>0.27</td>\n",
       "      <td>1</td>\n",
       "      <td>0</td>\n",
       "      <td>220</td>\n",
       "    </tr>\n",
       "    <tr>\n",
       "      <th>1</th>\n",
       "      <td>13289321</td>\n",
       "      <td>East is where your home is!</td>\n",
       "      <td>10259430</td>\n",
       "      <td>Ana</td>\n",
       "      <td>NaN</td>\n",
       "      <td>Oud-Oost</td>\n",
       "      <td>52.35728</td>\n",
       "      <td>4.92052</td>\n",
       "      <td>Entire home/apt</td>\n",
       "      <td>4</td>\n",
       "      <td>14</td>\n",
       "      <td>19-06-2019</td>\n",
       "      <td>0.29</td>\n",
       "      <td>1</td>\n",
       "      <td>0</td>\n",
       "      <td>110</td>\n",
       "    </tr>\n",
       "    <tr>\n",
       "      <th>2</th>\n",
       "      <td>40779315</td>\n",
       "      <td>Amsterdam Central - LUXURY house in BUSY STREET</td>\n",
       "      <td>224969266</td>\n",
       "      <td>Mark</td>\n",
       "      <td>NaN</td>\n",
       "      <td>Centrum-West</td>\n",
       "      <td>52.37582</td>\n",
       "      <td>4.89850</td>\n",
       "      <td>Entire home/apt</td>\n",
       "      <td>2</td>\n",
       "      <td>9</td>\n",
       "      <td>16-03-2020</td>\n",
       "      <td>1.65</td>\n",
       "      <td>1</td>\n",
       "      <td>7</td>\n",
       "      <td>100</td>\n",
       "    </tr>\n",
       "    <tr>\n",
       "      <th>3</th>\n",
       "      <td>7820311</td>\n",
       "      <td>great appartment down town</td>\n",
       "      <td>693472</td>\n",
       "      <td>Ayden</td>\n",
       "      <td>NaN</td>\n",
       "      <td>Westerpark</td>\n",
       "      <td>52.37792</td>\n",
       "      <td>4.87300</td>\n",
       "      <td>Entire home/apt</td>\n",
       "      <td>3</td>\n",
       "      <td>42</td>\n",
       "      <td>17-02-2020</td>\n",
       "      <td>0.72</td>\n",
       "      <td>1</td>\n",
       "      <td>0</td>\n",
       "      <td>130</td>\n",
       "    </tr>\n",
       "    <tr>\n",
       "      <th>4</th>\n",
       "      <td>27346603</td>\n",
       "      <td>Private room with canal view in peaceful area</td>\n",
       "      <td>41888346</td>\n",
       "      <td>Alissa</td>\n",
       "      <td>NaN</td>\n",
       "      <td>Westerpark</td>\n",
       "      <td>52.38051</td>\n",
       "      <td>4.87493</td>\n",
       "      <td>Private room</td>\n",
       "      <td>2</td>\n",
       "      <td>89</td>\n",
       "      <td>26-02-2020</td>\n",
       "      <td>4.02</td>\n",
       "      <td>1</td>\n",
       "      <td>24</td>\n",
       "      <td>90</td>\n",
       "    </tr>\n",
       "  </tbody>\n",
       "</table>\n",
       "</div>"
      ],
      "text/plain": [
       "         id                                             name    host_id  \\\n",
       "0  11602914              Luxury home 100m2+garden in center!    3123809   \n",
       "1  13289321                      East is where your home is!   10259430   \n",
       "2  40779315  Amsterdam Central - LUXURY house in BUSY STREET  224969266   \n",
       "3   7820311                       great appartment down town     693472   \n",
       "4  27346603    Private room with canal view in peaceful area   41888346   \n",
       "\n",
       "   host_name  neighbourhood_group            neighbourhood  latitude  \\\n",
       "0  Marjolein                  NaN  De Pijp - Rivierenbuurt  52.35368   \n",
       "1        Ana                  NaN                 Oud-Oost  52.35728   \n",
       "2       Mark                  NaN             Centrum-West  52.37582   \n",
       "3      Ayden                  NaN               Westerpark  52.37792   \n",
       "4     Alissa                  NaN               Westerpark  52.38051   \n",
       "\n",
       "   longitude        room_type  minimum_nights  number_of_reviews last_review  \\\n",
       "0    4.90177  Entire home/apt               3                 13  15-02-2020   \n",
       "1    4.92052  Entire home/apt               4                 14  19-06-2019   \n",
       "2    4.89850  Entire home/apt               2                  9  16-03-2020   \n",
       "3    4.87300  Entire home/apt               3                 42  17-02-2020   \n",
       "4    4.87493     Private room               2                 89  26-02-2020   \n",
       "\n",
       "   reviews_per_month  calculated_host_listings_count  availability_365  price  \n",
       "0               0.27                               1                 0    220  \n",
       "1               0.29                               1                 0    110  \n",
       "2               1.65                               1                 7    100  \n",
       "3               0.72                               1                 0    130  \n",
       "4               4.02                               1                24     90  "
      ]
     },
     "execution_count": 830,
     "metadata": {},
     "output_type": "execute_result"
    }
   ],
   "source": [
    "dfz = pd.read_csv(\"C:\\\\Users\\\\sneha\\\\Downloads\\\\airbnb_listing_train.csv\")\n",
    "dfz.head()"
   ]
  },
  {
   "cell_type": "code",
   "execution_count": 831,
   "metadata": {},
   "outputs": [
    {
     "data": {
      "text/plain": [
       "(12901, 16)"
      ]
     },
     "execution_count": 831,
     "metadata": {},
     "output_type": "execute_result"
    }
   ],
   "source": [
    "dfz.shape"
   ]
  },
  {
   "cell_type": "code",
   "execution_count": 832,
   "metadata": {},
   "outputs": [
    {
     "data": {
      "text/plain": [
       "id                                    0\n",
       "name                                 22\n",
       "host_id                               0\n",
       "host_name                             8\n",
       "neighbourhood_group               12901\n",
       "neighbourhood                         0\n",
       "latitude                              0\n",
       "longitude                             0\n",
       "room_type                             0\n",
       "minimum_nights                        0\n",
       "number_of_reviews                     0\n",
       "last_review                        1596\n",
       "reviews_per_month                  1596\n",
       "calculated_host_listings_count        0\n",
       "availability_365                      0\n",
       "price                                 0\n",
       "dtype: int64"
      ]
     },
     "execution_count": 832,
     "metadata": {},
     "output_type": "execute_result"
    }
   ],
   "source": [
    "dfz.isna().sum()"
   ]
  },
  {
   "cell_type": "code",
   "execution_count": 833,
   "metadata": {},
   "outputs": [],
   "source": [
    "dfz.drop('neighbourhood_group', axis=1, inplace=True)"
   ]
  },
  {
   "cell_type": "code",
   "execution_count": 834,
   "metadata": {},
   "outputs": [],
   "source": [
    "dfz['last_review'] = dfz['last_review'].fillna(0)"
   ]
  },
  {
   "cell_type": "code",
   "execution_count": 835,
   "metadata": {},
   "outputs": [],
   "source": [
    "dfz['reviews_per_month'] = dfz['reviews_per_month'].fillna(0)"
   ]
  },
  {
   "cell_type": "code",
   "execution_count": 836,
   "metadata": {},
   "outputs": [
    {
     "data": {
      "text/plain": [
       "id                                 0\n",
       "name                              22\n",
       "host_id                            0\n",
       "host_name                          8\n",
       "neighbourhood                      0\n",
       "latitude                           0\n",
       "longitude                          0\n",
       "room_type                          0\n",
       "minimum_nights                     0\n",
       "number_of_reviews                  0\n",
       "last_review                        0\n",
       "reviews_per_month                  0\n",
       "calculated_host_listings_count     0\n",
       "availability_365                   0\n",
       "price                              0\n",
       "dtype: int64"
      ]
     },
     "execution_count": 836,
     "metadata": {},
     "output_type": "execute_result"
    }
   ],
   "source": [
    "dfz.isna().sum()"
   ]
  },
  {
   "cell_type": "code",
   "execution_count": null,
   "metadata": {},
   "outputs": [],
   "source": [
    "dfz['reviews_per_month'].unique()"
   ]
  },
  {
   "cell_type": "code",
   "execution_count": 838,
   "metadata": {},
   "outputs": [
    {
     "data": {
      "text/html": [
       "<div>\n",
       "<style scoped>\n",
       "    .dataframe tbody tr th:only-of-type {\n",
       "        vertical-align: middle;\n",
       "    }\n",
       "\n",
       "    .dataframe tbody tr th {\n",
       "        vertical-align: top;\n",
       "    }\n",
       "\n",
       "    .dataframe thead th {\n",
       "        text-align: right;\n",
       "    }\n",
       "</style>\n",
       "<table border=\"1\" class=\"dataframe\">\n",
       "  <thead>\n",
       "    <tr style=\"text-align: right;\">\n",
       "      <th></th>\n",
       "      <th>id</th>\n",
       "      <th>host_id</th>\n",
       "      <th>latitude</th>\n",
       "      <th>longitude</th>\n",
       "      <th>minimum_nights</th>\n",
       "      <th>number_of_reviews</th>\n",
       "      <th>reviews_per_month</th>\n",
       "      <th>calculated_host_listings_count</th>\n",
       "      <th>availability_365</th>\n",
       "      <th>price</th>\n",
       "    </tr>\n",
       "  </thead>\n",
       "  <tbody>\n",
       "    <tr>\n",
       "      <th>count</th>\n",
       "      <td>1.290100e+04</td>\n",
       "      <td>1.290100e+04</td>\n",
       "      <td>12901.000000</td>\n",
       "      <td>12901.000000</td>\n",
       "      <td>12901.000000</td>\n",
       "      <td>12901.000000</td>\n",
       "      <td>12901.000000</td>\n",
       "      <td>12901.000000</td>\n",
       "      <td>12901.000000</td>\n",
       "      <td>12901.000000</td>\n",
       "    </tr>\n",
       "    <tr>\n",
       "      <th>mean</th>\n",
       "      <td>1.984923e+07</td>\n",
       "      <td>6.321700e+07</td>\n",
       "      <td>52.365313</td>\n",
       "      <td>4.889744</td>\n",
       "      <td>3.542516</td>\n",
       "      <td>24.803194</td>\n",
       "      <td>0.655903</td>\n",
       "      <td>2.136501</td>\n",
       "      <td>61.392295</td>\n",
       "      <td>166.959538</td>\n",
       "    </tr>\n",
       "    <tr>\n",
       "      <th>std</th>\n",
       "      <td>1.216241e+07</td>\n",
       "      <td>8.010814e+07</td>\n",
       "      <td>0.016418</td>\n",
       "      <td>0.036016</td>\n",
       "      <td>15.154077</td>\n",
       "      <td>53.406134</td>\n",
       "      <td>1.205682</td>\n",
       "      <td>6.001838</td>\n",
       "      <td>107.988329</td>\n",
       "      <td>234.794630</td>\n",
       "    </tr>\n",
       "    <tr>\n",
       "      <th>min</th>\n",
       "      <td>2.016800e+04</td>\n",
       "      <td>3.592000e+03</td>\n",
       "      <td>52.289270</td>\n",
       "      <td>4.755720</td>\n",
       "      <td>1.000000</td>\n",
       "      <td>0.000000</td>\n",
       "      <td>0.000000</td>\n",
       "      <td>1.000000</td>\n",
       "      <td>0.000000</td>\n",
       "      <td>6.000000</td>\n",
       "    </tr>\n",
       "    <tr>\n",
       "      <th>25%</th>\n",
       "      <td>9.869642e+06</td>\n",
       "      <td>8.948269e+06</td>\n",
       "      <td>52.355190</td>\n",
       "      <td>4.863950</td>\n",
       "      <td>2.000000</td>\n",
       "      <td>2.000000</td>\n",
       "      <td>0.100000</td>\n",
       "      <td>1.000000</td>\n",
       "      <td>0.000000</td>\n",
       "      <td>99.000000</td>\n",
       "    </tr>\n",
       "    <tr>\n",
       "      <th>50%</th>\n",
       "      <td>1.874939e+07</td>\n",
       "      <td>2.711601e+07</td>\n",
       "      <td>52.364570</td>\n",
       "      <td>4.887130</td>\n",
       "      <td>2.000000</td>\n",
       "      <td>9.000000</td>\n",
       "      <td>0.310000</td>\n",
       "      <td>1.000000</td>\n",
       "      <td>0.000000</td>\n",
       "      <td>135.000000</td>\n",
       "    </tr>\n",
       "    <tr>\n",
       "      <th>75%</th>\n",
       "      <td>2.914232e+07</td>\n",
       "      <td>8.337686e+07</td>\n",
       "      <td>52.375110</td>\n",
       "      <td>4.909310</td>\n",
       "      <td>3.000000</td>\n",
       "      <td>24.000000</td>\n",
       "      <td>0.690000</td>\n",
       "      <td>1.000000</td>\n",
       "      <td>87.000000</td>\n",
       "      <td>190.000000</td>\n",
       "    </tr>\n",
       "    <tr>\n",
       "      <th>max</th>\n",
       "      <td>4.370900e+07</td>\n",
       "      <td>3.490175e+08</td>\n",
       "      <td>52.425090</td>\n",
       "      <td>5.018400</td>\n",
       "      <td>1001.000000</td>\n",
       "      <td>843.000000</td>\n",
       "      <td>50.000000</td>\n",
       "      <td>78.000000</td>\n",
       "      <td>365.000000</td>\n",
       "      <td>9000.000000</td>\n",
       "    </tr>\n",
       "  </tbody>\n",
       "</table>\n",
       "</div>"
      ],
      "text/plain": [
       "                 id       host_id      latitude     longitude  minimum_nights  \\\n",
       "count  1.290100e+04  1.290100e+04  12901.000000  12901.000000    12901.000000   \n",
       "mean   1.984923e+07  6.321700e+07     52.365313      4.889744        3.542516   \n",
       "std    1.216241e+07  8.010814e+07      0.016418      0.036016       15.154077   \n",
       "min    2.016800e+04  3.592000e+03     52.289270      4.755720        1.000000   \n",
       "25%    9.869642e+06  8.948269e+06     52.355190      4.863950        2.000000   \n",
       "50%    1.874939e+07  2.711601e+07     52.364570      4.887130        2.000000   \n",
       "75%    2.914232e+07  8.337686e+07     52.375110      4.909310        3.000000   \n",
       "max    4.370900e+07  3.490175e+08     52.425090      5.018400     1001.000000   \n",
       "\n",
       "       number_of_reviews  reviews_per_month  calculated_host_listings_count  \\\n",
       "count       12901.000000       12901.000000                    12901.000000   \n",
       "mean           24.803194           0.655903                        2.136501   \n",
       "std            53.406134           1.205682                        6.001838   \n",
       "min             0.000000           0.000000                        1.000000   \n",
       "25%             2.000000           0.100000                        1.000000   \n",
       "50%             9.000000           0.310000                        1.000000   \n",
       "75%            24.000000           0.690000                        1.000000   \n",
       "max           843.000000          50.000000                       78.000000   \n",
       "\n",
       "       availability_365         price  \n",
       "count      12901.000000  12901.000000  \n",
       "mean          61.392295    166.959538  \n",
       "std          107.988329    234.794630  \n",
       "min            0.000000      6.000000  \n",
       "25%            0.000000     99.000000  \n",
       "50%            0.000000    135.000000  \n",
       "75%           87.000000    190.000000  \n",
       "max          365.000000   9000.000000  "
      ]
     },
     "execution_count": 838,
     "metadata": {},
     "output_type": "execute_result"
    }
   ],
   "source": [
    "dfz.describe()"
   ]
  },
  {
   "cell_type": "code",
   "execution_count": 839,
   "metadata": {},
   "outputs": [
    {
     "data": {
      "text/html": [
       "<div>\n",
       "<style scoped>\n",
       "    .dataframe tbody tr th:only-of-type {\n",
       "        vertical-align: middle;\n",
       "    }\n",
       "\n",
       "    .dataframe tbody tr th {\n",
       "        vertical-align: top;\n",
       "    }\n",
       "\n",
       "    .dataframe thead th {\n",
       "        text-align: right;\n",
       "    }\n",
       "</style>\n",
       "<table border=\"1\" class=\"dataframe\">\n",
       "  <thead>\n",
       "    <tr style=\"text-align: right;\">\n",
       "      <th></th>\n",
       "      <th>id</th>\n",
       "      <th>name</th>\n",
       "      <th>host_id</th>\n",
       "      <th>host_name</th>\n",
       "      <th>neighbourhood</th>\n",
       "      <th>latitude</th>\n",
       "      <th>longitude</th>\n",
       "      <th>room_type</th>\n",
       "      <th>minimum_nights</th>\n",
       "      <th>number_of_reviews</th>\n",
       "      <th>last_review</th>\n",
       "      <th>reviews_per_month</th>\n",
       "      <th>calculated_host_listings_count</th>\n",
       "      <th>availability_365</th>\n",
       "      <th>price</th>\n",
       "    </tr>\n",
       "  </thead>\n",
       "  <tbody>\n",
       "    <tr>\n",
       "      <th>0</th>\n",
       "      <td>11602914</td>\n",
       "      <td>Luxury home 100m2+garden in center!</td>\n",
       "      <td>3123809</td>\n",
       "      <td>Marjolein</td>\n",
       "      <td>De Pijp - Rivierenbuurt</td>\n",
       "      <td>52.35368</td>\n",
       "      <td>4.90177</td>\n",
       "      <td>Entire home/apt</td>\n",
       "      <td>3</td>\n",
       "      <td>13</td>\n",
       "      <td>15-02-2020</td>\n",
       "      <td>0.27</td>\n",
       "      <td>1</td>\n",
       "      <td>0</td>\n",
       "      <td>220</td>\n",
       "    </tr>\n",
       "    <tr>\n",
       "      <th>1</th>\n",
       "      <td>13289321</td>\n",
       "      <td>East is where your home is!</td>\n",
       "      <td>10259430</td>\n",
       "      <td>Ana</td>\n",
       "      <td>Oud-Oost</td>\n",
       "      <td>52.35728</td>\n",
       "      <td>4.92052</td>\n",
       "      <td>Entire home/apt</td>\n",
       "      <td>4</td>\n",
       "      <td>14</td>\n",
       "      <td>19-06-2019</td>\n",
       "      <td>0.29</td>\n",
       "      <td>1</td>\n",
       "      <td>0</td>\n",
       "      <td>110</td>\n",
       "    </tr>\n",
       "    <tr>\n",
       "      <th>2</th>\n",
       "      <td>40779315</td>\n",
       "      <td>Amsterdam Central - LUXURY house in BUSY STREET</td>\n",
       "      <td>224969266</td>\n",
       "      <td>Mark</td>\n",
       "      <td>Centrum-West</td>\n",
       "      <td>52.37582</td>\n",
       "      <td>4.89850</td>\n",
       "      <td>Entire home/apt</td>\n",
       "      <td>2</td>\n",
       "      <td>9</td>\n",
       "      <td>16-03-2020</td>\n",
       "      <td>1.65</td>\n",
       "      <td>1</td>\n",
       "      <td>7</td>\n",
       "      <td>100</td>\n",
       "    </tr>\n",
       "    <tr>\n",
       "      <th>3</th>\n",
       "      <td>7820311</td>\n",
       "      <td>great appartment down town</td>\n",
       "      <td>693472</td>\n",
       "      <td>Ayden</td>\n",
       "      <td>Westerpark</td>\n",
       "      <td>52.37792</td>\n",
       "      <td>4.87300</td>\n",
       "      <td>Entire home/apt</td>\n",
       "      <td>3</td>\n",
       "      <td>42</td>\n",
       "      <td>17-02-2020</td>\n",
       "      <td>0.72</td>\n",
       "      <td>1</td>\n",
       "      <td>0</td>\n",
       "      <td>130</td>\n",
       "    </tr>\n",
       "    <tr>\n",
       "      <th>4</th>\n",
       "      <td>27346603</td>\n",
       "      <td>Private room with canal view in peaceful area</td>\n",
       "      <td>41888346</td>\n",
       "      <td>Alissa</td>\n",
       "      <td>Westerpark</td>\n",
       "      <td>52.38051</td>\n",
       "      <td>4.87493</td>\n",
       "      <td>Private room</td>\n",
       "      <td>2</td>\n",
       "      <td>89</td>\n",
       "      <td>26-02-2020</td>\n",
       "      <td>4.02</td>\n",
       "      <td>1</td>\n",
       "      <td>24</td>\n",
       "      <td>90</td>\n",
       "    </tr>\n",
       "  </tbody>\n",
       "</table>\n",
       "</div>"
      ],
      "text/plain": [
       "         id                                             name    host_id  \\\n",
       "0  11602914              Luxury home 100m2+garden in center!    3123809   \n",
       "1  13289321                      East is where your home is!   10259430   \n",
       "2  40779315  Amsterdam Central - LUXURY house in BUSY STREET  224969266   \n",
       "3   7820311                       great appartment down town     693472   \n",
       "4  27346603    Private room with canal view in peaceful area   41888346   \n",
       "\n",
       "   host_name            neighbourhood  latitude  longitude        room_type  \\\n",
       "0  Marjolein  De Pijp - Rivierenbuurt  52.35368    4.90177  Entire home/apt   \n",
       "1        Ana                 Oud-Oost  52.35728    4.92052  Entire home/apt   \n",
       "2       Mark             Centrum-West  52.37582    4.89850  Entire home/apt   \n",
       "3      Ayden               Westerpark  52.37792    4.87300  Entire home/apt   \n",
       "4     Alissa               Westerpark  52.38051    4.87493     Private room   \n",
       "\n",
       "   minimum_nights  number_of_reviews last_review  reviews_per_month  \\\n",
       "0               3                 13  15-02-2020               0.27   \n",
       "1               4                 14  19-06-2019               0.29   \n",
       "2               2                  9  16-03-2020               1.65   \n",
       "3               3                 42  17-02-2020               0.72   \n",
       "4               2                 89  26-02-2020               4.02   \n",
       "\n",
       "   calculated_host_listings_count  availability_365  price  \n",
       "0                               1                 0    220  \n",
       "1                               1                 0    110  \n",
       "2                               1                 7    100  \n",
       "3                               1                 0    130  \n",
       "4                               1                24     90  "
      ]
     },
     "execution_count": 839,
     "metadata": {},
     "output_type": "execute_result"
    }
   ],
   "source": [
    "dfz.head()"
   ]
  },
  {
   "cell_type": "code",
   "execution_count": 840,
   "metadata": {},
   "outputs": [],
   "source": [
    "dfz.drop(['name','host_name'], axis=1, inplace=True)"
   ]
  },
  {
   "cell_type": "code",
   "execution_count": 841,
   "metadata": {},
   "outputs": [
    {
     "name": "stdout",
     "output_type": "stream",
     "text": [
      "<class 'pandas.core.frame.DataFrame'>\n",
      "RangeIndex: 12901 entries, 0 to 12900\n",
      "Data columns (total 13 columns):\n",
      " #   Column                          Non-Null Count  Dtype  \n",
      "---  ------                          --------------  -----  \n",
      " 0   id                              12901 non-null  int64  \n",
      " 1   host_id                         12901 non-null  int64  \n",
      " 2   neighbourhood                   12901 non-null  object \n",
      " 3   latitude                        12901 non-null  float64\n",
      " 4   longitude                       12901 non-null  float64\n",
      " 5   room_type                       12901 non-null  object \n",
      " 6   minimum_nights                  12901 non-null  int64  \n",
      " 7   number_of_reviews               12901 non-null  int64  \n",
      " 8   last_review                     12901 non-null  object \n",
      " 9   reviews_per_month               12901 non-null  float64\n",
      " 10  calculated_host_listings_count  12901 non-null  int64  \n",
      " 11  availability_365                12901 non-null  int64  \n",
      " 12  price                           12901 non-null  int64  \n",
      "dtypes: float64(3), int64(7), object(3)\n",
      "memory usage: 1.3+ MB\n"
     ]
    }
   ],
   "source": [
    "dfz.info()"
   ]
  },
  {
   "cell_type": "code",
   "execution_count": 842,
   "metadata": {},
   "outputs": [],
   "source": [
    "dfz['neighbourhood'] = dfz['neighbourhood'].astype('category')"
   ]
  },
  {
   "cell_type": "code",
   "execution_count": 843,
   "metadata": {},
   "outputs": [],
   "source": [
    "dfz['neighbourhood'] = dfz['neighbourhood'].cat.codes"
   ]
  },
  {
   "cell_type": "code",
   "execution_count": 844,
   "metadata": {},
   "outputs": [
    {
     "data": {
      "text/plain": [
       "7     2209\n",
       "8     1600\n",
       "5     1429\n",
       "4     1097\n",
       "20     958\n",
       "21     924\n",
       "17     831\n",
       "2      730\n",
       "14     644\n",
       "19     381\n",
       "16     376\n",
       "11     321\n",
       "18     269\n",
       "13     257\n",
       "12     171\n",
       "3      155\n",
       "10     144\n",
       "6       88\n",
       "15      83\n",
       "9       80\n",
       "0       78\n",
       "1       76\n",
       "Name: neighbourhood, dtype: int64"
      ]
     },
     "execution_count": 844,
     "metadata": {},
     "output_type": "execute_result"
    }
   ],
   "source": [
    "dfz['neighbourhood'].value_counts()"
   ]
  },
  {
   "cell_type": "code",
   "execution_count": 845,
   "metadata": {},
   "outputs": [
    {
     "data": {
      "text/plain": [
       "Entire home/apt    10064\n",
       "Private room        2622\n",
       "Hotel room           174\n",
       "Shared room           41\n",
       "Name: room_type, dtype: int64"
      ]
     },
     "execution_count": 845,
     "metadata": {},
     "output_type": "execute_result"
    }
   ],
   "source": [
    "dfz['room_type'].value_counts()\n"
   ]
  },
  {
   "cell_type": "code",
   "execution_count": 846,
   "metadata": {},
   "outputs": [],
   "source": [
    "dfz = pd.get_dummies(dfz, columns=['room_type'])"
   ]
  },
  {
   "cell_type": "code",
   "execution_count": 848,
   "metadata": {},
   "outputs": [],
   "source": [
    "R = 6371000 \n",
    "lon,lat = map(np.radians, [dfz['longitude'], dfz['latitude']])\n",
    "\n",
    "a = np.sin(lat/2)**2 + np.cos(lat) * np.sin(lon/2)**2\n",
    "distance = 2 * R * np.arcsin(np.sqrt(a))\n",
    "\n",
    "dfz['distance'] = distance\n",
    "dfz.drop(['latitude', 'longitude'], axis = 1, inplace = True)"
   ]
  },
  {
   "cell_type": "code",
   "execution_count": 849,
   "metadata": {},
   "outputs": [
    {
     "data": {
      "text/plain": [
       "id                                  int64\n",
       "host_id                             int64\n",
       "neighbourhood                        int8\n",
       "minimum_nights                      int64\n",
       "number_of_reviews                   int64\n",
       "last_review                        object\n",
       "reviews_per_month                 float64\n",
       "calculated_host_listings_count      int64\n",
       "availability_365                    int64\n",
       "price                               int64\n",
       "room_type_Entire home/apt           uint8\n",
       "room_type_Hotel room                uint8\n",
       "room_type_Private room              uint8\n",
       "room_type_Shared room               uint8\n",
       "distance                          float64\n",
       "dtype: object"
      ]
     },
     "execution_count": 849,
     "metadata": {},
     "output_type": "execute_result"
    }
   ],
   "source": [
    "dfz.dtypes\n"
   ]
  },
  {
   "cell_type": "code",
   "execution_count": 850,
   "metadata": {},
   "outputs": [
    {
     "name": "stderr",
     "output_type": "stream",
     "text": [
      "C:\\Users\\tharu\\AppData\\Local\\Temp\\ipykernel_1156\\1154939665.py:1: FutureWarning: The default value of numeric_only in DataFrameGroupBy.mean is deprecated. In a future version, numeric_only will default to False. Either specify numeric_only or select only columns which should be valid for the function.\n",
      "  dfz.groupby('price').mean()\n"
     ]
    },
    {
     "data": {
      "text/html": [
       "<div>\n",
       "<style scoped>\n",
       "    .dataframe tbody tr th:only-of-type {\n",
       "        vertical-align: middle;\n",
       "    }\n",
       "\n",
       "    .dataframe tbody tr th {\n",
       "        vertical-align: top;\n",
       "    }\n",
       "\n",
       "    .dataframe thead th {\n",
       "        text-align: right;\n",
       "    }\n",
       "</style>\n",
       "<table border=\"1\" class=\"dataframe\">\n",
       "  <thead>\n",
       "    <tr style=\"text-align: right;\">\n",
       "      <th></th>\n",
       "      <th>id</th>\n",
       "      <th>host_id</th>\n",
       "      <th>neighbourhood</th>\n",
       "      <th>minimum_nights</th>\n",
       "      <th>number_of_reviews</th>\n",
       "      <th>reviews_per_month</th>\n",
       "      <th>calculated_host_listings_count</th>\n",
       "      <th>availability_365</th>\n",
       "      <th>room_type_Entire home/apt</th>\n",
       "      <th>room_type_Hotel room</th>\n",
       "      <th>room_type_Private room</th>\n",
       "      <th>room_type_Shared room</th>\n",
       "      <th>distance</th>\n",
       "    </tr>\n",
       "    <tr>\n",
       "      <th>price</th>\n",
       "      <th></th>\n",
       "      <th></th>\n",
       "      <th></th>\n",
       "      <th></th>\n",
       "      <th></th>\n",
       "      <th></th>\n",
       "      <th></th>\n",
       "      <th></th>\n",
       "      <th></th>\n",
       "      <th></th>\n",
       "      <th></th>\n",
       "      <th></th>\n",
       "      <th></th>\n",
       "    </tr>\n",
       "  </thead>\n",
       "  <tbody>\n",
       "    <tr>\n",
       "      <th>6</th>\n",
       "      <td>6764212.00</td>\n",
       "      <td>2.793078e+06</td>\n",
       "      <td>8.00</td>\n",
       "      <td>2.000</td>\n",
       "      <td>14.000</td>\n",
       "      <td>0.24000</td>\n",
       "      <td>1.000</td>\n",
       "      <td>0.000</td>\n",
       "      <td>1.000</td>\n",
       "      <td>0.000</td>\n",
       "      <td>0.00</td>\n",
       "      <td>0.0</td>\n",
       "      <td>5.839451e+06</td>\n",
       "    </tr>\n",
       "    <tr>\n",
       "      <th>10</th>\n",
       "      <td>40588320.00</td>\n",
       "      <td>3.138391e+08</td>\n",
       "      <td>16.00</td>\n",
       "      <td>1.000</td>\n",
       "      <td>5.000</td>\n",
       "      <td>0.79000</td>\n",
       "      <td>1.000</td>\n",
       "      <td>195.000</td>\n",
       "      <td>0.000</td>\n",
       "      <td>0.000</td>\n",
       "      <td>1.00</td>\n",
       "      <td>0.0</td>\n",
       "      <td>5.843177e+06</td>\n",
       "    </tr>\n",
       "    <tr>\n",
       "      <th>12</th>\n",
       "      <td>4009850.00</td>\n",
       "      <td>1.351304e+06</td>\n",
       "      <td>16.00</td>\n",
       "      <td>2.000</td>\n",
       "      <td>11.000</td>\n",
       "      <td>0.35000</td>\n",
       "      <td>1.000</td>\n",
       "      <td>0.000</td>\n",
       "      <td>1.000</td>\n",
       "      <td>0.000</td>\n",
       "      <td>0.00</td>\n",
       "      <td>0.0</td>\n",
       "      <td>5.842758e+06</td>\n",
       "    </tr>\n",
       "    <tr>\n",
       "      <th>19</th>\n",
       "      <td>11147683.00</td>\n",
       "      <td>3.420389e+07</td>\n",
       "      <td>2.00</td>\n",
       "      <td>6.000</td>\n",
       "      <td>4.000</td>\n",
       "      <td>0.08000</td>\n",
       "      <td>1.000</td>\n",
       "      <td>0.000</td>\n",
       "      <td>0.000</td>\n",
       "      <td>0.000</td>\n",
       "      <td>1.00</td>\n",
       "      <td>0.0</td>\n",
       "      <td>5.841070e+06</td>\n",
       "    </tr>\n",
       "    <tr>\n",
       "      <th>20</th>\n",
       "      <td>27910574.75</td>\n",
       "      <td>1.902505e+08</td>\n",
       "      <td>13.25</td>\n",
       "      <td>7.125</td>\n",
       "      <td>16.625</td>\n",
       "      <td>1.13625</td>\n",
       "      <td>7.875</td>\n",
       "      <td>311.125</td>\n",
       "      <td>0.125</td>\n",
       "      <td>0.625</td>\n",
       "      <td>0.25</td>\n",
       "      <td>0.0</td>\n",
       "      <td>5.841855e+06</td>\n",
       "    </tr>\n",
       "    <tr>\n",
       "      <th>...</th>\n",
       "      <td>...</td>\n",
       "      <td>...</td>\n",
       "      <td>...</td>\n",
       "      <td>...</td>\n",
       "      <td>...</td>\n",
       "      <td>...</td>\n",
       "      <td>...</td>\n",
       "      <td>...</td>\n",
       "      <td>...</td>\n",
       "      <td>...</td>\n",
       "      <td>...</td>\n",
       "      <td>...</td>\n",
       "      <td>...</td>\n",
       "    </tr>\n",
       "    <tr>\n",
       "      <th>5555</th>\n",
       "      <td>32355945.00</td>\n",
       "      <td>1.464510e+06</td>\n",
       "      <td>17.00</td>\n",
       "      <td>1.000</td>\n",
       "      <td>2.000</td>\n",
       "      <td>0.16000</td>\n",
       "      <td>78.000</td>\n",
       "      <td>0.000</td>\n",
       "      <td>1.000</td>\n",
       "      <td>0.000</td>\n",
       "      <td>0.00</td>\n",
       "      <td>0.0</td>\n",
       "      <td>5.840046e+06</td>\n",
       "    </tr>\n",
       "    <tr>\n",
       "      <th>6477</th>\n",
       "      <td>43121886.00</td>\n",
       "      <td>3.186499e+08</td>\n",
       "      <td>4.00</td>\n",
       "      <td>1.000</td>\n",
       "      <td>0.000</td>\n",
       "      <td>0.00000</td>\n",
       "      <td>6.000</td>\n",
       "      <td>343.000</td>\n",
       "      <td>0.000</td>\n",
       "      <td>0.000</td>\n",
       "      <td>1.00</td>\n",
       "      <td>0.0</td>\n",
       "      <td>5.841218e+06</td>\n",
       "    </tr>\n",
       "    <tr>\n",
       "      <th>7000</th>\n",
       "      <td>41911423.75</td>\n",
       "      <td>3.166810e+08</td>\n",
       "      <td>5.00</td>\n",
       "      <td>1.000</td>\n",
       "      <td>0.000</td>\n",
       "      <td>0.00000</td>\n",
       "      <td>5.000</td>\n",
       "      <td>364.750</td>\n",
       "      <td>0.000</td>\n",
       "      <td>0.000</td>\n",
       "      <td>1.00</td>\n",
       "      <td>0.0</td>\n",
       "      <td>5.841170e+06</td>\n",
       "    </tr>\n",
       "    <tr>\n",
       "      <th>7550</th>\n",
       "      <td>33842636.00</td>\n",
       "      <td>3.842541e+07</td>\n",
       "      <td>4.00</td>\n",
       "      <td>2.000</td>\n",
       "      <td>0.000</td>\n",
       "      <td>0.00000</td>\n",
       "      <td>1.000</td>\n",
       "      <td>89.000</td>\n",
       "      <td>0.000</td>\n",
       "      <td>0.000</td>\n",
       "      <td>1.00</td>\n",
       "      <td>0.0</td>\n",
       "      <td>5.840936e+06</td>\n",
       "    </tr>\n",
       "    <tr>\n",
       "      <th>9000</th>\n",
       "      <td>290701.00</td>\n",
       "      <td>1.491565e+06</td>\n",
       "      <td>5.00</td>\n",
       "      <td>3.000</td>\n",
       "      <td>317.000</td>\n",
       "      <td>3.13000</td>\n",
       "      <td>2.000</td>\n",
       "      <td>310.000</td>\n",
       "      <td>0.000</td>\n",
       "      <td>0.000</td>\n",
       "      <td>1.00</td>\n",
       "      <td>0.0</td>\n",
       "      <td>5.841830e+06</td>\n",
       "    </tr>\n",
       "  </tbody>\n",
       "</table>\n",
       "<p>400 rows × 13 columns</p>\n",
       "</div>"
      ],
      "text/plain": [
       "                id       host_id  neighbourhood  minimum_nights  \\\n",
       "price                                                             \n",
       "6       6764212.00  2.793078e+06           8.00           2.000   \n",
       "10     40588320.00  3.138391e+08          16.00           1.000   \n",
       "12      4009850.00  1.351304e+06          16.00           2.000   \n",
       "19     11147683.00  3.420389e+07           2.00           6.000   \n",
       "20     27910574.75  1.902505e+08          13.25           7.125   \n",
       "...            ...           ...            ...             ...   \n",
       "5555   32355945.00  1.464510e+06          17.00           1.000   \n",
       "6477   43121886.00  3.186499e+08           4.00           1.000   \n",
       "7000   41911423.75  3.166810e+08           5.00           1.000   \n",
       "7550   33842636.00  3.842541e+07           4.00           2.000   \n",
       "9000     290701.00  1.491565e+06           5.00           3.000   \n",
       "\n",
       "       number_of_reviews  reviews_per_month  calculated_host_listings_count  \\\n",
       "price                                                                         \n",
       "6                 14.000            0.24000                           1.000   \n",
       "10                 5.000            0.79000                           1.000   \n",
       "12                11.000            0.35000                           1.000   \n",
       "19                 4.000            0.08000                           1.000   \n",
       "20                16.625            1.13625                           7.875   \n",
       "...                  ...                ...                             ...   \n",
       "5555               2.000            0.16000                          78.000   \n",
       "6477               0.000            0.00000                           6.000   \n",
       "7000               0.000            0.00000                           5.000   \n",
       "7550               0.000            0.00000                           1.000   \n",
       "9000             317.000            3.13000                           2.000   \n",
       "\n",
       "       availability_365  room_type_Entire home/apt  room_type_Hotel room  \\\n",
       "price                                                                      \n",
       "6                 0.000                      1.000                 0.000   \n",
       "10              195.000                      0.000                 0.000   \n",
       "12                0.000                      1.000                 0.000   \n",
       "19                0.000                      0.000                 0.000   \n",
       "20              311.125                      0.125                 0.625   \n",
       "...                 ...                        ...                   ...   \n",
       "5555              0.000                      1.000                 0.000   \n",
       "6477            343.000                      0.000                 0.000   \n",
       "7000            364.750                      0.000                 0.000   \n",
       "7550             89.000                      0.000                 0.000   \n",
       "9000            310.000                      0.000                 0.000   \n",
       "\n",
       "       room_type_Private room  room_type_Shared room      distance  \n",
       "price                                                               \n",
       "6                        0.00                    0.0  5.839451e+06  \n",
       "10                       1.00                    0.0  5.843177e+06  \n",
       "12                       0.00                    0.0  5.842758e+06  \n",
       "19                       1.00                    0.0  5.841070e+06  \n",
       "20                       0.25                    0.0  5.841855e+06  \n",
       "...                       ...                    ...           ...  \n",
       "5555                     0.00                    0.0  5.840046e+06  \n",
       "6477                     1.00                    0.0  5.841218e+06  \n",
       "7000                     1.00                    0.0  5.841170e+06  \n",
       "7550                     1.00                    0.0  5.840936e+06  \n",
       "9000                     1.00                    0.0  5.841830e+06  \n",
       "\n",
       "[400 rows x 13 columns]"
      ]
     },
     "execution_count": 850,
     "metadata": {},
     "output_type": "execute_result"
    }
   ],
   "source": [
    "dfz.groupby('price').mean()\n"
   ]
  },
  {
   "cell_type": "code",
   "execution_count": 856,
   "metadata": {},
   "outputs": [],
   "source": [
    "dfz.drop(['last_review','reviews_per_month'], axis=1, inplace =True)"
   ]
  },
  {
   "cell_type": "code",
   "execution_count": 857,
   "metadata": {},
   "outputs": [],
   "source": [
    "X = dfz.drop('price', axis = 1)\n",
    "y = dfz['price']"
   ]
  },
  {
   "cell_type": "code",
   "execution_count": 858,
   "metadata": {},
   "outputs": [],
   "source": [
    "X_train, X_test, y_train, y_test = train_test_split(X, y, test_size=0.20, random_state=5)\n"
   ]
  },
  {
   "cell_type": "code",
   "execution_count": 859,
   "metadata": {},
   "outputs": [
    {
     "data": {
      "text/html": [
       "<div>\n",
       "<style scoped>\n",
       "    .dataframe tbody tr th:only-of-type {\n",
       "        vertical-align: middle;\n",
       "    }\n",
       "\n",
       "    .dataframe tbody tr th {\n",
       "        vertical-align: top;\n",
       "    }\n",
       "\n",
       "    .dataframe thead th {\n",
       "        text-align: right;\n",
       "    }\n",
       "</style>\n",
       "<table border=\"1\" class=\"dataframe\">\n",
       "  <thead>\n",
       "    <tr style=\"text-align: right;\">\n",
       "      <th></th>\n",
       "      <th>id</th>\n",
       "      <th>host_id</th>\n",
       "      <th>neighbourhood</th>\n",
       "      <th>minimum_nights</th>\n",
       "      <th>number_of_reviews</th>\n",
       "      <th>calculated_host_listings_count</th>\n",
       "      <th>availability_365</th>\n",
       "      <th>room_type_Entire home/apt</th>\n",
       "      <th>room_type_Hotel room</th>\n",
       "      <th>room_type_Private room</th>\n",
       "      <th>room_type_Shared room</th>\n",
       "      <th>distance</th>\n",
       "    </tr>\n",
       "  </thead>\n",
       "  <tbody>\n",
       "    <tr>\n",
       "      <th>1778</th>\n",
       "      <td>43002560</td>\n",
       "      <td>251542517</td>\n",
       "      <td>4</td>\n",
       "      <td>2</td>\n",
       "      <td>0</td>\n",
       "      <td>42</td>\n",
       "      <td>338</td>\n",
       "      <td>1</td>\n",
       "      <td>0</td>\n",
       "      <td>0</td>\n",
       "      <td>0</td>\n",
       "      <td>5.840582e+06</td>\n",
       "    </tr>\n",
       "    <tr>\n",
       "      <th>3115</th>\n",
       "      <td>29953708</td>\n",
       "      <td>2339287</td>\n",
       "      <td>8</td>\n",
       "      <td>4</td>\n",
       "      <td>11</td>\n",
       "      <td>1</td>\n",
       "      <td>177</td>\n",
       "      <td>1</td>\n",
       "      <td>0</td>\n",
       "      <td>0</td>\n",
       "      <td>0</td>\n",
       "      <td>5.839772e+06</td>\n",
       "    </tr>\n",
       "    <tr>\n",
       "      <th>11573</th>\n",
       "      <td>22094319</td>\n",
       "      <td>161403473</td>\n",
       "      <td>7</td>\n",
       "      <td>3</td>\n",
       "      <td>2</td>\n",
       "      <td>1</td>\n",
       "      <td>0</td>\n",
       "      <td>1</td>\n",
       "      <td>0</td>\n",
       "      <td>0</td>\n",
       "      <td>0</td>\n",
       "      <td>5.840481e+06</td>\n",
       "    </tr>\n",
       "  </tbody>\n",
       "</table>\n",
       "</div>"
      ],
      "text/plain": [
       "             id    host_id  neighbourhood  minimum_nights  number_of_reviews  \\\n",
       "1778   43002560  251542517              4               2                  0   \n",
       "3115   29953708    2339287              8               4                 11   \n",
       "11573  22094319  161403473              7               3                  2   \n",
       "\n",
       "       calculated_host_listings_count  availability_365  \\\n",
       "1778                               42               338   \n",
       "3115                                1               177   \n",
       "11573                               1                 0   \n",
       "\n",
       "       room_type_Entire home/apt  room_type_Hotel room  \\\n",
       "1778                           1                     0   \n",
       "3115                           1                     0   \n",
       "11573                          1                     0   \n",
       "\n",
       "       room_type_Private room  room_type_Shared room      distance  \n",
       "1778                        0                      0  5.840582e+06  \n",
       "3115                        0                      0  5.839772e+06  \n",
       "11573                       0                      0  5.840481e+06  "
      ]
     },
     "execution_count": 859,
     "metadata": {},
     "output_type": "execute_result"
    }
   ],
   "source": [
    "X_train = pd.DataFrame(X_train)\n",
    "X_test = pd.DataFrame(X_test)\n",
    "X_train.head(3)"
   ]
  },
  {
   "cell_type": "code",
   "execution_count": 865,
   "metadata": {},
   "outputs": [
    {
     "name": "stderr",
     "output_type": "stream",
     "text": [
      "<frozen importlib._bootstrap>:241: RuntimeWarning: numpy.ufunc size changed, may indicate binary incompatibility. Expected 216 from C header, got 232 from PyObject\n"
     ]
    }
   ],
   "source": [
    "from catboost import CatBoostRegressor\n",
    "from sklearn.model_selection import GridSearchCV"
   ]
  },
  {
   "cell_type": "code",
   "execution_count": 866,
   "metadata": {},
   "outputs": [
    {
     "name": "stderr",
     "output_type": "stream",
     "text": [
      "C:\\Users\\tharu\\AppData\\Roaming\\Python\\Python310\\site-packages\\sklearn\\model_selection\\_validation.py:378: FitFailedWarning: \n",
      "18 fits failed out of a total of 72.\n",
      "The score on these train-test partitions for these parameters will be set to nan.\n",
      "If these failures are not expected, you can try to debug them by setting error_score='raise'.\n",
      "\n",
      "Below are more details about the failures:\n",
      "--------------------------------------------------------------------------------\n",
      "18 fits failed with the following error:\n",
      "Traceback (most recent call last):\n",
      "  File \"C:\\Users\\tharu\\AppData\\Roaming\\Python\\Python310\\site-packages\\sklearn\\model_selection\\_validation.py\", line 686, in _fit_and_score\n",
      "    estimator.fit(X_train, y_train, **fit_params)\n",
      "  File \"C:\\Users\\tharu\\AppData\\Roaming\\Python\\Python310\\site-packages\\catboost\\core.py\", line 5730, in fit\n",
      "    return self._fit(X, y, cat_features, text_features, embedding_features, None, sample_weight, None, None, None, None, baseline,\n",
      "  File \"C:\\Users\\tharu\\AppData\\Roaming\\Python\\Python310\\site-packages\\catboost\\core.py\", line 2339, in _fit\n",
      "    train_params = self._prepare_train_params(\n",
      "  File \"C:\\Users\\tharu\\AppData\\Roaming\\Python\\Python310\\site-packages\\catboost\\core.py\", line 2266, in _prepare_train_params\n",
      "    _check_train_params(params)\n",
      "  File \"_catboost.pyx\", line 6080, in _catboost._check_train_params\n",
      "  File \"_catboost.pyx\", line 6099, in _catboost._check_train_params\n",
      "_catboost.CatBoostError: C:/Program Files (x86)/Go Agent/pipelines/BuildMaster/catboost.git/catboost/private/libs/options/oblivious_tree_options.cpp:125: Maximum tree depth is 16\n",
      "\n",
      "  warnings.warn(some_fits_failed_message, FitFailedWarning)\n",
      "C:\\Users\\tharu\\AppData\\Roaming\\Python\\Python310\\site-packages\\sklearn\\model_selection\\_search.py:952: UserWarning: One or more of the test scores are non-finite: [0.08802349 0.26727637 0.31133475 0.13293474 0.30881371 0.32758571\n",
      " 0.21224335 0.33840917 0.33601616 0.08713085 0.25527289 0.33011669\n",
      " 0.13146746 0.30974941 0.34797329 0.21160144 0.35493714 0.36130046\n",
      " 0.08529225 0.26527224 0.32852876 0.13163879 0.32183806 0.35383031\n",
      " 0.20994762 0.37024813 0.36554386        nan        nan        nan\n",
      "        nan        nan        nan        nan        nan        nan]\n",
      "  warnings.warn(\n"
     ]
    },
    {
     "name": "stdout",
     "output_type": "stream",
     "text": [
      "0:\tlearn: 244.4382825\ttotal: 162ms\tremaining: 16s\n",
      "1:\tlearn: 240.1185145\ttotal: 179ms\tremaining: 8.79s\n",
      "2:\tlearn: 236.1479290\ttotal: 198ms\tremaining: 6.39s\n",
      "3:\tlearn: 231.9562254\ttotal: 216ms\tremaining: 5.17s\n",
      "4:\tlearn: 228.1668169\ttotal: 236ms\tremaining: 4.49s\n",
      "5:\tlearn: 224.2159889\ttotal: 257ms\tremaining: 4.02s\n",
      "6:\tlearn: 220.7483249\ttotal: 282ms\tremaining: 3.75s\n",
      "7:\tlearn: 217.3534504\ttotal: 305ms\tremaining: 3.5s\n",
      "8:\tlearn: 214.1038554\ttotal: 339ms\tremaining: 3.43s\n",
      "9:\tlearn: 211.1783329\ttotal: 358ms\tremaining: 3.22s\n",
      "10:\tlearn: 208.5675474\ttotal: 380ms\tremaining: 3.08s\n",
      "11:\tlearn: 205.9405104\ttotal: 424ms\tremaining: 3.11s\n",
      "12:\tlearn: 203.5350374\ttotal: 453ms\tremaining: 3.03s\n",
      "13:\tlearn: 200.9682453\ttotal: 488ms\tremaining: 3s\n",
      "14:\tlearn: 198.8966547\ttotal: 521ms\tremaining: 2.95s\n",
      "15:\tlearn: 196.8866077\ttotal: 541ms\tremaining: 2.84s\n",
      "16:\tlearn: 194.9877525\ttotal: 563ms\tremaining: 2.75s\n",
      "17:\tlearn: 193.2770903\ttotal: 581ms\tremaining: 2.65s\n",
      "18:\tlearn: 191.5196857\ttotal: 597ms\tremaining: 2.54s\n",
      "19:\tlearn: 189.4254445\ttotal: 615ms\tremaining: 2.46s\n",
      "20:\tlearn: 187.8923895\ttotal: 638ms\tremaining: 2.4s\n",
      "21:\tlearn: 186.0052925\ttotal: 671ms\tremaining: 2.38s\n",
      "22:\tlearn: 184.4503103\ttotal: 702ms\tremaining: 2.35s\n",
      "23:\tlearn: 182.9774467\ttotal: 722ms\tremaining: 2.29s\n",
      "24:\tlearn: 181.9308309\ttotal: 742ms\tremaining: 2.23s\n",
      "25:\tlearn: 180.5699941\ttotal: 760ms\tremaining: 2.16s\n",
      "26:\tlearn: 179.3176380\ttotal: 779ms\tremaining: 2.11s\n",
      "27:\tlearn: 177.5165601\ttotal: 799ms\tremaining: 2.05s\n",
      "28:\tlearn: 175.7948874\ttotal: 823ms\tremaining: 2.01s\n",
      "29:\tlearn: 174.9121556\ttotal: 844ms\tremaining: 1.97s\n",
      "30:\tlearn: 173.9595197\ttotal: 866ms\tremaining: 1.93s\n",
      "31:\tlearn: 172.6885109\ttotal: 899ms\tremaining: 1.91s\n",
      "32:\tlearn: 171.3530538\ttotal: 913ms\tremaining: 1.85s\n",
      "33:\tlearn: 170.5993208\ttotal: 943ms\tremaining: 1.83s\n",
      "34:\tlearn: 169.6133187\ttotal: 960ms\tremaining: 1.78s\n",
      "35:\tlearn: 168.1924167\ttotal: 979ms\tremaining: 1.74s\n",
      "36:\tlearn: 167.4557737\ttotal: 997ms\tremaining: 1.7s\n",
      "37:\tlearn: 166.4936259\ttotal: 1.02s\tremaining: 1.66s\n",
      "38:\tlearn: 165.4879445\ttotal: 1.03s\tremaining: 1.62s\n",
      "39:\tlearn: 164.8829261\ttotal: 1.06s\tremaining: 1.59s\n",
      "40:\tlearn: 164.2863788\ttotal: 1.09s\tremaining: 1.56s\n",
      "41:\tlearn: 163.7414080\ttotal: 1.12s\tremaining: 1.55s\n",
      "42:\tlearn: 162.8689843\ttotal: 1.14s\tremaining: 1.51s\n",
      "43:\tlearn: 162.2531130\ttotal: 1.17s\tremaining: 1.49s\n",
      "44:\tlearn: 161.5102276\ttotal: 1.19s\tremaining: 1.45s\n",
      "45:\tlearn: 160.6136243\ttotal: 1.21s\tremaining: 1.42s\n",
      "46:\tlearn: 159.5545082\ttotal: 1.23s\tremaining: 1.38s\n",
      "47:\tlearn: 159.1129372\ttotal: 1.25s\tremaining: 1.35s\n",
      "48:\tlearn: 158.6085433\ttotal: 1.27s\tremaining: 1.32s\n",
      "49:\tlearn: 157.8921813\ttotal: 1.3s\tremaining: 1.3s\n",
      "50:\tlearn: 157.0666819\ttotal: 1.34s\tremaining: 1.29s\n",
      "51:\tlearn: 156.4207525\ttotal: 1.37s\tremaining: 1.27s\n",
      "52:\tlearn: 155.5333403\ttotal: 1.4s\tremaining: 1.24s\n",
      "53:\tlearn: 155.2302205\ttotal: 1.42s\tremaining: 1.21s\n",
      "54:\tlearn: 154.5172858\ttotal: 1.44s\tremaining: 1.18s\n",
      "55:\tlearn: 154.0234864\ttotal: 1.46s\tremaining: 1.15s\n",
      "56:\tlearn: 153.3509139\ttotal: 1.49s\tremaining: 1.12s\n",
      "57:\tlearn: 152.7818344\ttotal: 1.51s\tremaining: 1.1s\n",
      "58:\tlearn: 152.4070906\ttotal: 1.55s\tremaining: 1.08s\n",
      "59:\tlearn: 152.0052475\ttotal: 1.57s\tremaining: 1.05s\n",
      "60:\tlearn: 151.4406783\ttotal: 1.6s\tremaining: 1.02s\n",
      "61:\tlearn: 151.0435044\ttotal: 1.62s\tremaining: 994ms\n",
      "62:\tlearn: 150.6895011\ttotal: 1.63s\tremaining: 960ms\n",
      "63:\tlearn: 150.3291942\ttotal: 1.66s\tremaining: 931ms\n",
      "64:\tlearn: 149.8629877\ttotal: 1.67s\tremaining: 901ms\n",
      "65:\tlearn: 149.4608558\ttotal: 1.69s\tremaining: 873ms\n",
      "66:\tlearn: 149.2051772\ttotal: 1.72s\tremaining: 846ms\n",
      "67:\tlearn: 148.8208351\ttotal: 1.75s\tremaining: 822ms\n",
      "68:\tlearn: 148.4706642\ttotal: 1.78s\tremaining: 799ms\n",
      "69:\tlearn: 147.9818202\ttotal: 1.8s\tremaining: 774ms\n",
      "70:\tlearn: 147.5121810\ttotal: 1.82s\tremaining: 745ms\n",
      "71:\tlearn: 147.3162116\ttotal: 1.85s\tremaining: 719ms\n",
      "72:\tlearn: 146.9661448\ttotal: 1.87s\tremaining: 692ms\n",
      "73:\tlearn: 146.3735549\ttotal: 1.89s\tremaining: 665ms\n",
      "74:\tlearn: 145.9850284\ttotal: 1.92s\tremaining: 639ms\n",
      "75:\tlearn: 145.4870771\ttotal: 1.95s\tremaining: 614ms\n",
      "76:\tlearn: 145.3210722\ttotal: 1.98s\tremaining: 590ms\n",
      "77:\tlearn: 144.8551637\ttotal: 2s\tremaining: 564ms\n",
      "78:\tlearn: 144.6493999\ttotal: 2.02s\tremaining: 537ms\n",
      "79:\tlearn: 144.3550475\ttotal: 2.02s\tremaining: 506ms\n",
      "80:\tlearn: 144.0179605\ttotal: 2.05s\tremaining: 480ms\n",
      "81:\tlearn: 143.7268550\ttotal: 2.07s\tremaining: 454ms\n",
      "82:\tlearn: 143.4030353\ttotal: 2.09s\tremaining: 428ms\n",
      "83:\tlearn: 143.2627796\ttotal: 2.11s\tremaining: 402ms\n",
      "84:\tlearn: 142.5105266\ttotal: 2.13s\tremaining: 376ms\n",
      "85:\tlearn: 142.2030818\ttotal: 2.15s\tremaining: 351ms\n",
      "86:\tlearn: 141.8144488\ttotal: 2.18s\tremaining: 326ms\n",
      "87:\tlearn: 141.4119288\ttotal: 2.21s\tremaining: 301ms\n",
      "88:\tlearn: 141.1124413\ttotal: 2.23s\tremaining: 275ms\n",
      "89:\tlearn: 140.8362315\ttotal: 2.25s\tremaining: 249ms\n",
      "90:\tlearn: 140.4505062\ttotal: 2.27s\tremaining: 224ms\n",
      "91:\tlearn: 140.0531835\ttotal: 2.29s\tremaining: 199ms\n",
      "92:\tlearn: 139.7921091\ttotal: 2.29s\tremaining: 172ms\n",
      "93:\tlearn: 139.4689871\ttotal: 2.31s\tremaining: 148ms\n",
      "94:\tlearn: 139.1885858\ttotal: 2.34s\tremaining: 123ms\n",
      "95:\tlearn: 138.9265685\ttotal: 2.36s\tremaining: 98.4ms\n",
      "96:\tlearn: 138.6476472\ttotal: 2.39s\tremaining: 73.8ms\n",
      "97:\tlearn: 138.4685825\ttotal: 2.4s\tremaining: 49ms\n",
      "98:\tlearn: 138.2118647\ttotal: 2.43s\tremaining: 24.5ms\n",
      "99:\tlearn: 137.9817595\ttotal: 2.45s\tremaining: 0us\n"
     ]
    },
    {
     "data": {
      "text/html": [
       "<style>#sk-container-id-10 {color: black;background-color: white;}#sk-container-id-10 pre{padding: 0;}#sk-container-id-10 div.sk-toggleable {background-color: white;}#sk-container-id-10 label.sk-toggleable__label {cursor: pointer;display: block;width: 100%;margin-bottom: 0;padding: 0.3em;box-sizing: border-box;text-align: center;}#sk-container-id-10 label.sk-toggleable__label-arrow:before {content: \"▸\";float: left;margin-right: 0.25em;color: #696969;}#sk-container-id-10 label.sk-toggleable__label-arrow:hover:before {color: black;}#sk-container-id-10 div.sk-estimator:hover label.sk-toggleable__label-arrow:before {color: black;}#sk-container-id-10 div.sk-toggleable__content {max-height: 0;max-width: 0;overflow: hidden;text-align: left;background-color: #f0f8ff;}#sk-container-id-10 div.sk-toggleable__content pre {margin: 0.2em;color: black;border-radius: 0.25em;background-color: #f0f8ff;}#sk-container-id-10 input.sk-toggleable__control:checked~div.sk-toggleable__content {max-height: 200px;max-width: 100%;overflow: auto;}#sk-container-id-10 input.sk-toggleable__control:checked~label.sk-toggleable__label-arrow:before {content: \"▾\";}#sk-container-id-10 div.sk-estimator input.sk-toggleable__control:checked~label.sk-toggleable__label {background-color: #d4ebff;}#sk-container-id-10 div.sk-label input.sk-toggleable__control:checked~label.sk-toggleable__label {background-color: #d4ebff;}#sk-container-id-10 input.sk-hidden--visually {border: 0;clip: rect(1px 1px 1px 1px);clip: rect(1px, 1px, 1px, 1px);height: 1px;margin: -1px;overflow: hidden;padding: 0;position: absolute;width: 1px;}#sk-container-id-10 div.sk-estimator {font-family: monospace;background-color: #f0f8ff;border: 1px dotted black;border-radius: 0.25em;box-sizing: border-box;margin-bottom: 0.5em;}#sk-container-id-10 div.sk-estimator:hover {background-color: #d4ebff;}#sk-container-id-10 div.sk-parallel-item::after {content: \"\";width: 100%;border-bottom: 1px solid gray;flex-grow: 1;}#sk-container-id-10 div.sk-label:hover label.sk-toggleable__label {background-color: #d4ebff;}#sk-container-id-10 div.sk-serial::before {content: \"\";position: absolute;border-left: 1px solid gray;box-sizing: border-box;top: 0;bottom: 0;left: 50%;z-index: 0;}#sk-container-id-10 div.sk-serial {display: flex;flex-direction: column;align-items: center;background-color: white;padding-right: 0.2em;padding-left: 0.2em;position: relative;}#sk-container-id-10 div.sk-item {position: relative;z-index: 1;}#sk-container-id-10 div.sk-parallel {display: flex;align-items: stretch;justify-content: center;background-color: white;position: relative;}#sk-container-id-10 div.sk-item::before, #sk-container-id-10 div.sk-parallel-item::before {content: \"\";position: absolute;border-left: 1px solid gray;box-sizing: border-box;top: 0;bottom: 0;left: 50%;z-index: -1;}#sk-container-id-10 div.sk-parallel-item {display: flex;flex-direction: column;z-index: 1;position: relative;background-color: white;}#sk-container-id-10 div.sk-parallel-item:first-child::after {align-self: flex-end;width: 50%;}#sk-container-id-10 div.sk-parallel-item:last-child::after {align-self: flex-start;width: 50%;}#sk-container-id-10 div.sk-parallel-item:only-child::after {width: 0;}#sk-container-id-10 div.sk-dashed-wrapped {border: 1px dashed gray;margin: 0 0.4em 0.5em 0.4em;box-sizing: border-box;padding-bottom: 0.4em;background-color: white;}#sk-container-id-10 div.sk-label label {font-family: monospace;font-weight: bold;display: inline-block;line-height: 1.2em;}#sk-container-id-10 div.sk-label-container {text-align: center;}#sk-container-id-10 div.sk-container {/* jupyter's `normalize.less` sets `[hidden] { display: none; }` but bootstrap.min.css set `[hidden] { display: none !important; }` so we also need the `!important` here to be able to override the default hidden behavior on the sphinx rendered scikit-learn.org. See: https://github.com/scikit-learn/scikit-learn/issues/21755 */display: inline-block !important;position: relative;}#sk-container-id-10 div.sk-text-repr-fallback {display: none;}</style><div id=\"sk-container-id-10\" class=\"sk-top-container\"><div class=\"sk-text-repr-fallback\"><pre>GridSearchCV(cv=2,\n",
       "             estimator=&lt;catboost.core.CatBoostRegressor object at 0x0000021464EF7790&gt;,\n",
       "             n_jobs=-1,\n",
       "             param_grid={&#x27;depth&#x27;: [6, 8, 10, 21], &#x27;iterations&#x27;: [30, 50, 100],\n",
       "                         &#x27;learning_rate&#x27;: [0.01, 0.05, 0.1]})</pre><b>In a Jupyter environment, please rerun this cell to show the HTML representation or trust the notebook. <br />On GitHub, the HTML representation is unable to render, please try loading this page with nbviewer.org.</b></div><div class=\"sk-container\" hidden><div class=\"sk-item sk-dashed-wrapped\"><div class=\"sk-label-container\"><div class=\"sk-label sk-toggleable\"><input class=\"sk-toggleable__control sk-hidden--visually\" id=\"sk-estimator-id-10\" type=\"checkbox\" ><label for=\"sk-estimator-id-10\" class=\"sk-toggleable__label sk-toggleable__label-arrow\">GridSearchCV</label><div class=\"sk-toggleable__content\"><pre>GridSearchCV(cv=2,\n",
       "             estimator=&lt;catboost.core.CatBoostRegressor object at 0x0000021464EF7790&gt;,\n",
       "             n_jobs=-1,\n",
       "             param_grid={&#x27;depth&#x27;: [6, 8, 10, 21], &#x27;iterations&#x27;: [30, 50, 100],\n",
       "                         &#x27;learning_rate&#x27;: [0.01, 0.05, 0.1]})</pre></div></div></div><div class=\"sk-parallel\"><div class=\"sk-parallel-item\"><div class=\"sk-item\"><div class=\"sk-label-container\"><div class=\"sk-label sk-toggleable\"><input class=\"sk-toggleable__control sk-hidden--visually\" id=\"sk-estimator-id-11\" type=\"checkbox\" ><label for=\"sk-estimator-id-11\" class=\"sk-toggleable__label sk-toggleable__label-arrow\">estimator: CatBoostRegressor</label><div class=\"sk-toggleable__content\"><pre>&lt;catboost.core.CatBoostRegressor object at 0x0000021464EF7790&gt;</pre></div></div></div><div class=\"sk-serial\"><div class=\"sk-item\"><div class=\"sk-estimator sk-toggleable\"><input class=\"sk-toggleable__control sk-hidden--visually\" id=\"sk-estimator-id-12\" type=\"checkbox\" ><label for=\"sk-estimator-id-12\" class=\"sk-toggleable__label sk-toggleable__label-arrow\">CatBoostRegressor</label><div class=\"sk-toggleable__content\"><pre>&lt;catboost.core.CatBoostRegressor object at 0x0000021464EF7790&gt;</pre></div></div></div></div></div></div></div></div></div></div>"
      ],
      "text/plain": [
       "GridSearchCV(cv=2,\n",
       "             estimator=<catboost.core.CatBoostRegressor object at 0x0000021464EF7790>,\n",
       "             n_jobs=-1,\n",
       "             param_grid={'depth': [6, 8, 10, 21], 'iterations': [30, 50, 100],\n",
       "                         'learning_rate': [0.01, 0.05, 0.1]})"
      ]
     },
     "execution_count": 866,
     "metadata": {},
     "output_type": "execute_result"
    }
   ],
   "source": [
    "model = CatBoostRegressor(random_seed = 42 )\n",
    "parameters = {'depth'         : [6,8,10,21],\n",
    "                  'learning_rate' : [0.01, 0.05, 0.1],\n",
    "                  'iterations'    : [30, 50, 100]\n",
    "              }\n",
    "grid = GridSearchCV(estimator=model, param_grid = parameters, cv = 2, n_jobs=-1)\n",
    "grid.fit(X_train, y_train)"
   ]
  },
  {
   "cell_type": "code",
   "execution_count": 867,
   "metadata": {},
   "outputs": [],
   "source": [
    "pred = grid.predict(X_test)"
   ]
  },
  {
   "cell_type": "code",
   "execution_count": 868,
   "metadata": {},
   "outputs": [
    {
     "data": {
      "text/plain": [
       "0.11175927808523356"
      ]
     },
     "execution_count": 868,
     "metadata": {},
     "output_type": "execute_result"
    }
   ],
   "source": [
    "grid.score(X_test, y_test)\n"
   ]
  },
  {
   "cell_type": "code",
   "execution_count": 869,
   "metadata": {},
   "outputs": [
    {
     "data": {
      "text/plain": [
       "0.11175927808523356"
      ]
     },
     "execution_count": 869,
     "metadata": {},
     "output_type": "execute_result"
    }
   ],
   "source": [
    "r2_score(y_test, pred)"
   ]
  },
  {
   "cell_type": "code",
   "execution_count": 870,
   "metadata": {},
   "outputs": [
    {
     "name": "stdout",
     "output_type": "stream",
     "text": [
      "62.54765937124322\n",
      "24080.109181691554\n",
      "155.17766972632228\n"
     ]
    }
   ],
   "source": [
    "print(mean_absolute_error(y_test, pred), end='\\n')\n",
    "print(mean_squared_error(y_test, pred), end='\\n')\n",
    "print(np.sqrt(mean_squared_error(y_test, pred)))"
   ]
  },
  {
   "cell_type": "code",
   "execution_count": 873,
   "metadata": {},
   "outputs": [],
   "source": [
    "dfz_test = pd.read_csv(\"C:\\\\Users\\\\tharu\\\\Downloads\\\\airbnb_listing_validate.csv\")"
   ]
  },
  {
   "cell_type": "code",
   "execution_count": 875,
   "metadata": {},
   "outputs": [
    {
     "data": {
      "text/plain": [
       "Index(['id', 'host_id', 'neighbourhood', 'minimum_nights', 'number_of_reviews',\n",
       "       'calculated_host_listings_count', 'availability_365', 'price',\n",
       "       'room_type_Entire home/apt', 'room_type_Hotel room',\n",
       "       'room_type_Private room', 'room_type_Shared room', 'distance'],\n",
       "      dtype='object')"
      ]
     },
     "execution_count": 875,
     "metadata": {},
     "output_type": "execute_result"
    }
   ],
   "source": [
    "dfz.columns"
   ]
  },
  {
   "cell_type": "code",
   "execution_count": 876,
   "metadata": {},
   "outputs": [
    {
     "name": "stdout",
     "output_type": "stream",
     "text": [
      "<class 'pandas.core.frame.DataFrame'>\n",
      "RangeIndex: 6451 entries, 0 to 6450\n",
      "Data columns (total 15 columns):\n",
      " #   Column                          Non-Null Count  Dtype  \n",
      "---  ------                          --------------  -----  \n",
      " 0   id                              6451 non-null   int64  \n",
      " 1   name                            6440 non-null   object \n",
      " 2   host_id                         6451 non-null   int64  \n",
      " 3   host_name                       6448 non-null   object \n",
      " 4   neighbourhood_group             0 non-null      float64\n",
      " 5   neighbourhood                   6451 non-null   object \n",
      " 6   latitude                        6451 non-null   float64\n",
      " 7   longitude                       6451 non-null   float64\n",
      " 8   room_type                       6451 non-null   object \n",
      " 9   minimum_nights                  6451 non-null   int64  \n",
      " 10  number_of_reviews               6451 non-null   int64  \n",
      " 11  last_review                     5655 non-null   object \n",
      " 12  reviews_per_month               5655 non-null   float64\n",
      " 13  calculated_host_listings_count  6451 non-null   int64  \n",
      " 14  availability_365                6451 non-null   int64  \n",
      "dtypes: float64(4), int64(6), object(5)\n",
      "memory usage: 756.1+ KB\n"
     ]
    }
   ],
   "source": [
    "dfz_test.info()"
   ]
  },
  {
   "cell_type": "code",
   "execution_count": 877,
   "metadata": {},
   "outputs": [
    {
     "data": {
      "text/plain": [
       "id                                   0\n",
       "name                                11\n",
       "host_id                              0\n",
       "host_name                            3\n",
       "neighbourhood_group               6451\n",
       "neighbourhood                        0\n",
       "latitude                             0\n",
       "longitude                            0\n",
       "room_type                            0\n",
       "minimum_nights                       0\n",
       "number_of_reviews                    0\n",
       "last_review                        796\n",
       "reviews_per_month                  796\n",
       "calculated_host_listings_count       0\n",
       "availability_365                     0\n",
       "dtype: int64"
      ]
     },
     "execution_count": 877,
     "metadata": {},
     "output_type": "execute_result"
    }
   ],
   "source": [
    "dfz_test.isna().sum()"
   ]
  },
  {
   "cell_type": "code",
   "execution_count": 878,
   "metadata": {},
   "outputs": [],
   "source": [
    "dfz_test.drop(['name','host_name','neighbourhood_group', 'last_review','reviews_per_month'], axis=1, inplace =True)"
   ]
  },
  {
   "cell_type": "code",
   "execution_count": 879,
   "metadata": {},
   "outputs": [
    {
     "data": {
      "text/plain": [
       "id                                   int64\n",
       "host_id                              int64\n",
       "neighbourhood                     category\n",
       "latitude                           float64\n",
       "longitude                          float64\n",
       "room_type                           object\n",
       "minimum_nights                       int64\n",
       "number_of_reviews                    int64\n",
       "calculated_host_listings_count       int64\n",
       "availability_365                     int64\n",
       "dtype: object"
      ]
     },
     "execution_count": 879,
     "metadata": {},
     "output_type": "execute_result"
    }
   ],
   "source": [
    "dfz_test['neighbourhood'] = dfz_test['neighbourhood'].astype('category')\n",
    "dfz_test.dtypes"
   ]
  },
  {
   "cell_type": "code",
   "execution_count": 881,
   "metadata": {},
   "outputs": [],
   "source": [
    "dfz_test['neighbourhood'] = dfz_test['neighbourhood'].cat.codes"
   ]
  },
  {
   "cell_type": "code",
   "execution_count": 882,
   "metadata": {},
   "outputs": [],
   "source": [
    "dfz_test = pd.get_dummies(dfz_test, columns=['room_type'])"
   ]
  },
  {
   "cell_type": "code",
   "execution_count": 883,
   "metadata": {},
   "outputs": [],
   "source": [
    "R = 6371000 \n",
    "lon,lat = map(np.radians, [dfz_test['longitude'], dfz_test['latitude']])\n",
    "\n",
    "a = np.sin(lat/2)**2 + np.cos(lat) * np.sin(lon/2)**2\n",
    "distance = 2 * R * np.arcsin(np.sqrt(a))\n",
    "\n",
    "dfz_test['distance'] = distance\n",
    "dfz_test.drop(['latitude', 'longitude'], axis = 1, inplace = True)"
   ]
  },
  {
   "cell_type": "code",
   "execution_count": 884,
   "metadata": {},
   "outputs": [
    {
     "data": {
      "text/plain": [
       "Index(['id', 'host_id', 'neighbourhood', 'minimum_nights', 'number_of_reviews',\n",
       "       'calculated_host_listings_count', 'availability_365',\n",
       "       'room_type_Entire home/apt', 'room_type_Hotel room',\n",
       "       'room_type_Private room', 'room_type_Shared room', 'distance'],\n",
       "      dtype='object')"
      ]
     },
     "execution_count": 884,
     "metadata": {},
     "output_type": "execute_result"
    }
   ],
   "source": [
    "dfz_test.columns"
   ]
  },
  {
   "cell_type": "code",
   "execution_count": 885,
   "metadata": {},
   "outputs": [
    {
     "name": "stdout",
     "output_type": "stream",
     "text": [
      "<class 'pandas.core.frame.DataFrame'>\n",
      "RangeIndex: 6451 entries, 0 to 6450\n",
      "Data columns (total 12 columns):\n",
      " #   Column                          Non-Null Count  Dtype  \n",
      "---  ------                          --------------  -----  \n",
      " 0   id                              6451 non-null   int64  \n",
      " 1   host_id                         6451 non-null   int64  \n",
      " 2   neighbourhood                   6451 non-null   int8   \n",
      " 3   minimum_nights                  6451 non-null   int64  \n",
      " 4   number_of_reviews               6451 non-null   int64  \n",
      " 5   calculated_host_listings_count  6451 non-null   int64  \n",
      " 6   availability_365                6451 non-null   int64  \n",
      " 7   room_type_Entire home/apt       6451 non-null   uint8  \n",
      " 8   room_type_Hotel room            6451 non-null   uint8  \n",
      " 9   room_type_Private room          6451 non-null   uint8  \n",
      " 10  room_type_Shared room           6451 non-null   uint8  \n",
      " 11  distance                        6451 non-null   float64\n",
      "dtypes: float64(1), int64(6), int8(1), uint8(4)\n",
      "memory usage: 384.4 KB\n"
     ]
    }
   ],
   "source": [
    "dfz_test.info()\n"
   ]
  },
  {
   "cell_type": "code",
   "execution_count": 886,
   "metadata": {},
   "outputs": [
    {
     "name": "stderr",
     "output_type": "stream",
     "text": [
      "C:\\Users\\tharu\\AppData\\Roaming\\Python\\Python310\\site-packages\\sklearn\\model_selection\\_validation.py:378: FitFailedWarning: \n",
      "18 fits failed out of a total of 72.\n",
      "The score on these train-test partitions for these parameters will be set to nan.\n",
      "If these failures are not expected, you can try to debug them by setting error_score='raise'.\n",
      "\n",
      "Below are more details about the failures:\n",
      "--------------------------------------------------------------------------------\n",
      "18 fits failed with the following error:\n",
      "Traceback (most recent call last):\n",
      "  File \"C:\\Users\\tharu\\AppData\\Roaming\\Python\\Python310\\site-packages\\sklearn\\model_selection\\_validation.py\", line 686, in _fit_and_score\n",
      "    estimator.fit(X_train, y_train, **fit_params)\n",
      "  File \"C:\\Users\\tharu\\AppData\\Roaming\\Python\\Python310\\site-packages\\catboost\\core.py\", line 5730, in fit\n",
      "    return self._fit(X, y, cat_features, text_features, embedding_features, None, sample_weight, None, None, None, None, baseline,\n",
      "  File \"C:\\Users\\tharu\\AppData\\Roaming\\Python\\Python310\\site-packages\\catboost\\core.py\", line 2339, in _fit\n",
      "    train_params = self._prepare_train_params(\n",
      "  File \"C:\\Users\\tharu\\AppData\\Roaming\\Python\\Python310\\site-packages\\catboost\\core.py\", line 2266, in _prepare_train_params\n",
      "    _check_train_params(params)\n",
      "  File \"_catboost.pyx\", line 6080, in _catboost._check_train_params\n",
      "  File \"_catboost.pyx\", line 6099, in _catboost._check_train_params\n",
      "_catboost.CatBoostError: C:/Program Files (x86)/Go Agent/pipelines/BuildMaster/catboost.git/catboost/private/libs/options/oblivious_tree_options.cpp:125: Maximum tree depth is 16\n",
      "\n",
      "  warnings.warn(some_fits_failed_message, FitFailedWarning)\n",
      "C:\\Users\\tharu\\AppData\\Roaming\\Python\\Python310\\site-packages\\sklearn\\model_selection\\_search.py:952: UserWarning: One or more of the test scores are non-finite: [0.06898614 0.17818992 0.20541809 0.10773378 0.20739047 0.21229702\n",
      " 0.1658843  0.22332431 0.20335458 0.07305196 0.21548094 0.25554925\n",
      " 0.1100551  0.25125999 0.26824    0.17218789 0.28286309 0.27846513\n",
      " 0.07248748 0.19857127 0.26700248 0.10866345 0.24343543 0.29063038\n",
      " 0.17433802 0.27110168 0.29781997        nan        nan        nan\n",
      "        nan        nan        nan        nan        nan        nan]\n",
      "  warnings.warn(\n"
     ]
    },
    {
     "name": "stdout",
     "output_type": "stream",
     "text": [
      "0:\tlearn: 226.8804979\ttotal: 35.1ms\tremaining: 3.47s\n",
      "1:\tlearn: 219.7382604\ttotal: 67.7ms\tremaining: 3.32s\n",
      "2:\tlearn: 213.6310975\ttotal: 99.5ms\tremaining: 3.21s\n",
      "3:\tlearn: 207.8563910\ttotal: 127ms\tremaining: 3.05s\n",
      "4:\tlearn: 202.2634806\ttotal: 153ms\tremaining: 2.9s\n",
      "5:\tlearn: 197.5928495\ttotal: 179ms\tremaining: 2.8s\n",
      "6:\tlearn: 194.2531726\ttotal: 210ms\tremaining: 2.79s\n",
      "7:\tlearn: 191.4235273\ttotal: 245ms\tremaining: 2.81s\n",
      "8:\tlearn: 187.9726597\ttotal: 321ms\tremaining: 3.25s\n",
      "9:\tlearn: 184.7710159\ttotal: 430ms\tremaining: 3.87s\n",
      "10:\tlearn: 182.0696438\ttotal: 483ms\tremaining: 3.91s\n",
      "11:\tlearn: 179.5887931\ttotal: 520ms\tremaining: 3.81s\n",
      "12:\tlearn: 176.9082028\ttotal: 558ms\tremaining: 3.73s\n",
      "13:\tlearn: 174.1498182\ttotal: 592ms\tremaining: 3.64s\n",
      "14:\tlearn: 171.8225554\ttotal: 622ms\tremaining: 3.52s\n",
      "15:\tlearn: 170.0824987\ttotal: 660ms\tremaining: 3.46s\n",
      "16:\tlearn: 168.9389340\ttotal: 683ms\tremaining: 3.33s\n",
      "17:\tlearn: 166.8862484\ttotal: 707ms\tremaining: 3.22s\n",
      "18:\tlearn: 165.3678104\ttotal: 737ms\tremaining: 3.14s\n",
      "19:\tlearn: 163.0756774\ttotal: 764ms\tremaining: 3.06s\n",
      "20:\tlearn: 162.1963891\ttotal: 798ms\tremaining: 3s\n",
      "21:\tlearn: 160.4702149\ttotal: 831ms\tremaining: 2.94s\n",
      "22:\tlearn: 158.7198651\ttotal: 861ms\tremaining: 2.88s\n",
      "23:\tlearn: 157.9151568\ttotal: 887ms\tremaining: 2.81s\n",
      "24:\tlearn: 157.0133087\ttotal: 914ms\tremaining: 2.74s\n",
      "25:\tlearn: 156.1349072\ttotal: 937ms\tremaining: 2.67s\n",
      "26:\tlearn: 155.0817919\ttotal: 966ms\tremaining: 2.61s\n",
      "27:\tlearn: 154.1428391\ttotal: 1s\tremaining: 2.58s\n",
      "28:\tlearn: 153.5151358\ttotal: 1.04s\tremaining: 2.55s\n",
      "29:\tlearn: 153.0059367\ttotal: 1.06s\tremaining: 2.49s\n",
      "30:\tlearn: 152.4962755\ttotal: 1.08s\tremaining: 2.42s\n",
      "31:\tlearn: 151.7844114\ttotal: 1.11s\tremaining: 2.35s\n",
      "32:\tlearn: 150.8976296\ttotal: 1.13s\tremaining: 2.3s\n",
      "33:\tlearn: 150.6041969\ttotal: 1.15s\tremaining: 2.24s\n",
      "34:\tlearn: 150.0324108\ttotal: 1.18s\tremaining: 2.19s\n",
      "35:\tlearn: 149.6050978\ttotal: 1.21s\tremaining: 2.15s\n",
      "36:\tlearn: 148.9431914\ttotal: 1.24s\tremaining: 2.1s\n",
      "37:\tlearn: 148.2060225\ttotal: 1.26s\tremaining: 2.06s\n",
      "38:\tlearn: 147.5564081\ttotal: 1.29s\tremaining: 2.01s\n",
      "39:\tlearn: 146.9283503\ttotal: 1.31s\tremaining: 1.97s\n",
      "40:\tlearn: 146.6570203\ttotal: 1.35s\tremaining: 1.95s\n",
      "41:\tlearn: 146.1761774\ttotal: 1.39s\tremaining: 1.92s\n",
      "42:\tlearn: 145.4604456\ttotal: 1.44s\tremaining: 1.9s\n",
      "43:\tlearn: 145.0993922\ttotal: 1.48s\tremaining: 1.88s\n",
      "44:\tlearn: 144.5127180\ttotal: 1.5s\tremaining: 1.84s\n",
      "45:\tlearn: 144.1043093\ttotal: 1.53s\tremaining: 1.8s\n",
      "46:\tlearn: 143.6384114\ttotal: 1.55s\tremaining: 1.75s\n",
      "47:\tlearn: 143.1668660\ttotal: 1.57s\tremaining: 1.71s\n",
      "48:\tlearn: 142.5531100\ttotal: 1.6s\tremaining: 1.67s\n",
      "49:\tlearn: 141.9182999\ttotal: 1.63s\tremaining: 1.63s\n",
      "50:\tlearn: 141.1773230\ttotal: 1.67s\tremaining: 1.6s\n",
      "51:\tlearn: 140.7211207\ttotal: 1.68s\tremaining: 1.55s\n",
      "52:\tlearn: 140.3489662\ttotal: 1.71s\tremaining: 1.52s\n",
      "53:\tlearn: 139.8666288\ttotal: 1.74s\tremaining: 1.49s\n",
      "54:\tlearn: 139.2920947\ttotal: 1.77s\tremaining: 1.45s\n",
      "55:\tlearn: 138.3656494\ttotal: 1.79s\tremaining: 1.41s\n",
      "56:\tlearn: 137.8572478\ttotal: 1.81s\tremaining: 1.36s\n",
      "57:\tlearn: 137.6518243\ttotal: 1.83s\tremaining: 1.32s\n",
      "58:\tlearn: 137.1027115\ttotal: 1.84s\tremaining: 1.28s\n",
      "59:\tlearn: 136.6422019\ttotal: 1.86s\tremaining: 1.24s\n",
      "60:\tlearn: 135.9510648\ttotal: 1.87s\tremaining: 1.2s\n",
      "61:\tlearn: 135.5296286\ttotal: 1.88s\tremaining: 1.15s\n",
      "62:\tlearn: 135.0210152\ttotal: 1.9s\tremaining: 1.12s\n",
      "63:\tlearn: 134.6462167\ttotal: 1.92s\tremaining: 1.08s\n",
      "64:\tlearn: 134.2102350\ttotal: 1.94s\tremaining: 1.04s\n",
      "65:\tlearn: 133.8602600\ttotal: 1.95s\tremaining: 1s\n",
      "66:\tlearn: 133.4761792\ttotal: 1.97s\tremaining: 970ms\n",
      "67:\tlearn: 133.2329683\ttotal: 1.99s\tremaining: 934ms\n",
      "68:\tlearn: 132.7679651\ttotal: 2s\tremaining: 900ms\n",
      "69:\tlearn: 132.5081333\ttotal: 2.02s\tremaining: 867ms\n",
      "70:\tlearn: 132.1176042\ttotal: 2.04s\tremaining: 833ms\n",
      "71:\tlearn: 131.8725014\ttotal: 2.06s\tremaining: 800ms\n",
      "72:\tlearn: 131.6935532\ttotal: 2.07s\tremaining: 767ms\n",
      "73:\tlearn: 131.2980765\ttotal: 2.09s\tremaining: 735ms\n",
      "74:\tlearn: 130.6098718\ttotal: 2.11s\tremaining: 702ms\n",
      "75:\tlearn: 129.8452844\ttotal: 2.12s\tremaining: 671ms\n",
      "76:\tlearn: 129.4024202\ttotal: 2.14s\tremaining: 639ms\n",
      "77:\tlearn: 129.0425065\ttotal: 2.16s\tremaining: 608ms\n",
      "78:\tlearn: 128.7545833\ttotal: 2.17s\tremaining: 578ms\n",
      "79:\tlearn: 128.3632008\ttotal: 2.19s\tremaining: 548ms\n",
      "80:\tlearn: 128.1120783\ttotal: 2.21s\tremaining: 518ms\n",
      "81:\tlearn: 127.9059795\ttotal: 2.22s\tremaining: 488ms\n",
      "82:\tlearn: 127.7705114\ttotal: 2.24s\tremaining: 459ms\n",
      "83:\tlearn: 127.5186619\ttotal: 2.26s\tremaining: 431ms\n",
      "84:\tlearn: 127.2497920\ttotal: 2.28s\tremaining: 402ms\n",
      "85:\tlearn: 127.0093790\ttotal: 2.28s\tremaining: 371ms\n",
      "86:\tlearn: 126.7776904\ttotal: 2.3s\tremaining: 344ms\n",
      "87:\tlearn: 126.4273432\ttotal: 2.32s\tremaining: 317ms\n",
      "88:\tlearn: 126.1517264\ttotal: 2.34s\tremaining: 290ms\n",
      "89:\tlearn: 125.8768447\ttotal: 2.36s\tremaining: 263ms\n",
      "90:\tlearn: 125.8618218\ttotal: 2.37s\tremaining: 234ms\n",
      "91:\tlearn: 125.0513071\ttotal: 2.4s\tremaining: 208ms\n",
      "92:\tlearn: 124.7010858\ttotal: 2.41s\tremaining: 182ms\n",
      "93:\tlearn: 124.5262361\ttotal: 2.43s\tremaining: 155ms\n",
      "94:\tlearn: 124.3365020\ttotal: 2.46s\tremaining: 129ms\n",
      "95:\tlearn: 124.1190343\ttotal: 2.48s\tremaining: 103ms\n",
      "96:\tlearn: 123.6388904\ttotal: 2.51s\tremaining: 77.6ms\n",
      "97:\tlearn: 123.4404361\ttotal: 2.52s\tremaining: 51.5ms\n",
      "98:\tlearn: 123.2393148\ttotal: 2.55s\tremaining: 25.8ms\n",
      "99:\tlearn: 122.6569854\ttotal: 2.58s\tremaining: 0us\n"
     ]
    },
    {
     "data": {
      "text/html": [
       "<style>#sk-container-id-11 {color: black;background-color: white;}#sk-container-id-11 pre{padding: 0;}#sk-container-id-11 div.sk-toggleable {background-color: white;}#sk-container-id-11 label.sk-toggleable__label {cursor: pointer;display: block;width: 100%;margin-bottom: 0;padding: 0.3em;box-sizing: border-box;text-align: center;}#sk-container-id-11 label.sk-toggleable__label-arrow:before {content: \"▸\";float: left;margin-right: 0.25em;color: #696969;}#sk-container-id-11 label.sk-toggleable__label-arrow:hover:before {color: black;}#sk-container-id-11 div.sk-estimator:hover label.sk-toggleable__label-arrow:before {color: black;}#sk-container-id-11 div.sk-toggleable__content {max-height: 0;max-width: 0;overflow: hidden;text-align: left;background-color: #f0f8ff;}#sk-container-id-11 div.sk-toggleable__content pre {margin: 0.2em;color: black;border-radius: 0.25em;background-color: #f0f8ff;}#sk-container-id-11 input.sk-toggleable__control:checked~div.sk-toggleable__content {max-height: 200px;max-width: 100%;overflow: auto;}#sk-container-id-11 input.sk-toggleable__control:checked~label.sk-toggleable__label-arrow:before {content: \"▾\";}#sk-container-id-11 div.sk-estimator input.sk-toggleable__control:checked~label.sk-toggleable__label {background-color: #d4ebff;}#sk-container-id-11 div.sk-label input.sk-toggleable__control:checked~label.sk-toggleable__label {background-color: #d4ebff;}#sk-container-id-11 input.sk-hidden--visually {border: 0;clip: rect(1px 1px 1px 1px);clip: rect(1px, 1px, 1px, 1px);height: 1px;margin: -1px;overflow: hidden;padding: 0;position: absolute;width: 1px;}#sk-container-id-11 div.sk-estimator {font-family: monospace;background-color: #f0f8ff;border: 1px dotted black;border-radius: 0.25em;box-sizing: border-box;margin-bottom: 0.5em;}#sk-container-id-11 div.sk-estimator:hover {background-color: #d4ebff;}#sk-container-id-11 div.sk-parallel-item::after {content: \"\";width: 100%;border-bottom: 1px solid gray;flex-grow: 1;}#sk-container-id-11 div.sk-label:hover label.sk-toggleable__label {background-color: #d4ebff;}#sk-container-id-11 div.sk-serial::before {content: \"\";position: absolute;border-left: 1px solid gray;box-sizing: border-box;top: 0;bottom: 0;left: 50%;z-index: 0;}#sk-container-id-11 div.sk-serial {display: flex;flex-direction: column;align-items: center;background-color: white;padding-right: 0.2em;padding-left: 0.2em;position: relative;}#sk-container-id-11 div.sk-item {position: relative;z-index: 1;}#sk-container-id-11 div.sk-parallel {display: flex;align-items: stretch;justify-content: center;background-color: white;position: relative;}#sk-container-id-11 div.sk-item::before, #sk-container-id-11 div.sk-parallel-item::before {content: \"\";position: absolute;border-left: 1px solid gray;box-sizing: border-box;top: 0;bottom: 0;left: 50%;z-index: -1;}#sk-container-id-11 div.sk-parallel-item {display: flex;flex-direction: column;z-index: 1;position: relative;background-color: white;}#sk-container-id-11 div.sk-parallel-item:first-child::after {align-self: flex-end;width: 50%;}#sk-container-id-11 div.sk-parallel-item:last-child::after {align-self: flex-start;width: 50%;}#sk-container-id-11 div.sk-parallel-item:only-child::after {width: 0;}#sk-container-id-11 div.sk-dashed-wrapped {border: 1px dashed gray;margin: 0 0.4em 0.5em 0.4em;box-sizing: border-box;padding-bottom: 0.4em;background-color: white;}#sk-container-id-11 div.sk-label label {font-family: monospace;font-weight: bold;display: inline-block;line-height: 1.2em;}#sk-container-id-11 div.sk-label-container {text-align: center;}#sk-container-id-11 div.sk-container {/* jupyter's `normalize.less` sets `[hidden] { display: none; }` but bootstrap.min.css set `[hidden] { display: none !important; }` so we also need the `!important` here to be able to override the default hidden behavior on the sphinx rendered scikit-learn.org. See: https://github.com/scikit-learn/scikit-learn/issues/21755 */display: inline-block !important;position: relative;}#sk-container-id-11 div.sk-text-repr-fallback {display: none;}</style><div id=\"sk-container-id-11\" class=\"sk-top-container\"><div class=\"sk-text-repr-fallback\"><pre>GridSearchCV(cv=2,\n",
       "             estimator=&lt;catboost.core.CatBoostRegressor object at 0x0000021456BDA9E0&gt;,\n",
       "             n_jobs=-1,\n",
       "             param_grid={&#x27;depth&#x27;: [6, 8, 10, 21], &#x27;iterations&#x27;: [30, 50, 100],\n",
       "                         &#x27;learning_rate&#x27;: [0.01, 0.05, 0.1]})</pre><b>In a Jupyter environment, please rerun this cell to show the HTML representation or trust the notebook. <br />On GitHub, the HTML representation is unable to render, please try loading this page with nbviewer.org.</b></div><div class=\"sk-container\" hidden><div class=\"sk-item sk-dashed-wrapped\"><div class=\"sk-label-container\"><div class=\"sk-label sk-toggleable\"><input class=\"sk-toggleable__control sk-hidden--visually\" id=\"sk-estimator-id-13\" type=\"checkbox\" ><label for=\"sk-estimator-id-13\" class=\"sk-toggleable__label sk-toggleable__label-arrow\">GridSearchCV</label><div class=\"sk-toggleable__content\"><pre>GridSearchCV(cv=2,\n",
       "             estimator=&lt;catboost.core.CatBoostRegressor object at 0x0000021456BDA9E0&gt;,\n",
       "             n_jobs=-1,\n",
       "             param_grid={&#x27;depth&#x27;: [6, 8, 10, 21], &#x27;iterations&#x27;: [30, 50, 100],\n",
       "                         &#x27;learning_rate&#x27;: [0.01, 0.05, 0.1]})</pre></div></div></div><div class=\"sk-parallel\"><div class=\"sk-parallel-item\"><div class=\"sk-item\"><div class=\"sk-label-container\"><div class=\"sk-label sk-toggleable\"><input class=\"sk-toggleable__control sk-hidden--visually\" id=\"sk-estimator-id-14\" type=\"checkbox\" ><label for=\"sk-estimator-id-14\" class=\"sk-toggleable__label sk-toggleable__label-arrow\">estimator: CatBoostRegressor</label><div class=\"sk-toggleable__content\"><pre>&lt;catboost.core.CatBoostRegressor object at 0x0000021456BDA9E0&gt;</pre></div></div></div><div class=\"sk-serial\"><div class=\"sk-item\"><div class=\"sk-estimator sk-toggleable\"><input class=\"sk-toggleable__control sk-hidden--visually\" id=\"sk-estimator-id-15\" type=\"checkbox\" ><label for=\"sk-estimator-id-15\" class=\"sk-toggleable__label sk-toggleable__label-arrow\">CatBoostRegressor</label><div class=\"sk-toggleable__content\"><pre>&lt;catboost.core.CatBoostRegressor object at 0x0000021456BDA9E0&gt;</pre></div></div></div></div></div></div></div></div></div></div>"
      ],
      "text/plain": [
       "GridSearchCV(cv=2,\n",
       "             estimator=<catboost.core.CatBoostRegressor object at 0x0000021456BDA9E0>,\n",
       "             n_jobs=-1,\n",
       "             param_grid={'depth': [6, 8, 10, 21], 'iterations': [30, 50, 100],\n",
       "                         'learning_rate': [0.01, 0.05, 0.1]})"
      ]
     },
     "execution_count": 886,
     "metadata": {},
     "output_type": "execute_result"
    }
   ],
   "source": [
    "newmodel = CatBoostRegressor(random_seed = 42 )\n",
    "newparameters = {'depth'         : [6,8,10,21],\n",
    "                  'learning_rate' : [0.01, 0.05, 0.1],\n",
    "                  'iterations'    : [30, 50, 100]\n",
    "              }\n",
    "newgrid = GridSearchCV(estimator=newmodel, param_grid = newparameters, cv = 2, n_jobs=-1)\n",
    "newgrid.fit(X, y)"
   ]
  },
  {
   "cell_type": "code",
   "execution_count": 888,
   "metadata": {},
   "outputs": [],
   "source": [
    "testnew_pred = newgrid.predict(dfz_test)"
   ]
  },
  {
   "cell_type": "code",
   "execution_count": 890,
   "metadata": {},
   "outputs": [],
   "source": [
    "res = pd.DataFrame(testnew_pred)\n",
    "res.index = dfz_test.index \n",
    "res.index = dfz_test['id'] \n",
    "res.columns = ['price']"
   ]
  },
  {
   "cell_type": "code",
   "execution_count": 891,
   "metadata": {},
   "outputs": [],
   "source": [
    "res.to_csv('sample_submission.csv')"
   ]
  }
 ],
 "metadata": {
  "kernelspec": {
   "display_name": "Python 3 (ipykernel)",
   "language": "python",
   "name": "python3"
  },
  "language_info": {
   "codemirror_mode": {
    "name": "ipython",
    "version": 3
   },
   "file_extension": ".py",
   "mimetype": "text/x-python",
   "name": "python",
   "nbconvert_exporter": "python",
   "pygments_lexer": "ipython3",
   "version": "3.10.9"
  },
  "vscode": {
   "interpreter": {
    "hash": "26de051ba29f2982a8de78e945f0abaf191376122a1563185a90213a26c5da77"
   }
  }
 },
 "nbformat": 4,
 "nbformat_minor": 2
}
